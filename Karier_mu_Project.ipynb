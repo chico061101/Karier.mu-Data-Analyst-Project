{
  "nbformat": 4,
  "nbformat_minor": 0,
  "metadata": {
    "colab": {
      "provenance": [],
      "include_colab_link": true
    },
    "kernelspec": {
      "name": "python3",
      "display_name": "Python 3"
    },
    "language_info": {
      "name": "python"
    }
  },
  "cells": [
    {
      "cell_type": "markdown",
      "metadata": {
        "id": "view-in-github",
        "colab_type": "text"
      },
      "source": [
        "<a href=\"https://colab.research.google.com/github/chico061101/Karier.mu-Data-Analyst-Project/blob/main/Karier_mu_Project.ipynb\" target=\"_parent\"><img src=\"https://colab.research.google.com/assets/colab-badge.svg\" alt=\"Open In Colab\"/></a>"
      ]
    },
    {
      "cell_type": "code",
      "execution_count": 1,
      "metadata": {
        "id": "QyVp7_ejScMd"
      },
      "outputs": [],
      "source": [
        "import pandas as pd\n",
        "import matplotlib.pyplot as plt\n",
        "import numpy as np\n",
        "import seaborn as sns\n",
        "from pprint import pprint\n",
        "from time import time\n",
        "from scipy.stats import kruskal\n",
        "from sklearn.pipeline import Pipeline\n",
        "from sklearn.preprocessing import StandardScaler,PolynomialFeatures\n",
        "from sklearn.linear_model import LinearRegression\n",
        "from sklearn.impute import SimpleImputer\n",
        "from datetime import datetime\n",
        "import statsmodels.api as sa\n",
        "import statsmodels.formula.api as sm\n",
        "from scipy.stats import f_oneway\n",
        "from sklearn.cluster import KMeans, MiniBatchKMeans\n",
        "from sklearn.metrics import silhouette_score\n",
        "from sklearn.preprocessing import StandardScaler, OneHotEncoder\n",
        "%matplotlib inline"
      ]
    },
    {
      "cell_type": "markdown",
      "source": [
        "# 1. Cleaning Data"
      ],
      "metadata": {
        "id": "oMiCrzkXr18B"
      }
    },
    {
      "cell_type": "code",
      "source": [
        "import warnings\n",
        "warnings.filterwarnings('ignore')"
      ],
      "metadata": {
        "id": "7eIJPxlVqFhJ"
      },
      "execution_count": 2,
      "outputs": []
    },
    {
      "cell_type": "code",
      "source": [
        "# import data from excel\n",
        "data = pd.read_excel('Final_Projek.inate.xlsx')"
      ],
      "metadata": {
        "id": "3WTzSltjrYQQ"
      },
      "execution_count": 3,
      "outputs": []
    },
    {
      "cell_type": "code",
      "source": [
        "# show how many columns and rows\n",
        "data.shape"
      ],
      "metadata": {
        "id": "JS0oABmTrZti",
        "colab": {
          "base_uri": "https://localhost:8080/"
        },
        "outputId": "c5b83861-05e9-4704-856c-cf3fa04bf6ec"
      },
      "execution_count": 4,
      "outputs": [
        {
          "output_type": "execute_result",
          "data": {
            "text/plain": [
              "(11083, 7)"
            ]
          },
          "metadata": {},
          "execution_count": 4
        }
      ]
    },
    {
      "cell_type": "markdown",
      "source": [
        "###**Remove Duplicate Data**\n",
        "\n"
      ],
      "metadata": {
        "id": "jX8aCA1cr_Co"
      }
    },
    {
      "cell_type": "code",
      "source": [
        "data.info()"
      ],
      "metadata": {
        "id": "uh-l2BT2rbLO",
        "colab": {
          "base_uri": "https://localhost:8080/"
        },
        "outputId": "cfd6bb68-e3eb-44e6-b6a3-db38c321583a"
      },
      "execution_count": 5,
      "outputs": [
        {
          "output_type": "stream",
          "name": "stdout",
          "text": [
            "<class 'pandas.core.frame.DataFrame'>\n",
            "RangeIndex: 11083 entries, 0 to 11082\n",
            "Data columns (total 7 columns):\n",
            " #   Column         Non-Null Count  Dtype         \n",
            "---  ------         --------------  -----         \n",
            " 0   id_ujian       11083 non-null  object        \n",
            " 1   id_peserta     11083 non-null  object        \n",
            " 2   ujian_dimulai  11083 non-null  datetime64[ns]\n",
            " 3   ujian_ditutup  11083 non-null  datetime64[ns]\n",
            " 4   jenis_tes      11083 non-null  object        \n",
            " 5   timestamp_log  9194 non-null   datetime64[ns]\n",
            " 6   pesan_log      9194 non-null   object        \n",
            "dtypes: datetime64[ns](3), object(4)\n",
            "memory usage: 606.2+ KB\n"
          ]
        }
      ]
    },
    {
      "cell_type": "code",
      "source": [
        "# check if there is any duplicate\n",
        "print(f\"there are {data.duplicated().sum()} duplicates row\")"
      ],
      "metadata": {
        "id": "HIaZ5Ux6rcao",
        "colab": {
          "base_uri": "https://localhost:8080/"
        },
        "outputId": "c597cac9-7511-47e2-accd-1714246b970a"
      },
      "execution_count": 6,
      "outputs": [
        {
          "output_type": "stream",
          "name": "stdout",
          "text": [
            "there are 55 duplicates row\n"
          ]
        }
      ]
    },
    {
      "cell_type": "code",
      "source": [
        "# remove duplicates\n",
        "data = data.drop_duplicates().reset_index(drop=True)"
      ],
      "metadata": {
        "id": "4khB2_iLrd57"
      },
      "execution_count": 7,
      "outputs": []
    },
    {
      "cell_type": "code",
      "source": [
        "# check if it's work\n",
        "print(f\"there are {data.duplicated().sum()} duplicates row\")"
      ],
      "metadata": {
        "id": "P9XddH-arfNb",
        "colab": {
          "base_uri": "https://localhost:8080/"
        },
        "outputId": "a2f823e5-4907-4fe3-981a-6613f59fd8f7"
      },
      "execution_count": 8,
      "outputs": [
        {
          "output_type": "stream",
          "name": "stdout",
          "text": [
            "there are 0 duplicates row\n"
          ]
        }
      ]
    },
    {
      "cell_type": "markdown",
      "source": [
        "### Missing Value"
      ],
      "metadata": {
        "id": "zN3PcUby27ba"
      }
    },
    {
      "cell_type": "code",
      "source": [
        "# check if there is any missing value\n",
        "data.isna().sum()"
      ],
      "metadata": {
        "colab": {
          "base_uri": "https://localhost:8080/",
          "height": 303
        },
        "id": "B8i84l4lfJBe",
        "outputId": "5f3314f7-8fc7-40f9-9f97-3217eb863432"
      },
      "execution_count": 9,
      "outputs": [
        {
          "output_type": "execute_result",
          "data": {
            "text/plain": [
              "id_ujian            0\n",
              "id_peserta          0\n",
              "ujian_dimulai       0\n",
              "ujian_ditutup       0\n",
              "jenis_tes           0\n",
              "timestamp_log    1889\n",
              "pesan_log        1889\n",
              "dtype: int64"
            ],
            "text/html": [
              "<div>\n",
              "<style scoped>\n",
              "    .dataframe tbody tr th:only-of-type {\n",
              "        vertical-align: middle;\n",
              "    }\n",
              "\n",
              "    .dataframe tbody tr th {\n",
              "        vertical-align: top;\n",
              "    }\n",
              "\n",
              "    .dataframe thead th {\n",
              "        text-align: right;\n",
              "    }\n",
              "</style>\n",
              "<table border=\"1\" class=\"dataframe\">\n",
              "  <thead>\n",
              "    <tr style=\"text-align: right;\">\n",
              "      <th></th>\n",
              "      <th>0</th>\n",
              "    </tr>\n",
              "  </thead>\n",
              "  <tbody>\n",
              "    <tr>\n",
              "      <th>id_ujian</th>\n",
              "      <td>0</td>\n",
              "    </tr>\n",
              "    <tr>\n",
              "      <th>id_peserta</th>\n",
              "      <td>0</td>\n",
              "    </tr>\n",
              "    <tr>\n",
              "      <th>ujian_dimulai</th>\n",
              "      <td>0</td>\n",
              "    </tr>\n",
              "    <tr>\n",
              "      <th>ujian_ditutup</th>\n",
              "      <td>0</td>\n",
              "    </tr>\n",
              "    <tr>\n",
              "      <th>jenis_tes</th>\n",
              "      <td>0</td>\n",
              "    </tr>\n",
              "    <tr>\n",
              "      <th>timestamp_log</th>\n",
              "      <td>1889</td>\n",
              "    </tr>\n",
              "    <tr>\n",
              "      <th>pesan_log</th>\n",
              "      <td>1889</td>\n",
              "    </tr>\n",
              "  </tbody>\n",
              "</table>\n",
              "</div><br><label><b>dtype:</b> int64</label>"
            ]
          },
          "metadata": {},
          "execution_count": 9
        }
      ]
    },
    {
      "cell_type": "code",
      "source": [
        "# calculate median value\n",
        "median_value = data['timestamp_log'].median()"
      ],
      "metadata": {
        "id": "yoxrWumNrggn"
      },
      "execution_count": 10,
      "outputs": []
    },
    {
      "cell_type": "code",
      "source": [
        "# fill na value with median\n",
        "data['timestamp_log'].fillna(median_value, inplace=True)"
      ],
      "metadata": {
        "id": "bG6ertfurh9r"
      },
      "execution_count": 11,
      "outputs": []
    },
    {
      "cell_type": "code",
      "source": [
        "# check again\n",
        "data.isna().sum()"
      ],
      "metadata": {
        "id": "SmZuJIqxrjJk",
        "colab": {
          "base_uri": "https://localhost:8080/",
          "height": 303
        },
        "outputId": "65da8d27-efe5-41cb-8b3d-69958c96c83f"
      },
      "execution_count": 12,
      "outputs": [
        {
          "output_type": "execute_result",
          "data": {
            "text/plain": [
              "id_ujian            0\n",
              "id_peserta          0\n",
              "ujian_dimulai       0\n",
              "ujian_ditutup       0\n",
              "jenis_tes           0\n",
              "timestamp_log       0\n",
              "pesan_log        1889\n",
              "dtype: int64"
            ],
            "text/html": [
              "<div>\n",
              "<style scoped>\n",
              "    .dataframe tbody tr th:only-of-type {\n",
              "        vertical-align: middle;\n",
              "    }\n",
              "\n",
              "    .dataframe tbody tr th {\n",
              "        vertical-align: top;\n",
              "    }\n",
              "\n",
              "    .dataframe thead th {\n",
              "        text-align: right;\n",
              "    }\n",
              "</style>\n",
              "<table border=\"1\" class=\"dataframe\">\n",
              "  <thead>\n",
              "    <tr style=\"text-align: right;\">\n",
              "      <th></th>\n",
              "      <th>0</th>\n",
              "    </tr>\n",
              "  </thead>\n",
              "  <tbody>\n",
              "    <tr>\n",
              "      <th>id_ujian</th>\n",
              "      <td>0</td>\n",
              "    </tr>\n",
              "    <tr>\n",
              "      <th>id_peserta</th>\n",
              "      <td>0</td>\n",
              "    </tr>\n",
              "    <tr>\n",
              "      <th>ujian_dimulai</th>\n",
              "      <td>0</td>\n",
              "    </tr>\n",
              "    <tr>\n",
              "      <th>ujian_ditutup</th>\n",
              "      <td>0</td>\n",
              "    </tr>\n",
              "    <tr>\n",
              "      <th>jenis_tes</th>\n",
              "      <td>0</td>\n",
              "    </tr>\n",
              "    <tr>\n",
              "      <th>timestamp_log</th>\n",
              "      <td>0</td>\n",
              "    </tr>\n",
              "    <tr>\n",
              "      <th>pesan_log</th>\n",
              "      <td>1889</td>\n",
              "    </tr>\n",
              "  </tbody>\n",
              "</table>\n",
              "</div><br><label><b>dtype:</b> int64</label>"
            ]
          },
          "metadata": {},
          "execution_count": 12
        }
      ]
    },
    {
      "cell_type": "code",
      "source": [
        "# calculate mode value\n",
        "modus_value = data['pesan_log'].mode()[0]"
      ],
      "metadata": {
        "id": "bsroE3lCrkZP"
      },
      "execution_count": 13,
      "outputs": []
    },
    {
      "cell_type": "code",
      "source": [
        "data['pesan_log'].fillna(modus_value, inplace=True)"
      ],
      "metadata": {
        "id": "PcA4xMPmrlu8"
      },
      "execution_count": 14,
      "outputs": []
    },
    {
      "cell_type": "code",
      "source": [
        "data.isna().sum()"
      ],
      "metadata": {
        "id": "miwmfBCyrm4u",
        "colab": {
          "base_uri": "https://localhost:8080/",
          "height": 303
        },
        "outputId": "2393d974-9133-4bdc-8bed-87018372fa28"
      },
      "execution_count": 15,
      "outputs": [
        {
          "output_type": "execute_result",
          "data": {
            "text/plain": [
              "id_ujian         0\n",
              "id_peserta       0\n",
              "ujian_dimulai    0\n",
              "ujian_ditutup    0\n",
              "jenis_tes        0\n",
              "timestamp_log    0\n",
              "pesan_log        0\n",
              "dtype: int64"
            ],
            "text/html": [
              "<div>\n",
              "<style scoped>\n",
              "    .dataframe tbody tr th:only-of-type {\n",
              "        vertical-align: middle;\n",
              "    }\n",
              "\n",
              "    .dataframe tbody tr th {\n",
              "        vertical-align: top;\n",
              "    }\n",
              "\n",
              "    .dataframe thead th {\n",
              "        text-align: right;\n",
              "    }\n",
              "</style>\n",
              "<table border=\"1\" class=\"dataframe\">\n",
              "  <thead>\n",
              "    <tr style=\"text-align: right;\">\n",
              "      <th></th>\n",
              "      <th>0</th>\n",
              "    </tr>\n",
              "  </thead>\n",
              "  <tbody>\n",
              "    <tr>\n",
              "      <th>id_ujian</th>\n",
              "      <td>0</td>\n",
              "    </tr>\n",
              "    <tr>\n",
              "      <th>id_peserta</th>\n",
              "      <td>0</td>\n",
              "    </tr>\n",
              "    <tr>\n",
              "      <th>ujian_dimulai</th>\n",
              "      <td>0</td>\n",
              "    </tr>\n",
              "    <tr>\n",
              "      <th>ujian_ditutup</th>\n",
              "      <td>0</td>\n",
              "    </tr>\n",
              "    <tr>\n",
              "      <th>jenis_tes</th>\n",
              "      <td>0</td>\n",
              "    </tr>\n",
              "    <tr>\n",
              "      <th>timestamp_log</th>\n",
              "      <td>0</td>\n",
              "    </tr>\n",
              "    <tr>\n",
              "      <th>pesan_log</th>\n",
              "      <td>0</td>\n",
              "    </tr>\n",
              "  </tbody>\n",
              "</table>\n",
              "</div><br><label><b>dtype:</b> int64</label>"
            ]
          },
          "metadata": {},
          "execution_count": 15
        }
      ]
    },
    {
      "cell_type": "code",
      "source": [
        "# show first 10 rows\n",
        "data.head(10)"
      ],
      "metadata": {
        "id": "wlt-f6vSroMw",
        "colab": {
          "base_uri": "https://localhost:8080/",
          "height": 363
        },
        "outputId": "31ed7f0e-7c91-4ff1-f9bf-af20cbd4e757"
      },
      "execution_count": 16,
      "outputs": [
        {
          "output_type": "execute_result",
          "data": {
            "text/plain": [
              "                           id_ujian                        id_peserta  \\\n",
              "0  29fbeda12fc84baaab209699439aba09  982b41ef78bcc73e9dcbb9110afce55b   \n",
              "1  29fbeda12fc84baaab209699439aba09  982b41ef78bcc73e9dcbb9110afce55b   \n",
              "2  e82a71007130c199a90961842d15b339  9f2de4269e67bd7e3d837026252a4bfb   \n",
              "3  e82a71007130c199a90961842d15b339  9f2de4269e67bd7e3d837026252a4bfb   \n",
              "4  8489127cbef60df4ff9aaeda12eeb327  b0afe01565fd69bc0c045ef84abc848e   \n",
              "5  0b97e22ca7c95fdf86d97f10abd7a6c3  b88d2688d72b74a5723da96f9fa8a772   \n",
              "6  0b97e22ca7c95fdf86d97f10abd7a6c3  b88d2688d72b74a5723da96f9fa8a772   \n",
              "7  0b97e22ca7c95fdf86d97f10abd7a6c3  b88d2688d72b74a5723da96f9fa8a772   \n",
              "8  0b97e22ca7c95fdf86d97f10abd7a6c3  b88d2688d72b74a5723da96f9fa8a772   \n",
              "9  0b97e22ca7c95fdf86d97f10abd7a6c3  b88d2688d72b74a5723da96f9fa8a772   \n",
              "\n",
              "        ujian_dimulai       ujian_ditutup                 jenis_tes  \\\n",
              "0 2022-06-07 15:52:00 2022-06-09 21:00:00              Bidang Studi   \n",
              "1 2022-06-07 15:52:00 2022-06-09 21:00:00              Bidang Studi   \n",
              "2 2022-09-08 10:30:00 2022-09-09 10:30:00  Kemampuan Visual Spasial   \n",
              "3 2022-09-08 10:30:00 2022-09-09 10:30:00  Kemampuan Visual Spasial   \n",
              "4 2022-06-15 21:30:00 2022-06-16 23:59:00              Bidang Studi   \n",
              "5 2022-06-03 23:24:00 2022-06-04 23:59:00  Kemampuan Bahasa Inggris   \n",
              "6 2022-06-03 23:24:00 2022-06-04 23:59:00  Kemampuan Bahasa Inggris   \n",
              "7 2022-06-03 23:24:00 2022-06-04 23:59:00  Kemampuan Bahasa Inggris   \n",
              "8 2022-06-03 23:24:00 2022-06-04 23:59:00  Kemampuan Bahasa Inggris   \n",
              "9 2022-06-03 23:24:00 2022-06-04 23:59:00  Kemampuan Bahasa Inggris   \n",
              "\n",
              "        timestamp_log                                      pesan_log  \n",
              "0 2022-06-08 19:29:34                       Selesai Tes Bidang Studi  \n",
              "1 2022-06-08 19:15:02                       Memulai Tes Bidang Studi  \n",
              "2 2022-09-08 22:01:11           Selesai Tes Kemampuan Visual Spasial  \n",
              "3 2022-09-08 21:49:11           Memulai Tes Kemampuan Visual Spasial  \n",
              "4 2022-07-05 20:22:25               Memulai Tes Penalaran Matematika  \n",
              "5 2022-06-04 19:02:00           Selesai Tes Kemampuan Bahasa Inggris  \n",
              "6 2022-06-04 19:02:00  Selesai Bagian 3 Tes Kemampuan Bahasa Inggris  \n",
              "7 2022-06-04 18:52:03  Memulai Bagian 3 Tes Kemampuan Bahasa Inggris  \n",
              "8 2022-06-04 18:52:03  Selesai Bagian 2 Tes Kemampuan Bahasa Inggris  \n",
              "9 2022-06-04 18:41:40  Memulai Bagian 2 Tes Kemampuan Bahasa Inggris  "
            ],
            "text/html": [
              "\n",
              "  <div id=\"df-93d9b565-46a0-4655-9f31-aced34e1e152\" class=\"colab-df-container\">\n",
              "    <div>\n",
              "<style scoped>\n",
              "    .dataframe tbody tr th:only-of-type {\n",
              "        vertical-align: middle;\n",
              "    }\n",
              "\n",
              "    .dataframe tbody tr th {\n",
              "        vertical-align: top;\n",
              "    }\n",
              "\n",
              "    .dataframe thead th {\n",
              "        text-align: right;\n",
              "    }\n",
              "</style>\n",
              "<table border=\"1\" class=\"dataframe\">\n",
              "  <thead>\n",
              "    <tr style=\"text-align: right;\">\n",
              "      <th></th>\n",
              "      <th>id_ujian</th>\n",
              "      <th>id_peserta</th>\n",
              "      <th>ujian_dimulai</th>\n",
              "      <th>ujian_ditutup</th>\n",
              "      <th>jenis_tes</th>\n",
              "      <th>timestamp_log</th>\n",
              "      <th>pesan_log</th>\n",
              "    </tr>\n",
              "  </thead>\n",
              "  <tbody>\n",
              "    <tr>\n",
              "      <th>0</th>\n",
              "      <td>29fbeda12fc84baaab209699439aba09</td>\n",
              "      <td>982b41ef78bcc73e9dcbb9110afce55b</td>\n",
              "      <td>2022-06-07 15:52:00</td>\n",
              "      <td>2022-06-09 21:00:00</td>\n",
              "      <td>Bidang Studi</td>\n",
              "      <td>2022-06-08 19:29:34</td>\n",
              "      <td>Selesai Tes Bidang Studi</td>\n",
              "    </tr>\n",
              "    <tr>\n",
              "      <th>1</th>\n",
              "      <td>29fbeda12fc84baaab209699439aba09</td>\n",
              "      <td>982b41ef78bcc73e9dcbb9110afce55b</td>\n",
              "      <td>2022-06-07 15:52:00</td>\n",
              "      <td>2022-06-09 21:00:00</td>\n",
              "      <td>Bidang Studi</td>\n",
              "      <td>2022-06-08 19:15:02</td>\n",
              "      <td>Memulai Tes Bidang Studi</td>\n",
              "    </tr>\n",
              "    <tr>\n",
              "      <th>2</th>\n",
              "      <td>e82a71007130c199a90961842d15b339</td>\n",
              "      <td>9f2de4269e67bd7e3d837026252a4bfb</td>\n",
              "      <td>2022-09-08 10:30:00</td>\n",
              "      <td>2022-09-09 10:30:00</td>\n",
              "      <td>Kemampuan Visual Spasial</td>\n",
              "      <td>2022-09-08 22:01:11</td>\n",
              "      <td>Selesai Tes Kemampuan Visual Spasial</td>\n",
              "    </tr>\n",
              "    <tr>\n",
              "      <th>3</th>\n",
              "      <td>e82a71007130c199a90961842d15b339</td>\n",
              "      <td>9f2de4269e67bd7e3d837026252a4bfb</td>\n",
              "      <td>2022-09-08 10:30:00</td>\n",
              "      <td>2022-09-09 10:30:00</td>\n",
              "      <td>Kemampuan Visual Spasial</td>\n",
              "      <td>2022-09-08 21:49:11</td>\n",
              "      <td>Memulai Tes Kemampuan Visual Spasial</td>\n",
              "    </tr>\n",
              "    <tr>\n",
              "      <th>4</th>\n",
              "      <td>8489127cbef60df4ff9aaeda12eeb327</td>\n",
              "      <td>b0afe01565fd69bc0c045ef84abc848e</td>\n",
              "      <td>2022-06-15 21:30:00</td>\n",
              "      <td>2022-06-16 23:59:00</td>\n",
              "      <td>Bidang Studi</td>\n",
              "      <td>2022-07-05 20:22:25</td>\n",
              "      <td>Memulai Tes Penalaran Matematika</td>\n",
              "    </tr>\n",
              "    <tr>\n",
              "      <th>5</th>\n",
              "      <td>0b97e22ca7c95fdf86d97f10abd7a6c3</td>\n",
              "      <td>b88d2688d72b74a5723da96f9fa8a772</td>\n",
              "      <td>2022-06-03 23:24:00</td>\n",
              "      <td>2022-06-04 23:59:00</td>\n",
              "      <td>Kemampuan Bahasa Inggris</td>\n",
              "      <td>2022-06-04 19:02:00</td>\n",
              "      <td>Selesai Tes Kemampuan Bahasa Inggris</td>\n",
              "    </tr>\n",
              "    <tr>\n",
              "      <th>6</th>\n",
              "      <td>0b97e22ca7c95fdf86d97f10abd7a6c3</td>\n",
              "      <td>b88d2688d72b74a5723da96f9fa8a772</td>\n",
              "      <td>2022-06-03 23:24:00</td>\n",
              "      <td>2022-06-04 23:59:00</td>\n",
              "      <td>Kemampuan Bahasa Inggris</td>\n",
              "      <td>2022-06-04 19:02:00</td>\n",
              "      <td>Selesai Bagian 3 Tes Kemampuan Bahasa Inggris</td>\n",
              "    </tr>\n",
              "    <tr>\n",
              "      <th>7</th>\n",
              "      <td>0b97e22ca7c95fdf86d97f10abd7a6c3</td>\n",
              "      <td>b88d2688d72b74a5723da96f9fa8a772</td>\n",
              "      <td>2022-06-03 23:24:00</td>\n",
              "      <td>2022-06-04 23:59:00</td>\n",
              "      <td>Kemampuan Bahasa Inggris</td>\n",
              "      <td>2022-06-04 18:52:03</td>\n",
              "      <td>Memulai Bagian 3 Tes Kemampuan Bahasa Inggris</td>\n",
              "    </tr>\n",
              "    <tr>\n",
              "      <th>8</th>\n",
              "      <td>0b97e22ca7c95fdf86d97f10abd7a6c3</td>\n",
              "      <td>b88d2688d72b74a5723da96f9fa8a772</td>\n",
              "      <td>2022-06-03 23:24:00</td>\n",
              "      <td>2022-06-04 23:59:00</td>\n",
              "      <td>Kemampuan Bahasa Inggris</td>\n",
              "      <td>2022-06-04 18:52:03</td>\n",
              "      <td>Selesai Bagian 2 Tes Kemampuan Bahasa Inggris</td>\n",
              "    </tr>\n",
              "    <tr>\n",
              "      <th>9</th>\n",
              "      <td>0b97e22ca7c95fdf86d97f10abd7a6c3</td>\n",
              "      <td>b88d2688d72b74a5723da96f9fa8a772</td>\n",
              "      <td>2022-06-03 23:24:00</td>\n",
              "      <td>2022-06-04 23:59:00</td>\n",
              "      <td>Kemampuan Bahasa Inggris</td>\n",
              "      <td>2022-06-04 18:41:40</td>\n",
              "      <td>Memulai Bagian 2 Tes Kemampuan Bahasa Inggris</td>\n",
              "    </tr>\n",
              "  </tbody>\n",
              "</table>\n",
              "</div>\n",
              "    <div class=\"colab-df-buttons\">\n",
              "\n",
              "  <div class=\"colab-df-container\">\n",
              "    <button class=\"colab-df-convert\" onclick=\"convertToInteractive('df-93d9b565-46a0-4655-9f31-aced34e1e152')\"\n",
              "            title=\"Convert this dataframe to an interactive table.\"\n",
              "            style=\"display:none;\">\n",
              "\n",
              "  <svg xmlns=\"http://www.w3.org/2000/svg\" height=\"24px\" viewBox=\"0 -960 960 960\">\n",
              "    <path d=\"M120-120v-720h720v720H120Zm60-500h600v-160H180v160Zm220 220h160v-160H400v160Zm0 220h160v-160H400v160ZM180-400h160v-160H180v160Zm440 0h160v-160H620v160ZM180-180h160v-160H180v160Zm440 0h160v-160H620v160Z\"/>\n",
              "  </svg>\n",
              "    </button>\n",
              "\n",
              "  <style>\n",
              "    .colab-df-container {\n",
              "      display:flex;\n",
              "      gap: 12px;\n",
              "    }\n",
              "\n",
              "    .colab-df-convert {\n",
              "      background-color: #E8F0FE;\n",
              "      border: none;\n",
              "      border-radius: 50%;\n",
              "      cursor: pointer;\n",
              "      display: none;\n",
              "      fill: #1967D2;\n",
              "      height: 32px;\n",
              "      padding: 0 0 0 0;\n",
              "      width: 32px;\n",
              "    }\n",
              "\n",
              "    .colab-df-convert:hover {\n",
              "      background-color: #E2EBFA;\n",
              "      box-shadow: 0px 1px 2px rgba(60, 64, 67, 0.3), 0px 1px 3px 1px rgba(60, 64, 67, 0.15);\n",
              "      fill: #174EA6;\n",
              "    }\n",
              "\n",
              "    .colab-df-buttons div {\n",
              "      margin-bottom: 4px;\n",
              "    }\n",
              "\n",
              "    [theme=dark] .colab-df-convert {\n",
              "      background-color: #3B4455;\n",
              "      fill: #D2E3FC;\n",
              "    }\n",
              "\n",
              "    [theme=dark] .colab-df-convert:hover {\n",
              "      background-color: #434B5C;\n",
              "      box-shadow: 0px 1px 3px 1px rgba(0, 0, 0, 0.15);\n",
              "      filter: drop-shadow(0px 1px 2px rgba(0, 0, 0, 0.3));\n",
              "      fill: #FFFFFF;\n",
              "    }\n",
              "  </style>\n",
              "\n",
              "    <script>\n",
              "      const buttonEl =\n",
              "        document.querySelector('#df-93d9b565-46a0-4655-9f31-aced34e1e152 button.colab-df-convert');\n",
              "      buttonEl.style.display =\n",
              "        google.colab.kernel.accessAllowed ? 'block' : 'none';\n",
              "\n",
              "      async function convertToInteractive(key) {\n",
              "        const element = document.querySelector('#df-93d9b565-46a0-4655-9f31-aced34e1e152');\n",
              "        const dataTable =\n",
              "          await google.colab.kernel.invokeFunction('convertToInteractive',\n",
              "                                                    [key], {});\n",
              "        if (!dataTable) return;\n",
              "\n",
              "        const docLinkHtml = 'Like what you see? Visit the ' +\n",
              "          '<a target=\"_blank\" href=https://colab.research.google.com/notebooks/data_table.ipynb>data table notebook</a>'\n",
              "          + ' to learn more about interactive tables.';\n",
              "        element.innerHTML = '';\n",
              "        dataTable['output_type'] = 'display_data';\n",
              "        await google.colab.output.renderOutput(dataTable, element);\n",
              "        const docLink = document.createElement('div');\n",
              "        docLink.innerHTML = docLinkHtml;\n",
              "        element.appendChild(docLink);\n",
              "      }\n",
              "    </script>\n",
              "  </div>\n",
              "\n",
              "\n",
              "<div id=\"df-7c67f147-e0b8-4ec7-bd53-9e03f836bd61\">\n",
              "  <button class=\"colab-df-quickchart\" onclick=\"quickchart('df-7c67f147-e0b8-4ec7-bd53-9e03f836bd61')\"\n",
              "            title=\"Suggest charts\"\n",
              "            style=\"display:none;\">\n",
              "\n",
              "<svg xmlns=\"http://www.w3.org/2000/svg\" height=\"24px\"viewBox=\"0 0 24 24\"\n",
              "     width=\"24px\">\n",
              "    <g>\n",
              "        <path d=\"M19 3H5c-1.1 0-2 .9-2 2v14c0 1.1.9 2 2 2h14c1.1 0 2-.9 2-2V5c0-1.1-.9-2-2-2zM9 17H7v-7h2v7zm4 0h-2V7h2v10zm4 0h-2v-4h2v4z\"/>\n",
              "    </g>\n",
              "</svg>\n",
              "  </button>\n",
              "\n",
              "<style>\n",
              "  .colab-df-quickchart {\n",
              "      --bg-color: #E8F0FE;\n",
              "      --fill-color: #1967D2;\n",
              "      --hover-bg-color: #E2EBFA;\n",
              "      --hover-fill-color: #174EA6;\n",
              "      --disabled-fill-color: #AAA;\n",
              "      --disabled-bg-color: #DDD;\n",
              "  }\n",
              "\n",
              "  [theme=dark] .colab-df-quickchart {\n",
              "      --bg-color: #3B4455;\n",
              "      --fill-color: #D2E3FC;\n",
              "      --hover-bg-color: #434B5C;\n",
              "      --hover-fill-color: #FFFFFF;\n",
              "      --disabled-bg-color: #3B4455;\n",
              "      --disabled-fill-color: #666;\n",
              "  }\n",
              "\n",
              "  .colab-df-quickchart {\n",
              "    background-color: var(--bg-color);\n",
              "    border: none;\n",
              "    border-radius: 50%;\n",
              "    cursor: pointer;\n",
              "    display: none;\n",
              "    fill: var(--fill-color);\n",
              "    height: 32px;\n",
              "    padding: 0;\n",
              "    width: 32px;\n",
              "  }\n",
              "\n",
              "  .colab-df-quickchart:hover {\n",
              "    background-color: var(--hover-bg-color);\n",
              "    box-shadow: 0 1px 2px rgba(60, 64, 67, 0.3), 0 1px 3px 1px rgba(60, 64, 67, 0.15);\n",
              "    fill: var(--button-hover-fill-color);\n",
              "  }\n",
              "\n",
              "  .colab-df-quickchart-complete:disabled,\n",
              "  .colab-df-quickchart-complete:disabled:hover {\n",
              "    background-color: var(--disabled-bg-color);\n",
              "    fill: var(--disabled-fill-color);\n",
              "    box-shadow: none;\n",
              "  }\n",
              "\n",
              "  .colab-df-spinner {\n",
              "    border: 2px solid var(--fill-color);\n",
              "    border-color: transparent;\n",
              "    border-bottom-color: var(--fill-color);\n",
              "    animation:\n",
              "      spin 1s steps(1) infinite;\n",
              "  }\n",
              "\n",
              "  @keyframes spin {\n",
              "    0% {\n",
              "      border-color: transparent;\n",
              "      border-bottom-color: var(--fill-color);\n",
              "      border-left-color: var(--fill-color);\n",
              "    }\n",
              "    20% {\n",
              "      border-color: transparent;\n",
              "      border-left-color: var(--fill-color);\n",
              "      border-top-color: var(--fill-color);\n",
              "    }\n",
              "    30% {\n",
              "      border-color: transparent;\n",
              "      border-left-color: var(--fill-color);\n",
              "      border-top-color: var(--fill-color);\n",
              "      border-right-color: var(--fill-color);\n",
              "    }\n",
              "    40% {\n",
              "      border-color: transparent;\n",
              "      border-right-color: var(--fill-color);\n",
              "      border-top-color: var(--fill-color);\n",
              "    }\n",
              "    60% {\n",
              "      border-color: transparent;\n",
              "      border-right-color: var(--fill-color);\n",
              "    }\n",
              "    80% {\n",
              "      border-color: transparent;\n",
              "      border-right-color: var(--fill-color);\n",
              "      border-bottom-color: var(--fill-color);\n",
              "    }\n",
              "    90% {\n",
              "      border-color: transparent;\n",
              "      border-bottom-color: var(--fill-color);\n",
              "    }\n",
              "  }\n",
              "</style>\n",
              "\n",
              "  <script>\n",
              "    async function quickchart(key) {\n",
              "      const quickchartButtonEl =\n",
              "        document.querySelector('#' + key + ' button');\n",
              "      quickchartButtonEl.disabled = true;  // To prevent multiple clicks.\n",
              "      quickchartButtonEl.classList.add('colab-df-spinner');\n",
              "      try {\n",
              "        const charts = await google.colab.kernel.invokeFunction(\n",
              "            'suggestCharts', [key], {});\n",
              "      } catch (error) {\n",
              "        console.error('Error during call to suggestCharts:', error);\n",
              "      }\n",
              "      quickchartButtonEl.classList.remove('colab-df-spinner');\n",
              "      quickchartButtonEl.classList.add('colab-df-quickchart-complete');\n",
              "    }\n",
              "    (() => {\n",
              "      let quickchartButtonEl =\n",
              "        document.querySelector('#df-7c67f147-e0b8-4ec7-bd53-9e03f836bd61 button');\n",
              "      quickchartButtonEl.style.display =\n",
              "        google.colab.kernel.accessAllowed ? 'block' : 'none';\n",
              "    })();\n",
              "  </script>\n",
              "</div>\n",
              "\n",
              "    </div>\n",
              "  </div>\n"
            ],
            "application/vnd.google.colaboratory.intrinsic+json": {
              "type": "dataframe",
              "variable_name": "data",
              "summary": "{\n  \"name\": \"data\",\n  \"rows\": 11028,\n  \"fields\": [\n    {\n      \"column\": \"id_ujian\",\n      \"properties\": {\n        \"dtype\": \"category\",\n        \"num_unique_values\": 728,\n        \"samples\": [\n          \"db36d4e03c06b2174e2eb289f98fad37\",\n          \"fad8f97b7936f6458d6ba8b5abbaa471\",\n          \"c33e9b25de934b77fa6aaee26939d8f1\"\n        ],\n        \"semantic_type\": \"\",\n        \"description\": \"\"\n      }\n    },\n    {\n      \"column\": \"id_peserta\",\n      \"properties\": {\n        \"dtype\": \"category\",\n        \"num_unique_values\": 1382,\n        \"samples\": [\n          \"5701a82d1cc2562ed3031148ea380628\",\n          \"ce492d550ed7569067a72aef48f80b79\",\n          \"fae607cf165eb3aecebc28c88d1dcbb1\"\n        ],\n        \"semantic_type\": \"\",\n        \"description\": \"\"\n      }\n    },\n    {\n      \"column\": \"ujian_dimulai\",\n      \"properties\": {\n        \"dtype\": \"date\",\n        \"min\": \"2022-04-07 08:00:00\",\n        \"max\": \"2023-01-10 13:00:00\",\n        \"num_unique_values\": 701,\n        \"samples\": [\n          \"2022-08-09 12:18:00\",\n          \"2022-09-26 22:51:00\",\n          \"2022-08-13 09:00:00\"\n        ],\n        \"semantic_type\": \"\",\n        \"description\": \"\"\n      }\n    },\n    {\n      \"column\": \"ujian_ditutup\",\n      \"properties\": {\n        \"dtype\": \"date\",\n        \"min\": \"2022-05-28 18:00:00\",\n        \"max\": \"2023-01-11 13:00:00\",\n        \"num_unique_values\": 564,\n        \"samples\": [\n          \"2022-07-26 12:00:00\",\n          \"2022-08-02 12:58:00\",\n          \"2022-06-15 09:00:00\"\n        ],\n        \"semantic_type\": \"\",\n        \"description\": \"\"\n      }\n    },\n    {\n      \"column\": \"jenis_tes\",\n      \"properties\": {\n        \"dtype\": \"category\",\n        \"num_unique_values\": 5,\n        \"samples\": [\n          \"Kemampuan Visual Spasial\",\n          \"Literasi Bahasa Indonesia\",\n          \"Kemampuan Bahasa Inggris\"\n        ],\n        \"semantic_type\": \"\",\n        \"description\": \"\"\n      }\n    },\n    {\n      \"column\": \"timestamp_log\",\n      \"properties\": {\n        \"dtype\": \"date\",\n        \"min\": \"2022-05-28 14:22:42\",\n        \"max\": \"2022-09-13 20:35:06\",\n        \"num_unique_values\": 6248,\n        \"samples\": [\n          \"2022-06-10 16:06:52\",\n          \"2022-07-20 08:36:49\",\n          \"2022-09-11 13:41:18\"\n        ],\n        \"semantic_type\": \"\",\n        \"description\": \"\"\n      }\n    },\n    {\n      \"column\": \"pesan_log\",\n      \"properties\": {\n        \"dtype\": \"category\",\n        \"num_unique_values\": 36,\n        \"samples\": [\n          \"Memulai Bagian 0 Tes Literasi Bahasa Indonesia\",\n          \"Selesai Tes Penalaran Matematika\",\n          \"Selesai Bagian 7 Tes Kemampuan Bahasa Inggris\"\n        ],\n        \"semantic_type\": \"\",\n        \"description\": \"\"\n      }\n    }\n  ]\n}"
            }
          },
          "metadata": {},
          "execution_count": 16
        }
      ]
    },
    {
      "cell_type": "markdown",
      "source": [
        "###**Typo**"
      ],
      "metadata": {
        "id": "N4JpjL-esDF3"
      }
    },
    {
      "cell_type": "code",
      "source": [
        "data[\"ujian_dimulai\"].unique() #no impossible value"
      ],
      "metadata": {
        "id": "ZJiifpaErpeE",
        "colab": {
          "base_uri": "https://localhost:8080/"
        },
        "outputId": "8f2734fa-687f-4b96-c59c-26a3d93abb09"
      },
      "execution_count": 17,
      "outputs": [
        {
          "output_type": "execute_result",
          "data": {
            "text/plain": [
              "<DatetimeArray>\n",
              "['2022-06-07 15:52:00', '2022-09-08 10:30:00', '2022-06-15 21:30:00',\n",
              " '2022-06-03 23:24:00', '2022-08-05 13:00:00', '2022-07-01 14:15:00',\n",
              " '2022-08-07 16:00:00', '2022-07-11 09:01:00', '2022-06-09 09:00:00',\n",
              " '2022-04-07 08:00:00',\n",
              " ...\n",
              " '2022-07-05 10:38:00', '2022-11-07 08:00:00', '2022-07-25 14:00:00',\n",
              " '2022-10-17 12:43:00', '2022-07-07 16:01:00', '2022-06-21 11:39:00',\n",
              " '2022-06-21 08:49:00', '2022-12-05 16:03:00', '2022-08-08 22:33:00',\n",
              " '2022-06-14 09:50:00']\n",
              "Length: 701, dtype: datetime64[ns]"
            ]
          },
          "metadata": {},
          "execution_count": 17
        }
      ]
    },
    {
      "cell_type": "code",
      "source": [
        "data[\"ujian_ditutup\"].unique() #no impossible value"
      ],
      "metadata": {
        "id": "P81cc-eNMo7D",
        "colab": {
          "base_uri": "https://localhost:8080/"
        },
        "outputId": "a0e68f1a-ebf8-42b8-a3f3-9f6a2909449b"
      },
      "execution_count": 18,
      "outputs": [
        {
          "output_type": "execute_result",
          "data": {
            "text/plain": [
              "<DatetimeArray>\n",
              "['2022-06-09 21:00:00', '2022-09-09 10:30:00', '2022-06-16 23:59:00',\n",
              " '2022-06-04 23:59:00', '2022-08-06 08:00:00', '2022-07-02 08:30:00',\n",
              " '2022-08-08 23:00:00', '2022-08-09 09:01:00', '2022-06-10 09:00:00',\n",
              " '2022-06-08 06:00:00',\n",
              " ...\n",
              " '2022-08-10 23:00:00', '2022-09-07 23:59:00', '2022-05-31 19:00:00',\n",
              " '2022-07-06 23:59:00', '2022-11-21 12:00:00', '2022-11-01 12:43:00',\n",
              " '2022-08-06 16:01:00', '2022-07-05 11:39:00', '2022-12-06 16:03:00',\n",
              " '2022-08-11 22:33:00']\n",
              "Length: 564, dtype: datetime64[ns]"
            ]
          },
          "metadata": {},
          "execution_count": 18
        }
      ]
    },
    {
      "cell_type": "code",
      "source": [
        "data[\"jenis_tes\"].unique() # no typo"
      ],
      "metadata": {
        "id": "U6NWlz-3MpaV",
        "colab": {
          "base_uri": "https://localhost:8080/"
        },
        "outputId": "a4fcac5a-45d0-452a-fad1-afbddf9ec935"
      },
      "execution_count": 19,
      "outputs": [
        {
          "output_type": "execute_result",
          "data": {
            "text/plain": [
              "array(['Bidang Studi', 'Kemampuan Visual Spasial',\n",
              "       'Kemampuan Bahasa Inggris', 'Penalaran Matematika',\n",
              "       'Literasi Bahasa Indonesia'], dtype=object)"
            ]
          },
          "metadata": {},
          "execution_count": 19
        }
      ]
    },
    {
      "cell_type": "code",
      "source": [
        "data[\"timestamp_log\"].unique() #no typo (looked from excel dataset)"
      ],
      "metadata": {
        "id": "i-_BZnlyMp0f",
        "colab": {
          "base_uri": "https://localhost:8080/"
        },
        "outputId": "4d17faef-0b9e-4988-f754-f46f01ecccf7"
      },
      "execution_count": 20,
      "outputs": [
        {
          "output_type": "execute_result",
          "data": {
            "text/plain": [
              "<DatetimeArray>\n",
              "['2022-06-08 19:29:34', '2022-06-08 19:15:02', '2022-09-08 22:01:11',\n",
              " '2022-09-08 21:49:11', '2022-07-05 20:22:25', '2022-06-04 19:02:00',\n",
              " '2022-06-04 18:52:03', '2022-06-04 18:41:40', '2022-06-04 18:31:33',\n",
              " '2022-08-05 23:20:40',\n",
              " ...\n",
              " '2022-07-19 13:27:09', '2022-07-19 13:15:35', '2022-07-05 21:41:11',\n",
              " '2022-07-05 21:26:58', '2022-08-18 21:30:01', '2022-08-18 21:19:06',\n",
              " '2022-09-08 14:48:56', '2022-09-08 14:28:55', '2022-06-29 14:13:46',\n",
              " '2022-06-29 13:59:40']\n",
              "Length: 6248, dtype: datetime64[ns]"
            ]
          },
          "metadata": {},
          "execution_count": 20
        }
      ]
    },
    {
      "cell_type": "code",
      "source": [
        "data[\"pesan_log\"].value_counts() #no typo"
      ],
      "metadata": {
        "id": "L5RMuQVMOJNf",
        "colab": {
          "base_uri": "https://localhost:8080/",
          "height": 1000
        },
        "outputId": "dba330cc-b3ac-43fa-ea9a-fc8eb358cb5c"
      },
      "execution_count": 21,
      "outputs": [
        {
          "output_type": "execute_result",
          "data": {
            "text/plain": [
              "pesan_log\n",
              "Memulai Tes Penalaran Matematika                  2609\n",
              "Selesai Tes Penalaran Matematika                   704\n",
              "Memulai Tes Bidang Studi                           702\n",
              "Selesai Tes Bidang Studi                           670\n",
              "Memulai Tes Kemampuan Bahasa Inggris               580\n",
              "Memulai Bagian 1 Tes Kemampuan Bahasa Inggris      574\n",
              "Selesai Tes Kemampuan Bahasa Inggris               573\n",
              "Selesai Bagian 1 Tes Kemampuan Bahasa Inggris      572\n",
              "Memulai Bagian 2 Tes Kemampuan Bahasa Inggris      572\n",
              "Selesai Bagian 3 Tes Kemampuan Bahasa Inggris      571\n",
              "Selesai Bagian 2 Tes Kemampuan Bahasa Inggris      570\n",
              "Memulai Bagian 3 Tes Kemampuan Bahasa Inggris      569\n",
              "Memulai Tes Kemampuan Visual Spasial               276\n",
              "Selesai Tes Kemampuan Visual Spasial               263\n",
              "Memulai Tes Literasi Bahasa Indonesia              150\n",
              "Memulai Bagian 1 Tes Literasi Bahasa Indonesia     148\n",
              "Selesai Bagian 1 Tes Literasi Bahasa Indonesia     148\n",
              "Memulai Bagian 2 Tes Literasi Bahasa Indonesia     147\n",
              "Selesai Tes Literasi Bahasa Indonesia              146\n",
              "Selesai Bagian 2 Tes Literasi Bahasa Indonesia     145\n",
              "Selesai Bagian 3 Tes Literasi Bahasa Indonesia     145\n",
              "Memulai Bagian 3 Tes Literasi Bahasa Indonesia     145\n",
              "Memulai Bagian 4 Tes Kemampuan Bahasa Inggris       13\n",
              "Selesai Bagian 4 Tes Kemampuan Bahasa Inggris       12\n",
              "Selesai Bagian 4 Tes Literasi Bahasa Indonesia       5\n",
              "Memulai Bagian 4 Tes Literasi Bahasa Indonesia       5\n",
              "Selesai Bagian 6 Tes Kemampuan Bahasa Inggris        2\n",
              "Memulai Bagian 6 Tes Kemampuan Bahasa Inggris        2\n",
              "Selesai Bagian 5 Tes Kemampuan Bahasa Inggris        2\n",
              "Memulai Bagian 5 Tes Kemampuan Bahasa Inggris        2\n",
              "Memulai Bagian 5 Tes Literasi Bahasa Indonesia       1\n",
              "Selesai Bagian 0 Tes Literasi Bahasa Indonesia       1\n",
              "Memulai Bagian 7 Tes Kemampuan Bahasa Inggris        1\n",
              "Selesai Bagian 5 Tes Literasi Bahasa Indonesia       1\n",
              "Selesai Bagian 7 Tes Kemampuan Bahasa Inggris        1\n",
              "Memulai Bagian 0 Tes Literasi Bahasa Indonesia       1\n",
              "Name: count, dtype: int64"
            ],
            "text/html": [
              "<div>\n",
              "<style scoped>\n",
              "    .dataframe tbody tr th:only-of-type {\n",
              "        vertical-align: middle;\n",
              "    }\n",
              "\n",
              "    .dataframe tbody tr th {\n",
              "        vertical-align: top;\n",
              "    }\n",
              "\n",
              "    .dataframe thead th {\n",
              "        text-align: right;\n",
              "    }\n",
              "</style>\n",
              "<table border=\"1\" class=\"dataframe\">\n",
              "  <thead>\n",
              "    <tr style=\"text-align: right;\">\n",
              "      <th></th>\n",
              "      <th>count</th>\n",
              "    </tr>\n",
              "    <tr>\n",
              "      <th>pesan_log</th>\n",
              "      <th></th>\n",
              "    </tr>\n",
              "  </thead>\n",
              "  <tbody>\n",
              "    <tr>\n",
              "      <th>Memulai Tes Penalaran Matematika</th>\n",
              "      <td>2609</td>\n",
              "    </tr>\n",
              "    <tr>\n",
              "      <th>Selesai Tes Penalaran Matematika</th>\n",
              "      <td>704</td>\n",
              "    </tr>\n",
              "    <tr>\n",
              "      <th>Memulai Tes Bidang Studi</th>\n",
              "      <td>702</td>\n",
              "    </tr>\n",
              "    <tr>\n",
              "      <th>Selesai Tes Bidang Studi</th>\n",
              "      <td>670</td>\n",
              "    </tr>\n",
              "    <tr>\n",
              "      <th>Memulai Tes Kemampuan Bahasa Inggris</th>\n",
              "      <td>580</td>\n",
              "    </tr>\n",
              "    <tr>\n",
              "      <th>Memulai Bagian 1 Tes Kemampuan Bahasa Inggris</th>\n",
              "      <td>574</td>\n",
              "    </tr>\n",
              "    <tr>\n",
              "      <th>Selesai Tes Kemampuan Bahasa Inggris</th>\n",
              "      <td>573</td>\n",
              "    </tr>\n",
              "    <tr>\n",
              "      <th>Selesai Bagian 1 Tes Kemampuan Bahasa Inggris</th>\n",
              "      <td>572</td>\n",
              "    </tr>\n",
              "    <tr>\n",
              "      <th>Memulai Bagian 2 Tes Kemampuan Bahasa Inggris</th>\n",
              "      <td>572</td>\n",
              "    </tr>\n",
              "    <tr>\n",
              "      <th>Selesai Bagian 3 Tes Kemampuan Bahasa Inggris</th>\n",
              "      <td>571</td>\n",
              "    </tr>\n",
              "    <tr>\n",
              "      <th>Selesai Bagian 2 Tes Kemampuan Bahasa Inggris</th>\n",
              "      <td>570</td>\n",
              "    </tr>\n",
              "    <tr>\n",
              "      <th>Memulai Bagian 3 Tes Kemampuan Bahasa Inggris</th>\n",
              "      <td>569</td>\n",
              "    </tr>\n",
              "    <tr>\n",
              "      <th>Memulai Tes Kemampuan Visual Spasial</th>\n",
              "      <td>276</td>\n",
              "    </tr>\n",
              "    <tr>\n",
              "      <th>Selesai Tes Kemampuan Visual Spasial</th>\n",
              "      <td>263</td>\n",
              "    </tr>\n",
              "    <tr>\n",
              "      <th>Memulai Tes Literasi Bahasa Indonesia</th>\n",
              "      <td>150</td>\n",
              "    </tr>\n",
              "    <tr>\n",
              "      <th>Memulai Bagian 1 Tes Literasi Bahasa Indonesia</th>\n",
              "      <td>148</td>\n",
              "    </tr>\n",
              "    <tr>\n",
              "      <th>Selesai Bagian 1 Tes Literasi Bahasa Indonesia</th>\n",
              "      <td>148</td>\n",
              "    </tr>\n",
              "    <tr>\n",
              "      <th>Memulai Bagian 2 Tes Literasi Bahasa Indonesia</th>\n",
              "      <td>147</td>\n",
              "    </tr>\n",
              "    <tr>\n",
              "      <th>Selesai Tes Literasi Bahasa Indonesia</th>\n",
              "      <td>146</td>\n",
              "    </tr>\n",
              "    <tr>\n",
              "      <th>Selesai Bagian 2 Tes Literasi Bahasa Indonesia</th>\n",
              "      <td>145</td>\n",
              "    </tr>\n",
              "    <tr>\n",
              "      <th>Selesai Bagian 3 Tes Literasi Bahasa Indonesia</th>\n",
              "      <td>145</td>\n",
              "    </tr>\n",
              "    <tr>\n",
              "      <th>Memulai Bagian 3 Tes Literasi Bahasa Indonesia</th>\n",
              "      <td>145</td>\n",
              "    </tr>\n",
              "    <tr>\n",
              "      <th>Memulai Bagian 4 Tes Kemampuan Bahasa Inggris</th>\n",
              "      <td>13</td>\n",
              "    </tr>\n",
              "    <tr>\n",
              "      <th>Selesai Bagian 4 Tes Kemampuan Bahasa Inggris</th>\n",
              "      <td>12</td>\n",
              "    </tr>\n",
              "    <tr>\n",
              "      <th>Selesai Bagian 4 Tes Literasi Bahasa Indonesia</th>\n",
              "      <td>5</td>\n",
              "    </tr>\n",
              "    <tr>\n",
              "      <th>Memulai Bagian 4 Tes Literasi Bahasa Indonesia</th>\n",
              "      <td>5</td>\n",
              "    </tr>\n",
              "    <tr>\n",
              "      <th>Selesai Bagian 6 Tes Kemampuan Bahasa Inggris</th>\n",
              "      <td>2</td>\n",
              "    </tr>\n",
              "    <tr>\n",
              "      <th>Memulai Bagian 6 Tes Kemampuan Bahasa Inggris</th>\n",
              "      <td>2</td>\n",
              "    </tr>\n",
              "    <tr>\n",
              "      <th>Selesai Bagian 5 Tes Kemampuan Bahasa Inggris</th>\n",
              "      <td>2</td>\n",
              "    </tr>\n",
              "    <tr>\n",
              "      <th>Memulai Bagian 5 Tes Kemampuan Bahasa Inggris</th>\n",
              "      <td>2</td>\n",
              "    </tr>\n",
              "    <tr>\n",
              "      <th>Memulai Bagian 5 Tes Literasi Bahasa Indonesia</th>\n",
              "      <td>1</td>\n",
              "    </tr>\n",
              "    <tr>\n",
              "      <th>Selesai Bagian 0 Tes Literasi Bahasa Indonesia</th>\n",
              "      <td>1</td>\n",
              "    </tr>\n",
              "    <tr>\n",
              "      <th>Memulai Bagian 7 Tes Kemampuan Bahasa Inggris</th>\n",
              "      <td>1</td>\n",
              "    </tr>\n",
              "    <tr>\n",
              "      <th>Selesai Bagian 5 Tes Literasi Bahasa Indonesia</th>\n",
              "      <td>1</td>\n",
              "    </tr>\n",
              "    <tr>\n",
              "      <th>Selesai Bagian 7 Tes Kemampuan Bahasa Inggris</th>\n",
              "      <td>1</td>\n",
              "    </tr>\n",
              "    <tr>\n",
              "      <th>Memulai Bagian 0 Tes Literasi Bahasa Indonesia</th>\n",
              "      <td>1</td>\n",
              "    </tr>\n",
              "  </tbody>\n",
              "</table>\n",
              "</div><br><label><b>dtype:</b> int64</label>"
            ]
          },
          "metadata": {},
          "execution_count": 21
        }
      ]
    },
    {
      "cell_type": "code",
      "source": [
        "#check if there is any impossible value\n",
        "waktu_pengerjaan = data[\"ujian_ditutup\"]-data[\"ujian_dimulai\"]\n",
        "negatif = waktu_pengerjaan[waktu_pengerjaan < pd.Timedelta(0)]\n",
        "print(negatif)"
      ],
      "metadata": {
        "id": "6qWLznptRVnv",
        "colab": {
          "base_uri": "https://localhost:8080/"
        },
        "outputId": "7ad85c23-bfb5-4c4e-bc1a-f77fef415822"
      },
      "execution_count": 22,
      "outputs": [
        {
          "output_type": "stream",
          "name": "stdout",
          "text": [
            "102     -1 days +01:39:48\n",
            "1927    -1 days +13:01:06\n",
            "2020    -1 days +13:01:06\n",
            "2229    -1 days +01:39:48\n",
            "2924    -1 days +22:55:51\n",
            "3903    -1 days +22:55:51\n",
            "4335    -3 days +09:21:08\n",
            "5111    -3 days +09:21:08\n",
            "5431    -1 days +22:55:51\n",
            "6168    -3 days +09:21:08\n",
            "6883    -3 days +09:21:08\n",
            "7632    -1 days +22:55:51\n",
            "9291    -1 days +13:01:06\n",
            "10350   -1 days +01:39:48\n",
            "dtype: timedelta64[ns]\n"
          ]
        }
      ]
    },
    {
      "cell_type": "code",
      "source": [
        "#filter which rows give negative value\n",
        "negatif_value = waktu_pengerjaan[waktu_pengerjaan < pd.Timedelta(0)]\n",
        "negatif_row = data.loc[negatif_value.index]\n",
        "negatif_id = negatif_row[\"id_peserta\"]\n",
        "print(negatif_id)\n"
      ],
      "metadata": {
        "id": "EtgzZazNXSQb",
        "colab": {
          "base_uri": "https://localhost:8080/"
        },
        "outputId": "674f5199-9952-49a7-d46b-fb6219f5c74f"
      },
      "execution_count": 24,
      "outputs": [
        {
          "output_type": "stream",
          "name": "stdout",
          "text": [
            "102      7d914450e410e25a3e7cfeceae68c63d\n",
            "1927     af851061344a0becc3d029622700c4c6\n",
            "2020     af851061344a0becc3d029622700c4c6\n",
            "2229     7d914450e410e25a3e7cfeceae68c63d\n",
            "2924     6dda176ad12231f0ac24d8126c2f1239\n",
            "3903     6dda176ad12231f0ac24d8126c2f1239\n",
            "4335     eded70d526105028824457b08d3be0f2\n",
            "5111     eded70d526105028824457b08d3be0f2\n",
            "5431     6dda176ad12231f0ac24d8126c2f1239\n",
            "6168     eded70d526105028824457b08d3be0f2\n",
            "6883     eded70d526105028824457b08d3be0f2\n",
            "7632     6dda176ad12231f0ac24d8126c2f1239\n",
            "9291     af851061344a0becc3d029622700c4c6\n",
            "10350    7d914450e410e25a3e7cfeceae68c63d\n",
            "Name: id_peserta, dtype: object\n"
          ]
        }
      ]
    },
    {
      "cell_type": "code",
      "source": [
        "negatif_value = waktu_pengerjaan[waktu_pengerjaan < pd.Timedelta(0)]\n",
        "negatif_indices = negatif_value.index\n",
        "\n",
        "# Remove rows with negative values in waktu_pengerjaan\n",
        "data.drop(negatif_indices, inplace=True)\n",
        "\n",
        "# Print the IDs of removed rows\n",
        "removed_ids = negatif_row[\"id_peserta\"]\n",
        "print(\"Removed IDs:\", removed_ids)\n"
      ],
      "metadata": {
        "id": "86FlsdocXCMS",
        "colab": {
          "base_uri": "https://localhost:8080/"
        },
        "outputId": "410a8d59-4bf8-4994-94d2-568102425757"
      },
      "execution_count": 25,
      "outputs": [
        {
          "output_type": "stream",
          "name": "stdout",
          "text": [
            "Removed IDs: 102      7d914450e410e25a3e7cfeceae68c63d\n",
            "1927     af851061344a0becc3d029622700c4c6\n",
            "2020     af851061344a0becc3d029622700c4c6\n",
            "2229     7d914450e410e25a3e7cfeceae68c63d\n",
            "2924     6dda176ad12231f0ac24d8126c2f1239\n",
            "3903     6dda176ad12231f0ac24d8126c2f1239\n",
            "4335     eded70d526105028824457b08d3be0f2\n",
            "5111     eded70d526105028824457b08d3be0f2\n",
            "5431     6dda176ad12231f0ac24d8126c2f1239\n",
            "6168     eded70d526105028824457b08d3be0f2\n",
            "6883     eded70d526105028824457b08d3be0f2\n",
            "7632     6dda176ad12231f0ac24d8126c2f1239\n",
            "9291     af851061344a0becc3d029622700c4c6\n",
            "10350    7d914450e410e25a3e7cfeceae68c63d\n",
            "Name: id_peserta, dtype: object\n"
          ]
        }
      ]
    },
    {
      "cell_type": "markdown",
      "source": [
        "###**Outlier**"
      ],
      "metadata": {
        "id": "5Ih26LxKsFbN"
      }
    },
    {
      "cell_type": "code",
      "source": [
        "# Outlier Analysis and Identification\n",
        "# Change type data\n",
        "data['timestamp_log'] = pd.to_datetime(data['timestamp_log'])"
      ],
      "metadata": {
        "id": "1xxO_u4K66Zg"
      },
      "execution_count": 26,
      "outputs": []
    },
    {
      "cell_type": "code",
      "source": [
        "# Analyze relevant columns\n",
        "data['durasi_tes'] = (data['ujian_ditutup'] - data['ujian_dimulai']).dt.total_seconds()"
      ],
      "metadata": {
        "id": "XP8VQy9H7cOj"
      },
      "execution_count": 27,
      "outputs": []
    },
    {
      "cell_type": "code",
      "source": [
        "data[\"durasi_tes\"].value_counts()"
      ],
      "metadata": {
        "id": "0JfMmGeiWAvz",
        "colab": {
          "base_uri": "https://localhost:8080/",
          "height": 489
        },
        "outputId": "325b5e02-c4d0-4e1f-a961-fb1bdd590132"
      },
      "execution_count": 28,
      "outputs": [
        {
          "output_type": "execute_result",
          "data": {
            "text/plain": [
              "durasi_tes\n",
              "86400.0      1280\n",
              "154740.0     1048\n",
              "10800.0       279\n",
              "172800.0      261\n",
              "174925.0      234\n",
              "             ... \n",
              "111960.0        1\n",
              "36180.0         1\n",
              "381540.0        1\n",
              "1296000.0       1\n",
              "172860.0        1\n",
              "Name: count, Length: 387, dtype: int64"
            ],
            "text/html": [
              "<div>\n",
              "<style scoped>\n",
              "    .dataframe tbody tr th:only-of-type {\n",
              "        vertical-align: middle;\n",
              "    }\n",
              "\n",
              "    .dataframe tbody tr th {\n",
              "        vertical-align: top;\n",
              "    }\n",
              "\n",
              "    .dataframe thead th {\n",
              "        text-align: right;\n",
              "    }\n",
              "</style>\n",
              "<table border=\"1\" class=\"dataframe\">\n",
              "  <thead>\n",
              "    <tr style=\"text-align: right;\">\n",
              "      <th></th>\n",
              "      <th>count</th>\n",
              "    </tr>\n",
              "    <tr>\n",
              "      <th>durasi_tes</th>\n",
              "      <th></th>\n",
              "    </tr>\n",
              "  </thead>\n",
              "  <tbody>\n",
              "    <tr>\n",
              "      <th>86400.0</th>\n",
              "      <td>1280</td>\n",
              "    </tr>\n",
              "    <tr>\n",
              "      <th>154740.0</th>\n",
              "      <td>1048</td>\n",
              "    </tr>\n",
              "    <tr>\n",
              "      <th>10800.0</th>\n",
              "      <td>279</td>\n",
              "    </tr>\n",
              "    <tr>\n",
              "      <th>172800.0</th>\n",
              "      <td>261</td>\n",
              "    </tr>\n",
              "    <tr>\n",
              "      <th>174925.0</th>\n",
              "      <td>234</td>\n",
              "    </tr>\n",
              "    <tr>\n",
              "      <th>...</th>\n",
              "      <td>...</td>\n",
              "    </tr>\n",
              "    <tr>\n",
              "      <th>111960.0</th>\n",
              "      <td>1</td>\n",
              "    </tr>\n",
              "    <tr>\n",
              "      <th>36180.0</th>\n",
              "      <td>1</td>\n",
              "    </tr>\n",
              "    <tr>\n",
              "      <th>381540.0</th>\n",
              "      <td>1</td>\n",
              "    </tr>\n",
              "    <tr>\n",
              "      <th>1296000.0</th>\n",
              "      <td>1</td>\n",
              "    </tr>\n",
              "    <tr>\n",
              "      <th>172860.0</th>\n",
              "      <td>1</td>\n",
              "    </tr>\n",
              "  </tbody>\n",
              "</table>\n",
              "<p>387 rows × 1 columns</p>\n",
              "</div><br><label><b>dtype:</b> int64</label>"
            ]
          },
          "metadata": {},
          "execution_count": 28
        }
      ]
    },
    {
      "cell_type": "code",
      "source": [
        "plt.hist(data['durasi_tes'], bins=20, edgecolor='black')\n",
        "plt.title('Histogram Durasi Tes')\n",
        "plt.xlabel('Durasi tes (detik)')\n",
        "plt.ylabel('Frekuensi')\n",
        "plt.show()\n"
      ],
      "metadata": {
        "id": "HZ8lHJd1sHun",
        "colab": {
          "base_uri": "https://localhost:8080/",
          "height": 472
        },
        "outputId": "afc73617-f5d4-4a4c-ff0c-9593be33a408"
      },
      "execution_count": 29,
      "outputs": [
        {
          "output_type": "display_data",
          "data": {
            "text/plain": [
              "<Figure size 640x480 with 1 Axes>"
            ],
            "image/png": "[encoded data removed]"
          },
          "metadata": {}
        }
      ]
    },
    {
      "cell_type": "code",
      "source": [
        "# make a function to check the outlier\n",
        "def cek_outlier(nama_kolom, batas):\n",
        "  Q1 = np.percentile(data[nama_kolom], 25,\n",
        "                     interpolation = 'midpoint')\n",
        "\n",
        "  Q3 = np.percentile(data[nama_kolom], 75,\n",
        "                     interpolation = 'midpoint')\n",
        "\n",
        "  IQR = Q3 - Q1\n",
        "\n",
        "  if batas == 'upper_bound':\n",
        "      bound = np.where(data[nama_kolom] >= (Q3 + 1.5*IQR))\n",
        "  elif batas == 'lower_bound':\n",
        "      bound = np.where(data[nama_kolom] <= (Q1 - 1.5*IQR))\n",
        "  return list(bound[0])"
      ],
      "metadata": {
        "id": "9HPFrVCX-WTL"
      },
      "execution_count": 30,
      "outputs": []
    },
    {
      "cell_type": "code",
      "source": [
        "#durasi_tes\n",
        "upper_durasi_tes = cek_outlier('durasi_tes', 'upper_bound')\n",
        "lower_durasi_tes = cek_outlier('durasi_tes', 'lower_bound')\n",
        "print(f\"Total outlier di kolom durasi_tes : {len(upper_durasi_tes) + len(lower_durasi_tes)}\")\n",
        "\n",
        "#ujian_dimulai\n",
        "upper_ujian_dimulai = cek_outlier('ujian_dimulai', 'upper_bound')\n",
        "lower_ujian_dimulai = cek_outlier('ujian_dimulai', 'lower_bound')\n",
        "print(f\"Total outlier di kolom ujian_dimulai : {len(upper_ujian_dimulai) + len(lower_ujian_dimulai)}\")\n",
        "\n",
        "#ujian_ditutup\n",
        "upper_ujian_ditutup = cek_outlier('ujian_ditutup', 'upper_bound')\n",
        "lower_ujian_ditutup = cek_outlier('ujian_ditutup', 'lower_bound')\n",
        "print(f\"Total outlier di kolom ujian_ditutup : {len(upper_ujian_ditutup) + len(lower_ujian_ditutup)}\")"
      ],
      "metadata": {
        "id": "T8QPxX1lkJEQ",
        "colab": {
          "base_uri": "https://localhost:8080/"
        },
        "outputId": "b7715801-2669-4559-d9e7-e29611e44709"
      },
      "execution_count": 32,
      "outputs": [
        {
          "output_type": "stream",
          "name": "stdout",
          "text": [
            "Total outlier di kolom durasi_tes : 1081\n",
            "Total outlier di kolom ujian_dimulai : 293\n",
            "Total outlier di kolom ujian_ditutup : 254\n"
          ]
        }
      ]
    },
    {
      "cell_type": "code",
      "source": [
        "def filter_outliers(df, nama_kolom):\n",
        "    if nama_kolom == 'durasi_tes':\n",
        "        data_temp = df.loc[~df.index.isin(upper_durasi_tes)]\n",
        "        data_temp = data_temp.loc[~data_temp.index.isin(lower_durasi_tes)]\n",
        "        return data_temp\n",
        "    if nama_kolom == 'ujian_dimulai':\n",
        "        data_temp = df.loc[~df.index.isin(upper_ujian_dimulai)]\n",
        "        data_temp = data_temp.loc[~data_temp.index.isin(lower_ujian_dimulai)]\n",
        "        return data_temp\n",
        "    if nama_kolom == 'ujian_ditutup':\n",
        "        data_temp = df.loc[~df.index.isin(upper_ujian_ditutup)]\n",
        "        data_temp = data_temp.loc[~data_temp.index.isin(lower_ujian_ditutup)]\n",
        "        return data_temp"
      ],
      "metadata": {
        "id": "6RsoX0XtkhYh"
      },
      "execution_count": 33,
      "outputs": []
    },
    {
      "cell_type": "code",
      "source": [
        "columns_to_filter = ['durasi_tes', 'ujian_dimulai', 'ujian_ditutup']\n",
        "data_final = data.copy()\n",
        "for column in columns_to_filter:\n",
        "    data_final = filter_outliers(data_final, column)\n",
        "\n",
        "print(data_final.shape)"
      ],
      "metadata": {
        "id": "rDjcq-ahktfw",
        "colab": {
          "base_uri": "https://localhost:8080/"
        },
        "outputId": "25dd7be4-60b7-4606-9b0d-61792803374b"
      },
      "execution_count": 34,
      "outputs": [
        {
          "output_type": "stream",
          "name": "stdout",
          "text": [
            "(9664, 8)\n"
          ]
        }
      ]
    },
    {
      "cell_type": "markdown",
      "source": [
        "# 1. Completion Rate"
      ],
      "metadata": {
        "id": "cHem6Q4xlF9d"
      }
    },
    {
      "cell_type": "code",
      "source": [
        "data_final[\"pesan_log\"].value_counts()"
      ],
      "metadata": {
        "colab": {
          "base_uri": "https://localhost:8080/",
          "height": 1000
        },
        "id": "oax4sruS4YFm",
        "outputId": "89a67af7-6549-4f7f-bd5a-5ef32b892b1b"
      },
      "execution_count": 35,
      "outputs": [
        {
          "output_type": "execute_result",
          "data": {
            "text/plain": [
              "pesan_log\n",
              "Memulai Tes Penalaran Matematika                  2268\n",
              "Selesai Tes Penalaran Matematika                   613\n",
              "Memulai Tes Bidang Studi                           609\n",
              "Selesai Tes Bidang Studi                           581\n",
              "Selesai Bagian 2 Tes Kemampuan Bahasa Inggris      509\n",
              "Selesai Bagian 1 Tes Kemampuan Bahasa Inggris      509\n",
              "Selesai Bagian 3 Tes Kemampuan Bahasa Inggris      507\n",
              "Memulai Bagian 3 Tes Kemampuan Bahasa Inggris      507\n",
              "Memulai Bagian 1 Tes Kemampuan Bahasa Inggris      507\n",
              "Selesai Tes Kemampuan Bahasa Inggris               506\n",
              "Memulai Tes Kemampuan Bahasa Inggris               506\n",
              "Memulai Bagian 2 Tes Kemampuan Bahasa Inggris      505\n",
              "Memulai Tes Kemampuan Visual Spasial               238\n",
              "Selesai Tes Kemampuan Visual Spasial               224\n",
              "Selesai Tes Literasi Bahasa Indonesia              130\n",
              "Memulai Tes Literasi Bahasa Indonesia              130\n",
              "Memulai Bagian 3 Tes Literasi Bahasa Indonesia     130\n",
              "Selesai Bagian 1 Tes Literasi Bahasa Indonesia     129\n",
              "Selesai Bagian 2 Tes Literasi Bahasa Indonesia     129\n",
              "Selesai Bagian 3 Tes Literasi Bahasa Indonesia     129\n",
              "Memulai Bagian 2 Tes Literasi Bahasa Indonesia     127\n",
              "Memulai Bagian 1 Tes Literasi Bahasa Indonesia     124\n",
              "Memulai Bagian 4 Tes Kemampuan Bahasa Inggris       13\n",
              "Selesai Bagian 4 Tes Kemampuan Bahasa Inggris       12\n",
              "Selesai Bagian 4 Tes Literasi Bahasa Indonesia       5\n",
              "Memulai Bagian 4 Tes Literasi Bahasa Indonesia       5\n",
              "Selesai Bagian 6 Tes Kemampuan Bahasa Inggris        2\n",
              "Memulai Bagian 6 Tes Kemampuan Bahasa Inggris        2\n",
              "Selesai Bagian 5 Tes Kemampuan Bahasa Inggris        2\n",
              "Memulai Bagian 5 Tes Kemampuan Bahasa Inggris        2\n",
              "Selesai Bagian 7 Tes Kemampuan Bahasa Inggris        1\n",
              "Memulai Bagian 7 Tes Kemampuan Bahasa Inggris        1\n",
              "Selesai Bagian 5 Tes Literasi Bahasa Indonesia       1\n",
              "Memulai Bagian 5 Tes Literasi Bahasa Indonesia       1\n",
              "Name: count, dtype: int64"
            ],
            "text/html": [
              "<div>\n",
              "<style scoped>\n",
              "    .dataframe tbody tr th:only-of-type {\n",
              "        vertical-align: middle;\n",
              "    }\n",
              "\n",
              "    .dataframe tbody tr th {\n",
              "        vertical-align: top;\n",
              "    }\n",
              "\n",
              "    .dataframe thead th {\n",
              "        text-align: right;\n",
              "    }\n",
              "</style>\n",
              "<table border=\"1\" class=\"dataframe\">\n",
              "  <thead>\n",
              "    <tr style=\"text-align: right;\">\n",
              "      <th></th>\n",
              "      <th>count</th>\n",
              "    </tr>\n",
              "    <tr>\n",
              "      <th>pesan_log</th>\n",
              "      <th></th>\n",
              "    </tr>\n",
              "  </thead>\n",
              "  <tbody>\n",
              "    <tr>\n",
              "      <th>Memulai Tes Penalaran Matematika</th>\n",
              "      <td>2268</td>\n",
              "    </tr>\n",
              "    <tr>\n",
              "      <th>Selesai Tes Penalaran Matematika</th>\n",
              "      <td>613</td>\n",
              "    </tr>\n",
              "    <tr>\n",
              "      <th>Memulai Tes Bidang Studi</th>\n",
              "      <td>609</td>\n",
              "    </tr>\n",
              "    <tr>\n",
              "      <th>Selesai Tes Bidang Studi</th>\n",
              "      <td>581</td>\n",
              "    </tr>\n",
              "    <tr>\n",
              "      <th>Selesai Bagian 2 Tes Kemampuan Bahasa Inggris</th>\n",
              "      <td>509</td>\n",
              "    </tr>\n",
              "    <tr>\n",
              "      <th>Selesai Bagian 1 Tes Kemampuan Bahasa Inggris</th>\n",
              "      <td>509</td>\n",
              "    </tr>\n",
              "    <tr>\n",
              "      <th>Selesai Bagian 3 Tes Kemampuan Bahasa Inggris</th>\n",
              "      <td>507</td>\n",
              "    </tr>\n",
              "    <tr>\n",
              "      <th>Memulai Bagian 3 Tes Kemampuan Bahasa Inggris</th>\n",
              "      <td>507</td>\n",
              "    </tr>\n",
              "    <tr>\n",
              "      <th>Memulai Bagian 1 Tes Kemampuan Bahasa Inggris</th>\n",
              "      <td>507</td>\n",
              "    </tr>\n",
              "    <tr>\n",
              "      <th>Selesai Tes Kemampuan Bahasa Inggris</th>\n",
              "      <td>506</td>\n",
              "    </tr>\n",
              "    <tr>\n",
              "      <th>Memulai Tes Kemampuan Bahasa Inggris</th>\n",
              "      <td>506</td>\n",
              "    </tr>\n",
              "    <tr>\n",
              "      <th>Memulai Bagian 2 Tes Kemampuan Bahasa Inggris</th>\n",
              "      <td>505</td>\n",
              "    </tr>\n",
              "    <tr>\n",
              "      <th>Memulai Tes Kemampuan Visual Spasial</th>\n",
              "      <td>238</td>\n",
              "    </tr>\n",
              "    <tr>\n",
              "      <th>Selesai Tes Kemampuan Visual Spasial</th>\n",
              "      <td>224</td>\n",
              "    </tr>\n",
              "    <tr>\n",
              "      <th>Selesai Tes Literasi Bahasa Indonesia</th>\n",
              "      <td>130</td>\n",
              "    </tr>\n",
              "    <tr>\n",
              "      <th>Memulai Tes Literasi Bahasa Indonesia</th>\n",
              "      <td>130</td>\n",
              "    </tr>\n",
              "    <tr>\n",
              "      <th>Memulai Bagian 3 Tes Literasi Bahasa Indonesia</th>\n",
              "      <td>130</td>\n",
              "    </tr>\n",
              "    <tr>\n",
              "      <th>Selesai Bagian 1 Tes Literasi Bahasa Indonesia</th>\n",
              "      <td>129</td>\n",
              "    </tr>\n",
              "    <tr>\n",
              "      <th>Selesai Bagian 2 Tes Literasi Bahasa Indonesia</th>\n",
              "      <td>129</td>\n",
              "    </tr>\n",
              "    <tr>\n",
              "      <th>Selesai Bagian 3 Tes Literasi Bahasa Indonesia</th>\n",
              "      <td>129</td>\n",
              "    </tr>\n",
              "    <tr>\n",
              "      <th>Memulai Bagian 2 Tes Literasi Bahasa Indonesia</th>\n",
              "      <td>127</td>\n",
              "    </tr>\n",
              "    <tr>\n",
              "      <th>Memulai Bagian 1 Tes Literasi Bahasa Indonesia</th>\n",
              "      <td>124</td>\n",
              "    </tr>\n",
              "    <tr>\n",
              "      <th>Memulai Bagian 4 Tes Kemampuan Bahasa Inggris</th>\n",
              "      <td>13</td>\n",
              "    </tr>\n",
              "    <tr>\n",
              "      <th>Selesai Bagian 4 Tes Kemampuan Bahasa Inggris</th>\n",
              "      <td>12</td>\n",
              "    </tr>\n",
              "    <tr>\n",
              "      <th>Selesai Bagian 4 Tes Literasi Bahasa Indonesia</th>\n",
              "      <td>5</td>\n",
              "    </tr>\n",
              "    <tr>\n",
              "      <th>Memulai Bagian 4 Tes Literasi Bahasa Indonesia</th>\n",
              "      <td>5</td>\n",
              "    </tr>\n",
              "    <tr>\n",
              "      <th>Selesai Bagian 6 Tes Kemampuan Bahasa Inggris</th>\n",
              "      <td>2</td>\n",
              "    </tr>\n",
              "    <tr>\n",
              "      <th>Memulai Bagian 6 Tes Kemampuan Bahasa Inggris</th>\n",
              "      <td>2</td>\n",
              "    </tr>\n",
              "    <tr>\n",
              "      <th>Selesai Bagian 5 Tes Kemampuan Bahasa Inggris</th>\n",
              "      <td>2</td>\n",
              "    </tr>\n",
              "    <tr>\n",
              "      <th>Memulai Bagian 5 Tes Kemampuan Bahasa Inggris</th>\n",
              "      <td>2</td>\n",
              "    </tr>\n",
              "    <tr>\n",
              "      <th>Selesai Bagian 7 Tes Kemampuan Bahasa Inggris</th>\n",
              "      <td>1</td>\n",
              "    </tr>\n",
              "    <tr>\n",
              "      <th>Memulai Bagian 7 Tes Kemampuan Bahasa Inggris</th>\n",
              "      <td>1</td>\n",
              "    </tr>\n",
              "    <tr>\n",
              "      <th>Selesai Bagian 5 Tes Literasi Bahasa Indonesia</th>\n",
              "      <td>1</td>\n",
              "    </tr>\n",
              "    <tr>\n",
              "      <th>Memulai Bagian 5 Tes Literasi Bahasa Indonesia</th>\n",
              "      <td>1</td>\n",
              "    </tr>\n",
              "  </tbody>\n",
              "</table>\n",
              "</div><br><label><b>dtype:</b> int64</label>"
            ]
          },
          "metadata": {},
          "execution_count": 35
        }
      ]
    },
    {
      "cell_type": "code",
      "source": [
        "data_final['status_ujian'] = data_final['pesan_log'].apply(lambda x: 'Mengikuti Tes Bidang Studi' if 'memulai tes bidang studi' in x.lower() else 'Selesai Tes Bidang Studi' if 'selesai tes bidang studi' in x.lower()\n",
        "                                                            else 'Mengikuti Tes Kemampuan Bahasa Inggris' if 'memulai tes kemampuan bahasa inggris' in x.lower() else 'Selesai Tes Kemampuan Bahasa Inggris' if 'selesai tes kemampuan bahasa inggris' in x.lower()\n",
        "                                                            else 'Mengikuti Tes Kemampuan Visual Spasial' if 'memulai tes kemampuan visual spasial' in x.lower() else 'Selesai Tes Kemampuan Visual Spasial' if 'selesai tes kemampuan visual spasial' in x.lower()\n",
        "                                                            else 'Mengikuti Tes Literasi Bahasa Indonesia' if 'memulai tes literasi bahasa indonesia' in x.lower() else 'Selesai Tes Literasi Bahasa Indonesia' if 'selesai tes literasi bahasa indonesia' in x.lower()\n",
        "                                                            else 'Mengikuti Tes Penalaran Matematika' if 'memulai tes penalaran matematika' in x.lower() else 'Selesai Tes Penalaran Matematika' if 'selesai tes penalaran matematika' in x.lower() else 'Lainnya' )\n",
        "\n",
        "# Showing Completion exam rate\n",
        "tingkat_penyelesaian = data_final.groupby('status_ujian').size().reset_index(name='Jumlah')\n",
        "\n",
        "kategori_urutan = [\n",
        "    'Mengikuti Tes Bidang Studi', 'Selesai Tes Bidang Studi',\n",
        "    'Mengikuti Tes Kemampuan Bahasa Inggris', 'Selesai Tes Kemampuan Bahasa Inggris',\n",
        "    'Mengikuti Tes Kemampuan Visual Spasial', 'Selesai Tes Kemampuan Visual Spasial',\n",
        "    'Mengikuti Tes Literasi Bahasa Indonesia', 'Selesai Tes Literasi Bahasa Indonesia',\n",
        "    'Mengikuti Tes Penalaran Matematika', 'Selesai Tes Penalaran Matematika', 'Lainnya'\n",
        "]\n",
        "\n",
        "# pd.Categorical o establish the order of categories\n",
        "tingkat_penyelesaian['status_ujian'] = pd.Categorical(tingkat_penyelesaian['status_ujian'], categories=kategori_urutan, ordered=True)\n",
        "\n",
        "# Ordering DataFrame by categories\n",
        "tingkat_penyelesaian = tingkat_penyelesaian.sort_values('status_ujian')\n",
        "\n",
        "print(tingkat_penyelesaian)"
      ],
      "metadata": {
        "id": "-jgS0JUhlJbH",
        "colab": {
          "base_uri": "https://localhost:8080/"
        },
        "outputId": "07d9f089-dcf9-40c9-8451-740ab2fc786e"
      },
      "execution_count": 37,
      "outputs": [
        {
          "output_type": "stream",
          "name": "stdout",
          "text": [
            "                               status_ujian  Jumlah\n",
            "1                Mengikuti Tes Bidang Studi     609\n",
            "6                  Selesai Tes Bidang Studi     581\n",
            "2    Mengikuti Tes Kemampuan Bahasa Inggris     506\n",
            "7      Selesai Tes Kemampuan Bahasa Inggris     506\n",
            "3    Mengikuti Tes Kemampuan Visual Spasial     238\n",
            "8      Selesai Tes Kemampuan Visual Spasial     224\n",
            "4   Mengikuti Tes Literasi Bahasa Indonesia     130\n",
            "9     Selesai Tes Literasi Bahasa Indonesia     130\n",
            "5        Mengikuti Tes Penalaran Matematika    2268\n",
            "10         Selesai Tes Penalaran Matematika     613\n",
            "0                                   Lainnya    3859\n"
          ]
        }
      ]
    },
    {
      "cell_type": "code",
      "source": [
        "# Get data for all test\n",
        "semua_tes = tingkat_penyelesaian[tingkat_penyelesaian['status_ujian'].str.contains('Tes Bidang Studi|Tes Kemampuan Bahasa Inggris|Tes Kemampuan Visual Spasial|Tes Literasi Bahasa Indonesia|Tes Penalaran Matematika')]"
      ],
      "metadata": {
        "id": "vInC17KkmF3I"
      },
      "execution_count": 38,
      "outputs": []
    },
    {
      "cell_type": "markdown",
      "source": [
        "###**Tes Bidang Studi**"
      ],
      "metadata": {
        "id": "qZmCPwvHl9t5"
      }
    },
    {
      "cell_type": "code",
      "source": [
        "jumlah_selesai_bidang_studi = semua_tes[semua_tes['status_ujian'] == 'Selesai Tes Bidang Studi']['Jumlah'].sum()\n",
        "jumlah_memulai_bidang_studi = semua_tes[semua_tes['status_ujian'] == 'Mengikuti Tes Bidang Studi']['Jumlah'].sum()\n",
        "persentase_penyelesaian_bidang_studi = (jumlah_selesai_bidang_studi / jumlah_memulai_bidang_studi) * 100 if jumlah_memulai_bidang_studi > 0 else 0\n",
        "\n",
        "print(\"Quantity of 'Selesai Tes Bidang Studi':\", jumlah_selesai_bidang_studi)\n",
        "print(\"Quantity of 'Mengikuti Tes Bidang Studi':\", jumlah_memulai_bidang_studi)\n",
        "print(\"Percentage of 'Penyelesaian Tes Bidang Studi':\", persentase_penyelesaian_bidang_studi, \"%\")"
      ],
      "metadata": {
        "id": "pilVLzgal8mX",
        "colab": {
          "base_uri": "https://localhost:8080/"
        },
        "outputId": "5757102e-9dc6-4b3f-ece8-07d637467887"
      },
      "execution_count": 39,
      "outputs": [
        {
          "output_type": "stream",
          "name": "stdout",
          "text": [
            "Quantity of 'Selesai Tes Bidang Studi': 581\n",
            "Quantity of 'Mengikuti Tes Bidang Studi': 609\n",
            "Percentage of 'Penyelesaian Tes Bidang Studi': 95.40229885057471 %\n"
          ]
        }
      ]
    },
    {
      "cell_type": "markdown",
      "source": [
        "###**Tes Kemampuan Bahasa Inggris**"
      ],
      "metadata": {
        "id": "bwks9CGmmQMl"
      }
    },
    {
      "cell_type": "code",
      "source": [
        "jumlah_selesai_inggris = semua_tes[semua_tes['status_ujian'] == 'Selesai Tes Kemampuan Bahasa Inggris']['Jumlah'].sum()\n",
        "jumlah_memulai_inggris = semua_tes[semua_tes['status_ujian'] == 'Mengikuti Tes Kemampuan Bahasa Inggris']['Jumlah'].sum()\n",
        "persentase_penyelesaian_inggris = (jumlah_selesai_inggris / jumlah_memulai_inggris) * 100 if jumlah_memulai_inggris > 0 else 0\n",
        "\n",
        "# Menampilkan hasil\n",
        "print(\"Quantity of 'Selesai Tes Kemampuan Bahasa Inggris':\", jumlah_selesai_inggris)\n",
        "print(\"Quantity of 'Mengikuti Tes Kemampuan Bahasa Inggris':\", jumlah_memulai_inggris)\n",
        "print(\"Percentage of 'Penyelesaian Tes Kemampuan Bahasa Inggris':\", persentase_penyelesaian_inggris, \"%\")"
      ],
      "metadata": {
        "id": "j9dizicgmWO4",
        "colab": {
          "base_uri": "https://localhost:8080/"
        },
        "outputId": "de348a83-a91c-4ab8-c775-0699193a0265"
      },
      "execution_count": 43,
      "outputs": [
        {
          "output_type": "stream",
          "name": "stdout",
          "text": [
            "Quantity of 'Selesai Tes Kemampuan Bahasa Inggris': 506\n",
            "Quantity of 'Mengikuti Tes Kemampuan Bahasa Inggris': 506\n",
            "Percentage of 'Penyelesaian Tes Kemampuan Bahasa Inggris': 100.0 %\n"
          ]
        }
      ]
    },
    {
      "cell_type": "markdown",
      "source": [
        "###**Tes Kemampuan Visual Spasial**"
      ],
      "metadata": {
        "id": "UrAs6Zs5mWtE"
      }
    },
    {
      "cell_type": "code",
      "source": [
        "jumlah_selesai_visual = semua_tes[semua_tes['status_ujian'] == 'Selesai Tes Kemampuan Visual Spasial']['Jumlah'].sum()\n",
        "jumlah_memulai_visual = semua_tes[semua_tes['status_ujian'] == 'Mengikuti Tes Kemampuan Visual Spasial']['Jumlah'].sum()\n",
        "persentase_penyelesaian_visual = (jumlah_selesai_visual / jumlah_memulai_visual) * 100 if jumlah_memulai_visual > 0 else 0\n",
        "\n",
        "# Menampilkan hasil\n",
        "print(\"Quantity of 'Selesai Tes Kemampuan Visual Spasial':\", jumlah_selesai_visual)\n",
        "print(\"Quantity of 'Mengikuti Tes Kemampuan Visual Spasial':\", jumlah_memulai_visual)\n",
        "print(\"Percentage of 'Penyelesaian Tes Kemampuan Visual Spasial':\", persentase_penyelesaian_visual, \"%\")"
      ],
      "metadata": {
        "id": "6u_iAvOamZrg",
        "colab": {
          "base_uri": "https://localhost:8080/"
        },
        "outputId": "057076bf-116b-469d-c5aa-9160b40e3137"
      },
      "execution_count": 42,
      "outputs": [
        {
          "output_type": "stream",
          "name": "stdout",
          "text": [
            "Quantity of 'Selesai Tes Kemampuan Visual Spasial': 224\n",
            "Quantity of 'Mengikuti Tes Kemampuan Visual Spasial': 238\n",
            "Percentage of 'Penyelesaian Tes Kemampuan Visual Spasial': 94.11764705882352 %\n"
          ]
        }
      ]
    },
    {
      "cell_type": "markdown",
      "source": [
        "###**Tes Literasi Bahasa Indonesia**"
      ],
      "metadata": {
        "id": "SH7-aioimaFY"
      }
    },
    {
      "cell_type": "code",
      "source": [
        "jumlah_selesai_indonesia = semua_tes[semua_tes['status_ujian'] == 'Selesai Tes Literasi Bahasa Indonesia']['Jumlah'].sum()\n",
        "jumlah_memulai_indonesia = semua_tes[semua_tes['status_ujian'] == 'Mengikuti Tes Literasi Bahasa Indonesia']['Jumlah'].sum()\n",
        "persentase_penyelesaian_indonesia = (jumlah_selesai_indonesia / jumlah_memulai_indonesia) * 100 if jumlah_memulai_indonesia > 0 else 0\n",
        "\n",
        "# Menampilkan hasil\n",
        "print(\"Quantity of 'Selesai Tes Literasi Bahasa Indonesia':\", jumlah_selesai_indonesia)\n",
        "print(\"Quantity of 'Mengikuti Tes Literasi Bahasa Indonesia':\", jumlah_memulai_indonesia)\n",
        "print(\"Percentage of 'Penyelesaian Tes Literasi Bahasa Indonesia':\", persentase_penyelesaian_indonesia, \"%\")"
      ],
      "metadata": {
        "id": "-SYjltmmmdfU",
        "colab": {
          "base_uri": "https://localhost:8080/"
        },
        "outputId": "a3ff8849-7596-4975-974e-74cea19726f7"
      },
      "execution_count": 44,
      "outputs": [
        {
          "output_type": "stream",
          "name": "stdout",
          "text": [
            "Quantity of 'Selesai Tes Literasi Bahasa Indonesia': 130\n",
            "Quantity of 'Mengikuti Tes Literasi Bahasa Indonesia': 130\n",
            "Percentage of 'Penyelesaian Tes Literasi Bahasa Indonesia': 100.0 %\n"
          ]
        }
      ]
    },
    {
      "cell_type": "markdown",
      "source": [
        "###**Tes Penalaran Matematika**"
      ],
      "metadata": {
        "id": "QSUV4rZfmd7t"
      }
    },
    {
      "cell_type": "code",
      "source": [
        "# Menghitung persentase penyelesaian untuk Tes Penalaran Matematika\n",
        "jumlah_selesai_penalaran = semua_tes[semua_tes['status_ujian'] == 'Selesai Tes Penalaran Matematika']['Jumlah'].sum()\n",
        "jumlah_memulai_penalaran = semua_tes[semua_tes['status_ujian'] == 'Mengikuti Tes Penalaran Matematika']['Jumlah'].sum()\n",
        "persentase_penyelesaian_penalaran = (jumlah_selesai_penalaran / jumlah_memulai_penalaran) * 100 if jumlah_memulai_penalaran > 0 else 0\n",
        "\n",
        "# Menampilkan hasil\n",
        "print(\"Quantity of 'Selesai Tes Penalaran Matematika':\", jumlah_selesai_penalaran)\n",
        "print(\"Quantity of 'Mengikuti Tes Penalaran Matematika':\", jumlah_memulai_penalaran)\n",
        "print(\"Percentage of 'Penyelesaian Tes Penalaran Matematika':\", persentase_penyelesaian_penalaran, \"%\")"
      ],
      "metadata": {
        "id": "hjy12Do3mg2L",
        "colab": {
          "base_uri": "https://localhost:8080/"
        },
        "outputId": "917a3750-8d34-4e54-f4e5-7f291d120e4b"
      },
      "execution_count": 45,
      "outputs": [
        {
          "output_type": "stream",
          "name": "stdout",
          "text": [
            "Quantity of 'Selesai Tes Penalaran Matematika': 613\n",
            "Quantity of 'Mengikuti Tes Penalaran Matematika': 2268\n",
            "Percentage of 'Penyelesaian Tes Penalaran Matematika': 27.028218694885364 %\n"
          ]
        }
      ]
    },
    {
      "cell_type": "markdown",
      "source": [
        "# 2. How is the overall picture of the exam completion rate? Are there any differences in completion rates based on test components?"
      ],
      "metadata": {
        "id": "cTwqi5E9NNvR"
      }
    },
    {
      "cell_type": "code",
      "source": [
        "# Filter data for 'tes kemampuan bahasa inggris'\n",
        "semua_tes = semua_tes[semua_tes['status_ujian'].str.contains('Tes Bidang Studi|Tes Kemampuan Bahasa Inggris|Tes Kemampuan Visual Spasial|Tes Literasi Bahasa Indonesia|Tes Penalaran Matematika')]\n",
        "\n",
        "# Make a list of color based on 'status_ujian'\n",
        "colour = ['red' if 'Mengikuti' in status else 'green' for status in semua_tes['status_ujian']]\n",
        "\n",
        "plt.figure(figsize=(10, 6))\n",
        "plt.bar(semua_tes['status_ujian'], semua_tes['Jumlah'], color=colour)\n",
        "plt.title('Tingkat Penyelesaian Ujian - Semua Tes')\n",
        "plt.xlabel('Status Ujian')\n",
        "plt.ylabel('Jumlah')\n",
        "plt.xticks(rotation=45, ha='right')\n",
        "plt.tight_layout()\n",
        "plt.show()\n"
      ],
      "metadata": {
        "colab": {
          "base_uri": "https://localhost:8080/",
          "height": 607
        },
        "id": "GVFoc1N_ItK9",
        "outputId": "9e9c3e88-adfb-4d69-9d24-1592e5c3a601"
      },
      "execution_count": 46,
      "outputs": [
        {
          "output_type": "display_data",
          "data": {
            "text/plain": [
              "<Figure size 1000x600 with 1 Axes>"
            ],
            "image/png": "[encoded data removed]"
          },
          "metadata": {}
        }
      ]
    },
    {
      "cell_type": "markdown",
      "source": [
        "# 3. How do the day and time of test completion vary? Do prospective students have specific preferences?"
      ],
      "metadata": {
        "id": "zvTcKvXlQiEk"
      }
    },
    {
      "cell_type": "code",
      "source": [
        "data_final.head()"
      ],
      "metadata": {
        "colab": {
          "base_uri": "https://localhost:8080/",
          "height": 293
        },
        "id": "evDDmGBJceee",
        "outputId": "43fae92b-7f3f-4953-8a90-dbea16dbea3a"
      },
      "execution_count": 47,
      "outputs": [
        {
          "output_type": "execute_result",
          "data": {
            "text/plain": [
              "                           id_ujian                        id_peserta  \\\n",
              "0  29fbeda12fc84baaab209699439aba09  982b41ef78bcc73e9dcbb9110afce55b   \n",
              "1  29fbeda12fc84baaab209699439aba09  982b41ef78bcc73e9dcbb9110afce55b   \n",
              "2  e82a71007130c199a90961842d15b339  9f2de4269e67bd7e3d837026252a4bfb   \n",
              "3  e82a71007130c199a90961842d15b339  9f2de4269e67bd7e3d837026252a4bfb   \n",
              "4  8489127cbef60df4ff9aaeda12eeb327  b0afe01565fd69bc0c045ef84abc848e   \n",
              "\n",
              "        ujian_dimulai       ujian_ditutup                 jenis_tes  \\\n",
              "0 2022-06-07 15:52:00 2022-06-09 21:00:00              Bidang Studi   \n",
              "1 2022-06-07 15:52:00 2022-06-09 21:00:00              Bidang Studi   \n",
              "2 2022-09-08 10:30:00 2022-09-09 10:30:00  Kemampuan Visual Spasial   \n",
              "3 2022-09-08 10:30:00 2022-09-09 10:30:00  Kemampuan Visual Spasial   \n",
              "4 2022-06-15 21:30:00 2022-06-16 23:59:00              Bidang Studi   \n",
              "\n",
              "        timestamp_log                             pesan_log  durasi_tes  \\\n",
              "0 2022-06-08 19:29:34              Selesai Tes Bidang Studi    191280.0   \n",
              "1 2022-06-08 19:15:02              Memulai Tes Bidang Studi    191280.0   \n",
              "2 2022-09-08 22:01:11  Selesai Tes Kemampuan Visual Spasial     86400.0   \n",
              "3 2022-09-08 21:49:11  Memulai Tes Kemampuan Visual Spasial     86400.0   \n",
              "4 2022-07-05 20:22:25      Memulai Tes Penalaran Matematika     95340.0   \n",
              "\n",
              "                             status_ujian  \n",
              "0                Selesai Tes Bidang Studi  \n",
              "1              Mengikuti Tes Bidang Studi  \n",
              "2    Selesai Tes Kemampuan Visual Spasial  \n",
              "3  Mengikuti Tes Kemampuan Visual Spasial  \n",
              "4      Mengikuti Tes Penalaran Matematika  "
            ],
            "text/html": [
              "\n",
              "  <div id=\"df-90973c0c-d0be-4d05-91d0-50d2899ca26c\" class=\"colab-df-container\">\n",
              "    <div>\n",
              "<style scoped>\n",
              "    .dataframe tbody tr th:only-of-type {\n",
              "        vertical-align: middle;\n",
              "    }\n",
              "\n",
              "    .dataframe tbody tr th {\n",
              "        vertical-align: top;\n",
              "    }\n",
              "\n",
              "    .dataframe thead th {\n",
              "        text-align: right;\n",
              "    }\n",
              "</style>\n",
              "<table border=\"1\" class=\"dataframe\">\n",
              "  <thead>\n",
              "    <tr style=\"text-align: right;\">\n",
              "      <th></th>\n",
              "      <th>id_ujian</th>\n",
              "      <th>id_peserta</th>\n",
              "      <th>ujian_dimulai</th>\n",
              "      <th>ujian_ditutup</th>\n",
              "      <th>jenis_tes</th>\n",
              "      <th>timestamp_log</th>\n",
              "      <th>pesan_log</th>\n",
              "      <th>durasi_tes</th>\n",
              "      <th>status_ujian</th>\n",
              "    </tr>\n",
              "  </thead>\n",
              "  <tbody>\n",
              "    <tr>\n",
              "      <th>0</th>\n",
              "      <td>29fbeda12fc84baaab209699439aba09</td>\n",
              "      <td>982b41ef78bcc73e9dcbb9110afce55b</td>\n",
              "      <td>2022-06-07 15:52:00</td>\n",
              "      <td>2022-06-09 21:00:00</td>\n",
              "      <td>Bidang Studi</td>\n",
              "      <td>2022-06-08 19:29:34</td>\n",
              "      <td>Selesai Tes Bidang Studi</td>\n",
              "      <td>191280.0</td>\n",
              "      <td>Selesai Tes Bidang Studi</td>\n",
              "    </tr>\n",
              "    <tr>\n",
              "      <th>1</th>\n",
              "      <td>29fbeda12fc84baaab209699439aba09</td>\n",
              "      <td>982b41ef78bcc73e9dcbb9110afce55b</td>\n",
              "      <td>2022-06-07 15:52:00</td>\n",
              "      <td>2022-06-09 21:00:00</td>\n",
              "      <td>Bidang Studi</td>\n",
              "      <td>2022-06-08 19:15:02</td>\n",
              "      <td>Memulai Tes Bidang Studi</td>\n",
              "      <td>191280.0</td>\n",
              "      <td>Mengikuti Tes Bidang Studi</td>\n",
              "    </tr>\n",
              "    <tr>\n",
              "      <th>2</th>\n",
              "      <td>e82a71007130c199a90961842d15b339</td>\n",
              "      <td>9f2de4269e67bd7e3d837026252a4bfb</td>\n",
              "      <td>2022-09-08 10:30:00</td>\n",
              "      <td>2022-09-09 10:30:00</td>\n",
              "      <td>Kemampuan Visual Spasial</td>\n",
              "      <td>2022-09-08 22:01:11</td>\n",
              "      <td>Selesai Tes Kemampuan Visual Spasial</td>\n",
              "      <td>86400.0</td>\n",
              "      <td>Selesai Tes Kemampuan Visual Spasial</td>\n",
              "    </tr>\n",
              "    <tr>\n",
              "      <th>3</th>\n",
              "      <td>e82a71007130c199a90961842d15b339</td>\n",
              "      <td>9f2de4269e67bd7e3d837026252a4bfb</td>\n",
              "      <td>2022-09-08 10:30:00</td>\n",
              "      <td>2022-09-09 10:30:00</td>\n",
              "      <td>Kemampuan Visual Spasial</td>\n",
              "      <td>2022-09-08 21:49:11</td>\n",
              "      <td>Memulai Tes Kemampuan Visual Spasial</td>\n",
              "      <td>86400.0</td>\n",
              "      <td>Mengikuti Tes Kemampuan Visual Spasial</td>\n",
              "    </tr>\n",
              "    <tr>\n",
              "      <th>4</th>\n",
              "      <td>8489127cbef60df4ff9aaeda12eeb327</td>\n",
              "      <td>b0afe01565fd69bc0c045ef84abc848e</td>\n",
              "      <td>2022-06-15 21:30:00</td>\n",
              "      <td>2022-06-16 23:59:00</td>\n",
              "      <td>Bidang Studi</td>\n",
              "      <td>2022-07-05 20:22:25</td>\n",
              "      <td>Memulai Tes Penalaran Matematika</td>\n",
              "      <td>95340.0</td>\n",
              "      <td>Mengikuti Tes Penalaran Matematika</td>\n",
              "    </tr>\n",
              "  </tbody>\n",
              "</table>\n",
              "</div>\n",
              "    <div class=\"colab-df-buttons\">\n",
              "\n",
              "  <div class=\"colab-df-container\">\n",
              "    <button class=\"colab-df-convert\" onclick=\"convertToInteractive('df-90973c0c-d0be-4d05-91d0-50d2899ca26c')\"\n",
              "            title=\"Convert this dataframe to an interactive table.\"\n",
              "            style=\"display:none;\">\n",
              "\n",
              "  <svg xmlns=\"http://www.w3.org/2000/svg\" height=\"24px\" viewBox=\"0 -960 960 960\">\n",
              "    <path d=\"M120-120v-720h720v720H120Zm60-500h600v-160H180v160Zm220 220h160v-160H400v160Zm0 220h160v-160H400v160ZM180-400h160v-160H180v160Zm440 0h160v-160H620v160ZM180-180h160v-160H180v160Zm440 0h160v-160H620v160Z\"/>\n",
              "  </svg>\n",
              "    </button>\n",
              "\n",
              "  <style>\n",
              "    .colab-df-container {\n",
              "      display:flex;\n",
              "      gap: 12px;\n",
              "    }\n",
              "\n",
              "    .colab-df-convert {\n",
              "      background-color: #E8F0FE;\n",
              "      border: none;\n",
              "      border-radius: 50%;\n",
              "      cursor: pointer;\n",
              "      display: none;\n",
              "      fill: #1967D2;\n",
              "      height: 32px;\n",
              "      padding: 0 0 0 0;\n",
              "      width: 32px;\n",
              "    }\n",
              "\n",
              "    .colab-df-convert:hover {\n",
              "      background-color: #E2EBFA;\n",
              "      box-shadow: 0px 1px 2px rgba(60, 64, 67, 0.3), 0px 1px 3px 1px rgba(60, 64, 67, 0.15);\n",
              "      fill: #174EA6;\n",
              "    }\n",
              "\n",
              "    .colab-df-buttons div {\n",
              "      margin-bottom: 4px;\n",
              "    }\n",
              "\n",
              "    [theme=dark] .colab-df-convert {\n",
              "      background-color: #3B4455;\n",
              "      fill: #D2E3FC;\n",
              "    }\n",
              "\n",
              "    [theme=dark] .colab-df-convert:hover {\n",
              "      background-color: #434B5C;\n",
              "      box-shadow: 0px 1px 3px 1px rgba(0, 0, 0, 0.15);\n",
              "      filter: drop-shadow(0px 1px 2px rgba(0, 0, 0, 0.3));\n",
              "      fill: #FFFFFF;\n",
              "    }\n",
              "  </style>\n",
              "\n",
              "    <script>\n",
              "      const buttonEl =\n",
              "        document.querySelector('#df-90973c0c-d0be-4d05-91d0-50d2899ca26c button.colab-df-convert');\n",
              "      buttonEl.style.display =\n",
              "        google.colab.kernel.accessAllowed ? 'block' : 'none';\n",
              "\n",
              "      async function convertToInteractive(key) {\n",
              "        const element = document.querySelector('#df-90973c0c-d0be-4d05-91d0-50d2899ca26c');\n",
              "        const dataTable =\n",
              "          await google.colab.kernel.invokeFunction('convertToInteractive',\n",
              "                                                    [key], {});\n",
              "        if (!dataTable) return;\n",
              "\n",
              "        const docLinkHtml = 'Like what you see? Visit the ' +\n",
              "          '<a target=\"_blank\" href=https://colab.research.google.com/notebooks/data_table.ipynb>data table notebook</a>'\n",
              "          + ' to learn more about interactive tables.';\n",
              "        element.innerHTML = '';\n",
              "        dataTable['output_type'] = 'display_data';\n",
              "        await google.colab.output.renderOutput(dataTable, element);\n",
              "        const docLink = document.createElement('div');\n",
              "        docLink.innerHTML = docLinkHtml;\n",
              "        element.appendChild(docLink);\n",
              "      }\n",
              "    </script>\n",
              "  </div>\n",
              "\n",
              "\n",
              "<div id=\"df-0d03a53c-9958-4788-8604-c4a521d4cba6\">\n",
              "  <button class=\"colab-df-quickchart\" onclick=\"quickchart('df-0d03a53c-9958-4788-8604-c4a521d4cba6')\"\n",
              "            title=\"Suggest charts\"\n",
              "            style=\"display:none;\">\n",
              "\n",
              "<svg xmlns=\"http://www.w3.org/2000/svg\" height=\"24px\"viewBox=\"0 0 24 24\"\n",
              "     width=\"24px\">\n",
              "    <g>\n",
              "        <path d=\"M19 3H5c-1.1 0-2 .9-2 2v14c0 1.1.9 2 2 2h14c1.1 0 2-.9 2-2V5c0-1.1-.9-2-2-2zM9 17H7v-7h2v7zm4 0h-2V7h2v10zm4 0h-2v-4h2v4z\"/>\n",
              "    </g>\n",
              "</svg>\n",
              "  </button>\n",
              "\n",
              "<style>\n",
              "  .colab-df-quickchart {\n",
              "      --bg-color: #E8F0FE;\n",
              "      --fill-color: #1967D2;\n",
              "      --hover-bg-color: #E2EBFA;\n",
              "      --hover-fill-color: #174EA6;\n",
              "      --disabled-fill-color: #AAA;\n",
              "      --disabled-bg-color: #DDD;\n",
              "  }\n",
              "\n",
              "  [theme=dark] .colab-df-quickchart {\n",
              "      --bg-color: #3B4455;\n",
              "      --fill-color: #D2E3FC;\n",
              "      --hover-bg-color: #434B5C;\n",
              "      --hover-fill-color: #FFFFFF;\n",
              "      --disabled-bg-color: #3B4455;\n",
              "      --disabled-fill-color: #666;\n",
              "  }\n",
              "\n",
              "  .colab-df-quickchart {\n",
              "    background-color: var(--bg-color);\n",
              "    border: none;\n",
              "    border-radius: 50%;\n",
              "    cursor: pointer;\n",
              "    display: none;\n",
              "    fill: var(--fill-color);\n",
              "    height: 32px;\n",
              "    padding: 0;\n",
              "    width: 32px;\n",
              "  }\n",
              "\n",
              "  .colab-df-quickchart:hover {\n",
              "    background-color: var(--hover-bg-color);\n",
              "    box-shadow: 0 1px 2px rgba(60, 64, 67, 0.3), 0 1px 3px 1px rgba(60, 64, 67, 0.15);\n",
              "    fill: var(--button-hover-fill-color);\n",
              "  }\n",
              "\n",
              "  .colab-df-quickchart-complete:disabled,\n",
              "  .colab-df-quickchart-complete:disabled:hover {\n",
              "    background-color: var(--disabled-bg-color);\n",
              "    fill: var(--disabled-fill-color);\n",
              "    box-shadow: none;\n",
              "  }\n",
              "\n",
              "  .colab-df-spinner {\n",
              "    border: 2px solid var(--fill-color);\n",
              "    border-color: transparent;\n",
              "    border-bottom-color: var(--fill-color);\n",
              "    animation:\n",
              "      spin 1s steps(1) infinite;\n",
              "  }\n",
              "\n",
              "  @keyframes spin {\n",
              "    0% {\n",
              "      border-color: transparent;\n",
              "      border-bottom-color: var(--fill-color);\n",
              "      border-left-color: var(--fill-color);\n",
              "    }\n",
              "    20% {\n",
              "      border-color: transparent;\n",
              "      border-left-color: var(--fill-color);\n",
              "      border-top-color: var(--fill-color);\n",
              "    }\n",
              "    30% {\n",
              "      border-color: transparent;\n",
              "      border-left-color: var(--fill-color);\n",
              "      border-top-color: var(--fill-color);\n",
              "      border-right-color: var(--fill-color);\n",
              "    }\n",
              "    40% {\n",
              "      border-color: transparent;\n",
              "      border-right-color: var(--fill-color);\n",
              "      border-top-color: var(--fill-color);\n",
              "    }\n",
              "    60% {\n",
              "      border-color: transparent;\n",
              "      border-right-color: var(--fill-color);\n",
              "    }\n",
              "    80% {\n",
              "      border-color: transparent;\n",
              "      border-right-color: var(--fill-color);\n",
              "      border-bottom-color: var(--fill-color);\n",
              "    }\n",
              "    90% {\n",
              "      border-color: transparent;\n",
              "      border-bottom-color: var(--fill-color);\n",
              "    }\n",
              "  }\n",
              "</style>\n",
              "\n",
              "  <script>\n",
              "    async function quickchart(key) {\n",
              "      const quickchartButtonEl =\n",
              "        document.querySelector('#' + key + ' button');\n",
              "      quickchartButtonEl.disabled = true;  // To prevent multiple clicks.\n",
              "      quickchartButtonEl.classList.add('colab-df-spinner');\n",
              "      try {\n",
              "        const charts = await google.colab.kernel.invokeFunction(\n",
              "            'suggestCharts', [key], {});\n",
              "      } catch (error) {\n",
              "        console.error('Error during call to suggestCharts:', error);\n",
              "      }\n",
              "      quickchartButtonEl.classList.remove('colab-df-spinner');\n",
              "      quickchartButtonEl.classList.add('colab-df-quickchart-complete');\n",
              "    }\n",
              "    (() => {\n",
              "      let quickchartButtonEl =\n",
              "        document.querySelector('#df-0d03a53c-9958-4788-8604-c4a521d4cba6 button');\n",
              "      quickchartButtonEl.style.display =\n",
              "        google.colab.kernel.accessAllowed ? 'block' : 'none';\n",
              "    })();\n",
              "  </script>\n",
              "</div>\n",
              "\n",
              "    </div>\n",
              "  </div>\n"
            ],
            "application/vnd.google.colaboratory.intrinsic+json": {
              "type": "dataframe",
              "variable_name": "data_final",
              "summary": "{\n  \"name\": \"data_final\",\n  \"rows\": 9664,\n  \"fields\": [\n    {\n      \"column\": \"id_ujian\",\n      \"properties\": {\n        \"dtype\": \"category\",\n        \"num_unique_values\": 718,\n        \"samples\": [\n          \"39183d4b26c4bb6f1a69b8040cfc8960\",\n          \"1455a77587efdb32df04c923c6ba6ddd\",\n          \"948461e50d3771277df70458f23ab172\"\n        ],\n        \"semantic_type\": \"\",\n        \"description\": \"\"\n      }\n    },\n    {\n      \"column\": \"id_peserta\",\n      \"properties\": {\n        \"dtype\": \"category\",\n        \"num_unique_values\": 1366,\n        \"samples\": [\n          \"1a2e50c8c9e6919db0f2bab804d5a119\",\n          \"936c9027d051ccb6a1b5af2b355cc0b1\",\n          \"e13600555ff0723b188618daf9c32be5\"\n        ],\n        \"semantic_type\": \"\",\n        \"description\": \"\"\n      }\n    },\n    {\n      \"column\": \"ujian_dimulai\",\n      \"properties\": {\n        \"dtype\": \"date\",\n        \"min\": \"2022-04-07 08:00:00\",\n        \"max\": \"2023-01-10 13:00:00\",\n        \"num_unique_values\": 693,\n        \"samples\": [\n          \"2022-06-06 11:02:00\",\n          \"2022-07-28 12:00:00\",\n          \"2022-07-12 13:35:00\"\n        ],\n        \"semantic_type\": \"\",\n        \"description\": \"\"\n      }\n    },\n    {\n      \"column\": \"ujian_ditutup\",\n      \"properties\": {\n        \"dtype\": \"date\",\n        \"min\": \"2022-05-28 18:00:00\",\n        \"max\": \"2023-01-11 13:00:00\",\n        \"num_unique_values\": 557,\n        \"samples\": [\n          \"2022-07-18 23:00:00\",\n          \"2022-05-31 08:00:00\",\n          \"2022-06-10 23:59:00\"\n        ],\n        \"semantic_type\": \"\",\n        \"description\": \"\"\n      }\n    },\n    {\n      \"column\": \"jenis_tes\",\n      \"properties\": {\n        \"dtype\": \"category\",\n        \"num_unique_values\": 5,\n        \"samples\": [\n          \"Kemampuan Visual Spasial\",\n          \"Literasi Bahasa Indonesia\",\n          \"Kemampuan Bahasa Inggris\"\n        ],\n        \"semantic_type\": \"\",\n        \"description\": \"\"\n      }\n    },\n    {\n      \"column\": \"timestamp_log\",\n      \"properties\": {\n        \"dtype\": \"date\",\n        \"min\": \"2022-05-28 14:22:42\",\n        \"max\": \"2022-09-13 20:19:35\",\n        \"num_unique_values\": 5590,\n        \"samples\": [\n          \"2022-09-13 13:29:20\",\n          \"2022-06-14 11:14:32\",\n          \"2022-06-11 17:30:40\"\n        ],\n        \"semantic_type\": \"\",\n        \"description\": \"\"\n      }\n    },\n    {\n      \"column\": \"pesan_log\",\n      \"properties\": {\n        \"dtype\": \"category\",\n        \"num_unique_values\": 34,\n        \"samples\": [\n          \"Selesai Bagian 3 Tes Literasi Bahasa Indonesia\",\n          \"Selesai Bagian 1 Tes Literasi Bahasa Indonesia\",\n          \"Memulai Bagian 7 Tes Kemampuan Bahasa Inggris\"\n        ],\n        \"semantic_type\": \"\",\n        \"description\": \"\"\n      }\n    },\n    {\n      \"column\": \"durasi_tes\",\n      \"properties\": {\n        \"dtype\": \"number\",\n        \"std\": 364794.2033304734,\n        \"min\": 0.0,\n        \"max\": 5349600.0,\n        \"num_unique_values\": 385,\n        \"samples\": [\n          27000.0,\n          59340.0,\n          63240.0\n        ],\n        \"semantic_type\": \"\",\n        \"description\": \"\"\n      }\n    },\n    {\n      \"column\": \"status_ujian\",\n      \"properties\": {\n        \"dtype\": \"category\",\n        \"num_unique_values\": 11,\n        \"samples\": [\n          \"Selesai Tes Kemampuan Bahasa Inggris\",\n          \"Selesai Tes Bidang Studi\",\n          \"Selesai Tes Literasi Bahasa Indonesia\"\n        ],\n        \"semantic_type\": \"\",\n        \"description\": \"\"\n      }\n    }\n  ]\n}"
            }
          },
          "metadata": {},
          "execution_count": 47
        }
      ]
    },
    {
      "cell_type": "code",
      "source": [
        "timestamp_memulai = data_final[data_final['pesan_log'].astype(str).str.contains('Memulai Tes Bidang Studi|Memulai Tes Kemampuan Bahasa Inggris|Memulai Tes Kemampuan Visual Spasial|Memulai Tes Literasi Bahasa Indonesia|Memulai Tes Penalaran Matematika', na=False)]['timestamp_log']\n",
        "\n",
        "# Take 'time' only\n",
        "time_only = timestamp_memulai.dt.time\n",
        "time_only_sorted = time_only.sort_values()\n",
        "\n",
        "print(time_only_sorted)"
      ],
      "metadata": {
        "colab": {
          "base_uri": "https://localhost:8080/"
        },
        "id": "FLuj-ybq9B-L",
        "outputId": "73414049-c575-4ef0-bfac-2821e910769e"
      },
      "execution_count": 48,
      "outputs": [
        {
          "output_type": "stream",
          "name": "stdout",
          "text": [
            "6671    00:01:19\n",
            "1083    00:04:08\n",
            "4465    00:07:31\n",
            "8981    00:08:18\n",
            "5055    00:15:35\n",
            "          ...   \n",
            "9420    23:50:07\n",
            "5949    23:51:01\n",
            "5981    23:54:15\n",
            "7484    23:56:03\n",
            "9609    23:59:06\n",
            "Name: timestamp_log, Length: 3751, dtype: object\n"
          ]
        }
      ]
    },
    {
      "cell_type": "code",
      "source": [
        "# Temporary DataFrame\n",
        "df_temp = pd.DataFrame({'time_only_sorted': time_only_sorted})\n",
        "\n",
        "# Extract 'hour'\n",
        "df_temp['hour'] = df_temp['time_only_sorted'].apply(lambda x: x.hour)\n",
        "\n",
        "# interval within 3 jam\n",
        "bins = range(0, 25, 3)\n",
        "\n",
        "# Calculate the amount of data every interval\n",
        "interval_counts = pd.cut(df_temp['hour'], bins).value_counts()\n",
        "\n",
        "# Showing an interval with the most amount of data\n",
        "most_common_interval = interval_counts.idxmax()\n",
        "print(f\"Interval with the most data: {most_common_interval}\")\n",
        "print(f\"The quantity of the data: {interval_counts[most_common_interval]}\")\n",
        "\n",
        "print(interval_counts)"
      ],
      "metadata": {
        "colab": {
          "base_uri": "https://localhost:8080/"
        },
        "id": "lLVhYiRfpdgU",
        "outputId": "a61e8c03-8ad5-408f-dba3-2e3d916e3de7"
      },
      "execution_count": 50,
      "outputs": [
        {
          "output_type": "stream",
          "name": "stdout",
          "text": [
            "Interval with the most data: (18, 21]\n",
            "The quantity of the data: 2084\n",
            "hour\n",
            "(18, 21]    2084\n",
            "(12, 15]     425\n",
            "(9, 12]      375\n",
            "(6, 9]       333\n",
            "(15, 18]     317\n",
            "(21, 24]     143\n",
            "(3, 6]        34\n",
            "(0, 3]        19\n",
            "Name: count, dtype: int64\n"
          ]
        }
      ]
    },
    {
      "cell_type": "markdown",
      "source": [
        "# 4. Does the number of tests in the exam series affect the completion rate of prospective students?"
      ],
      "metadata": {
        "id": "o82m_UP5RBqV"
      }
    },
    {
      "cell_type": "code",
      "source": [
        "# Convert timestamp column into datetime\n",
        "data_final['ujian_dimulai'] = pd.to_datetime(data_final['ujian_dimulai'])\n",
        "data_final['ujian_ditutup'] = pd.to_datetime(data_final['ujian_ditutup'])\n",
        "data_final['timestamp_log'] = pd.to_datetime(data_final['timestamp_log'])"
      ],
      "metadata": {
        "id": "29V5JG4nmkyG"
      },
      "execution_count": 51,
      "outputs": []
    },
    {
      "cell_type": "code",
      "source": [
        "average_duration_per_test = data_final.groupby('jenis_tes')['durasi_tes'].mean()\n",
        "print(average_duration_per_test)"
      ],
      "metadata": {
        "colab": {
          "base_uri": "https://localhost:8080/"
        },
        "id": "vs_zHgMGmk9A",
        "outputId": "b8d4a6a0-fa02-4080-a816-84be00e82ef3"
      },
      "execution_count": 52,
      "outputs": [
        {
          "output_type": "stream",
          "name": "stdout",
          "text": [
            "jenis_tes\n",
            "Bidang Studi                 187183.802599\n",
            "Kemampuan Bahasa Inggris     179784.771287\n",
            "Kemampuan Visual Spasial     315224.586626\n",
            "Literasi Bahasa Indonesia    206878.797828\n",
            "Penalaran Matematika         192769.037313\n",
            "Name: durasi_tes, dtype: float64\n"
          ]
        }
      ]
    },
    {
      "cell_type": "code",
      "source": [
        "data_final['durasi_tes'].fillna(data_final['durasi_tes'].mean(), inplace=True)\n",
        "\n",
        "data_final['durasi_tes'] = pd.to_numeric(data['durasi_tes'], errors='coerce')\n",
        "\n",
        "data_final = data_final.dropna(subset=['durasi_tes'])"
      ],
      "metadata": {
        "id": "n6ADE-7nrPpU"
      },
      "execution_count": 53,
      "outputs": []
    },
    {
      "cell_type": "code",
      "source": [
        "descriptive_stats = data_final.groupby('jenis_tes')['durasi_tes'].describe()\n",
        "print(descriptive_stats)"
      ],
      "metadata": {
        "colab": {
          "base_uri": "https://localhost:8080/"
        },
        "id": "uBBxNwuvvD3y",
        "outputId": "2089242b-e32d-419a-c1df-2d39f647ed30"
      },
      "execution_count": 54,
      "outputs": [
        {
          "output_type": "stream",
          "name": "stdout",
          "text": [
            "                            count           mean            std     min  \\\n",
            "jenis_tes                                                                 \n",
            "Bidang Studi               1616.0  187183.802599  377321.876908     0.0   \n",
            "Kemampuan Bahasa Inggris   4451.0  179784.771287  308119.532594     0.0   \n",
            "Kemampuan Visual Spasial    658.0  315224.586626  528725.672322     0.0   \n",
            "Literasi Bahasa Indonesia  1197.0  206878.797828  436042.119554  1039.0   \n",
            "Penalaran Matematika       1742.0  192769.037313  348646.676342     0.0   \n",
            "\n",
            "                               25%       50%       75%        max  \n",
            "jenis_tes                                                          \n",
            "Bidang Studi               82800.0  115140.0  174925.0  5349600.0  \n",
            "Kemampuan Bahasa Inggris   86400.0  144000.0  175195.0  5349600.0  \n",
            "Kemampuan Visual Spasial   86400.0  121800.0  233940.0  2592060.0  \n",
            "Literasi Bahasa Indonesia  54000.0   90000.0  172800.0  2592000.0  \n",
            "Penalaran Matematika       86400.0  125430.0  186465.0  5349600.0  \n"
          ]
        }
      ]
    },
    {
      "cell_type": "code",
      "source": [
        "# Comparing\n",
        "h_statistic, p_value_kruskal = kruskal(data_final['durasi_tes'][data_final['jenis_tes'] == 'tes1'],\n",
        "                                        data_final['durasi_tes'][data_final['jenis_tes'] == 'tes2'],\n",
        "                                        data_final['durasi_tes'][data_final['jenis_tes'] == 'tes3'],\n",
        "                                        data_final['durasi_tes'][data_final['jenis_tes'] == 'tes4'],\n",
        "                                        data_final['durasi_tes'][data_final['jenis_tes'] == 'tes5'])"
      ],
      "metadata": {
        "id": "VB2KxTLOmlGv"
      },
      "execution_count": 55,
      "outputs": []
    },
    {
      "cell_type": "code",
      "source": [
        "plt.figure(figsize=(10, 6))\n",
        "average_duration_per_test.plot(kind='bar', color='skyblue')\n",
        "plt.title('Rata-rata Durasi Pengerjaan Tes')\n",
        "plt.xlabel('Jenis Tes')\n",
        "plt.ylabel('Durasi Rata-rata (detik)')\n",
        "plt.show()"
      ],
      "metadata": {
        "colab": {
          "base_uri": "https://localhost:8080/",
          "height": 745
        },
        "id": "onjt6PCrQcNi",
        "outputId": "74a25abe-d7d4-4c14-f098-64e439f5caee"
      },
      "execution_count": 56,
      "outputs": [
        {
          "output_type": "display_data",
          "data": {
            "text/plain": [
              "<Figure size 1000x600 with 1 Axes>"
            ],
            "image/png": "[encoded data removed]"
          },
          "metadata": {}
        }
      ]
    },
    {
      "cell_type": "code",
      "source": [
        "df = pd.read_excel('Kesimpulan.xlsx')"
      ],
      "metadata": {
        "id": "BB-NVuKT2Y6t"
      },
      "execution_count": 58,
      "outputs": []
    },
    {
      "cell_type": "code",
      "source": [
        "df.head()"
      ],
      "metadata": {
        "colab": {
          "base_uri": "https://localhost:8080/",
          "height": 206
        },
        "id": "vlkmUTET2aDb",
        "outputId": "57e5d8bb-36e6-4e6d-cb7c-497546e78d07"
      },
      "execution_count": 59,
      "outputs": [
        {
          "output_type": "execute_result",
          "data": {
            "text/plain": [
              "                   jenis_tes  jumlah_bagian_tes  mengikuti  selesai  \\\n",
              "0               Bidang Studi                  1        609      581   \n",
              "1   Kemampuan Bahasa Inggris                  7        506      506   \n",
              "2   Kemampuan Visual Spasial                  1        238      224   \n",
              "3  Literasi Bahasa Indonesia                  6        130      130   \n",
              "4       Penalaran Matematika                  1       2268      613   \n",
              "\n",
              "   tingkat_penyelesaian  \n",
              "0             95.402299  \n",
              "1            100.000000  \n",
              "2             94.117647  \n",
              "3            100.000000  \n",
              "4             27.028219  "
            ],
            "text/html": [
              "\n",
              "  <div id=\"df-e29b81db-bf8c-4a98-bdcb-8e9b8f973abc\" class=\"colab-df-container\">\n",
              "    <div>\n",
              "<style scoped>\n",
              "    .dataframe tbody tr th:only-of-type {\n",
              "        vertical-align: middle;\n",
              "    }\n",
              "\n",
              "    .dataframe tbody tr th {\n",
              "        vertical-align: top;\n",
              "    }\n",
              "\n",
              "    .dataframe thead th {\n",
              "        text-align: right;\n",
              "    }\n",
              "</style>\n",
              "<table border=\"1\" class=\"dataframe\">\n",
              "  <thead>\n",
              "    <tr style=\"text-align: right;\">\n",
              "      <th></th>\n",
              "      <th>jenis_tes</th>\n",
              "      <th>jumlah_bagian_tes</th>\n",
              "      <th>mengikuti</th>\n",
              "      <th>selesai</th>\n",
              "      <th>tingkat_penyelesaian</th>\n",
              "    </tr>\n",
              "  </thead>\n",
              "  <tbody>\n",
              "    <tr>\n",
              "      <th>0</th>\n",
              "      <td>Bidang Studi</td>\n",
              "      <td>1</td>\n",
              "      <td>609</td>\n",
              "      <td>581</td>\n",
              "      <td>95.402299</td>\n",
              "    </tr>\n",
              "    <tr>\n",
              "      <th>1</th>\n",
              "      <td>Kemampuan Bahasa Inggris</td>\n",
              "      <td>7</td>\n",
              "      <td>506</td>\n",
              "      <td>506</td>\n",
              "      <td>100.000000</td>\n",
              "    </tr>\n",
              "    <tr>\n",
              "      <th>2</th>\n",
              "      <td>Kemampuan Visual Spasial</td>\n",
              "      <td>1</td>\n",
              "      <td>238</td>\n",
              "      <td>224</td>\n",
              "      <td>94.117647</td>\n",
              "    </tr>\n",
              "    <tr>\n",
              "      <th>3</th>\n",
              "      <td>Literasi Bahasa Indonesia</td>\n",
              "      <td>6</td>\n",
              "      <td>130</td>\n",
              "      <td>130</td>\n",
              "      <td>100.000000</td>\n",
              "    </tr>\n",
              "    <tr>\n",
              "      <th>4</th>\n",
              "      <td>Penalaran Matematika</td>\n",
              "      <td>1</td>\n",
              "      <td>2268</td>\n",
              "      <td>613</td>\n",
              "      <td>27.028219</td>\n",
              "    </tr>\n",
              "  </tbody>\n",
              "</table>\n",
              "</div>\n",
              "    <div class=\"colab-df-buttons\">\n",
              "\n",
              "  <div class=\"colab-df-container\">\n",
              "    <button class=\"colab-df-convert\" onclick=\"convertToInteractive('df-e29b81db-bf8c-4a98-bdcb-8e9b8f973abc')\"\n",
              "            title=\"Convert this dataframe to an interactive table.\"\n",
              "            style=\"display:none;\">\n",
              "\n",
              "  <svg xmlns=\"http://www.w3.org/2000/svg\" height=\"24px\" viewBox=\"0 -960 960 960\">\n",
              "    <path d=\"M120-120v-720h720v720H120Zm60-500h600v-160H180v160Zm220 220h160v-160H400v160Zm0 220h160v-160H400v160ZM180-400h160v-160H180v160Zm440 0h160v-160H620v160ZM180-180h160v-160H180v160Zm440 0h160v-160H620v160Z\"/>\n",
              "  </svg>\n",
              "    </button>\n",
              "\n",
              "  <style>\n",
              "    .colab-df-container {\n",
              "      display:flex;\n",
              "      gap: 12px;\n",
              "    }\n",
              "\n",
              "    .colab-df-convert {\n",
              "      background-color: #E8F0FE;\n",
              "      border: none;\n",
              "      border-radius: 50%;\n",
              "      cursor: pointer;\n",
              "      display: none;\n",
              "      fill: #1967D2;\n",
              "      height: 32px;\n",
              "      padding: 0 0 0 0;\n",
              "      width: 32px;\n",
              "    }\n",
              "\n",
              "    .colab-df-convert:hover {\n",
              "      background-color: #E2EBFA;\n",
              "      box-shadow: 0px 1px 2px rgba(60, 64, 67, 0.3), 0px 1px 3px 1px rgba(60, 64, 67, 0.15);\n",
              "      fill: #174EA6;\n",
              "    }\n",
              "\n",
              "    .colab-df-buttons div {\n",
              "      margin-bottom: 4px;\n",
              "    }\n",
              "\n",
              "    [theme=dark] .colab-df-convert {\n",
              "      background-color: #3B4455;\n",
              "      fill: #D2E3FC;\n",
              "    }\n",
              "\n",
              "    [theme=dark] .colab-df-convert:hover {\n",
              "      background-color: #434B5C;\n",
              "      box-shadow: 0px 1px 3px 1px rgba(0, 0, 0, 0.15);\n",
              "      filter: drop-shadow(0px 1px 2px rgba(0, 0, 0, 0.3));\n",
              "      fill: #FFFFFF;\n",
              "    }\n",
              "  </style>\n",
              "\n",
              "    <script>\n",
              "      const buttonEl =\n",
              "        document.querySelector('#df-e29b81db-bf8c-4a98-bdcb-8e9b8f973abc button.colab-df-convert');\n",
              "      buttonEl.style.display =\n",
              "        google.colab.kernel.accessAllowed ? 'block' : 'none';\n",
              "\n",
              "      async function convertToInteractive(key) {\n",
              "        const element = document.querySelector('#df-e29b81db-bf8c-4a98-bdcb-8e9b8f973abc');\n",
              "        const dataTable =\n",
              "          await google.colab.kernel.invokeFunction('convertToInteractive',\n",
              "                                                    [key], {});\n",
              "        if (!dataTable) return;\n",
              "\n",
              "        const docLinkHtml = 'Like what you see? Visit the ' +\n",
              "          '<a target=\"_blank\" href=https://colab.research.google.com/notebooks/data_table.ipynb>data table notebook</a>'\n",
              "          + ' to learn more about interactive tables.';\n",
              "        element.innerHTML = '';\n",
              "        dataTable['output_type'] = 'display_data';\n",
              "        await google.colab.output.renderOutput(dataTable, element);\n",
              "        const docLink = document.createElement('div');\n",
              "        docLink.innerHTML = docLinkHtml;\n",
              "        element.appendChild(docLink);\n",
              "      }\n",
              "    </script>\n",
              "  </div>\n",
              "\n",
              "\n",
              "<div id=\"df-ae55125b-637b-4f3e-85a3-85d0bd19d8d0\">\n",
              "  <button class=\"colab-df-quickchart\" onclick=\"quickchart('df-ae55125b-637b-4f3e-85a3-85d0bd19d8d0')\"\n",
              "            title=\"Suggest charts\"\n",
              "            style=\"display:none;\">\n",
              "\n",
              "<svg xmlns=\"http://www.w3.org/2000/svg\" height=\"24px\"viewBox=\"0 0 24 24\"\n",
              "     width=\"24px\">\n",
              "    <g>\n",
              "        <path d=\"M19 3H5c-1.1 0-2 .9-2 2v14c0 1.1.9 2 2 2h14c1.1 0 2-.9 2-2V5c0-1.1-.9-2-2-2zM9 17H7v-7h2v7zm4 0h-2V7h2v10zm4 0h-2v-4h2v4z\"/>\n",
              "    </g>\n",
              "</svg>\n",
              "  </button>\n",
              "\n",
              "<style>\n",
              "  .colab-df-quickchart {\n",
              "      --bg-color: #E8F0FE;\n",
              "      --fill-color: #1967D2;\n",
              "      --hover-bg-color: #E2EBFA;\n",
              "      --hover-fill-color: #174EA6;\n",
              "      --disabled-fill-color: #AAA;\n",
              "      --disabled-bg-color: #DDD;\n",
              "  }\n",
              "\n",
              "  [theme=dark] .colab-df-quickchart {\n",
              "      --bg-color: #3B4455;\n",
              "      --fill-color: #D2E3FC;\n",
              "      --hover-bg-color: #434B5C;\n",
              "      --hover-fill-color: #FFFFFF;\n",
              "      --disabled-bg-color: #3B4455;\n",
              "      --disabled-fill-color: #666;\n",
              "  }\n",
              "\n",
              "  .colab-df-quickchart {\n",
              "    background-color: var(--bg-color);\n",
              "    border: none;\n",
              "    border-radius: 50%;\n",
              "    cursor: pointer;\n",
              "    display: none;\n",
              "    fill: var(--fill-color);\n",
              "    height: 32px;\n",
              "    padding: 0;\n",
              "    width: 32px;\n",
              "  }\n",
              "\n",
              "  .colab-df-quickchart:hover {\n",
              "    background-color: var(--hover-bg-color);\n",
              "    box-shadow: 0 1px 2px rgba(60, 64, 67, 0.3), 0 1px 3px 1px rgba(60, 64, 67, 0.15);\n",
              "    fill: var(--button-hover-fill-color);\n",
              "  }\n",
              "\n",
              "  .colab-df-quickchart-complete:disabled,\n",
              "  .colab-df-quickchart-complete:disabled:hover {\n",
              "    background-color: var(--disabled-bg-color);\n",
              "    fill: var(--disabled-fill-color);\n",
              "    box-shadow: none;\n",
              "  }\n",
              "\n",
              "  .colab-df-spinner {\n",
              "    border: 2px solid var(--fill-color);\n",
              "    border-color: transparent;\n",
              "    border-bottom-color: var(--fill-color);\n",
              "    animation:\n",
              "      spin 1s steps(1) infinite;\n",
              "  }\n",
              "\n",
              "  @keyframes spin {\n",
              "    0% {\n",
              "      border-color: transparent;\n",
              "      border-bottom-color: var(--fill-color);\n",
              "      border-left-color: var(--fill-color);\n",
              "    }\n",
              "    20% {\n",
              "      border-color: transparent;\n",
              "      border-left-color: var(--fill-color);\n",
              "      border-top-color: var(--fill-color);\n",
              "    }\n",
              "    30% {\n",
              "      border-color: transparent;\n",
              "      border-left-color: var(--fill-color);\n",
              "      border-top-color: var(--fill-color);\n",
              "      border-right-color: var(--fill-color);\n",
              "    }\n",
              "    40% {\n",
              "      border-color: transparent;\n",
              "      border-right-color: var(--fill-color);\n",
              "      border-top-color: var(--fill-color);\n",
              "    }\n",
              "    60% {\n",
              "      border-color: transparent;\n",
              "      border-right-color: var(--fill-color);\n",
              "    }\n",
              "    80% {\n",
              "      border-color: transparent;\n",
              "      border-right-color: var(--fill-color);\n",
              "      border-bottom-color: var(--fill-color);\n",
              "    }\n",
              "    90% {\n",
              "      border-color: transparent;\n",
              "      border-bottom-color: var(--fill-color);\n",
              "    }\n",
              "  }\n",
              "</style>\n",
              "\n",
              "  <script>\n",
              "    async function quickchart(key) {\n",
              "      const quickchartButtonEl =\n",
              "        document.querySelector('#' + key + ' button');\n",
              "      quickchartButtonEl.disabled = true;  // To prevent multiple clicks.\n",
              "      quickchartButtonEl.classList.add('colab-df-spinner');\n",
              "      try {\n",
              "        const charts = await google.colab.kernel.invokeFunction(\n",
              "            'suggestCharts', [key], {});\n",
              "      } catch (error) {\n",
              "        console.error('Error during call to suggestCharts:', error);\n",
              "      }\n",
              "      quickchartButtonEl.classList.remove('colab-df-spinner');\n",
              "      quickchartButtonEl.classList.add('colab-df-quickchart-complete');\n",
              "    }\n",
              "    (() => {\n",
              "      let quickchartButtonEl =\n",
              "        document.querySelector('#df-ae55125b-637b-4f3e-85a3-85d0bd19d8d0 button');\n",
              "      quickchartButtonEl.style.display =\n",
              "        google.colab.kernel.accessAllowed ? 'block' : 'none';\n",
              "    })();\n",
              "  </script>\n",
              "</div>\n",
              "\n",
              "    </div>\n",
              "  </div>\n"
            ],
            "application/vnd.google.colaboratory.intrinsic+json": {
              "type": "dataframe",
              "variable_name": "df",
              "summary": "{\n  \"name\": \"df\",\n  \"rows\": 5,\n  \"fields\": [\n    {\n      \"column\": \"jenis_tes\",\n      \"properties\": {\n        \"dtype\": \"string\",\n        \"num_unique_values\": 5,\n        \"samples\": [\n          \"Kemampuan Bahasa Inggris\",\n          \"Penalaran Matematika\",\n          \"Kemampuan Visual Spasial\"\n        ],\n        \"semantic_type\": \"\",\n        \"description\": \"\"\n      }\n    },\n    {\n      \"column\": \"jumlah_bagian_tes\",\n      \"properties\": {\n        \"dtype\": \"number\",\n        \"std\": 3,\n        \"min\": 1,\n        \"max\": 7,\n        \"num_unique_values\": 3,\n        \"samples\": [\n          1,\n          7,\n          6\n        ],\n        \"semantic_type\": \"\",\n        \"description\": \"\"\n      }\n    },\n    {\n      \"column\": \"mengikuti\",\n      \"properties\": {\n        \"dtype\": \"number\",\n        \"std\": 870,\n        \"min\": 130,\n        \"max\": 2268,\n        \"num_unique_values\": 5,\n        \"samples\": [\n          506,\n          2268,\n          238\n        ],\n        \"semantic_type\": \"\",\n        \"description\": \"\"\n      }\n    },\n    {\n      \"column\": \"selesai\",\n      \"properties\": {\n        \"dtype\": \"number\",\n        \"std\": 219,\n        \"min\": 130,\n        \"max\": 613,\n        \"num_unique_values\": 5,\n        \"samples\": [\n          506,\n          613,\n          224\n        ],\n        \"semantic_type\": \"\",\n        \"description\": \"\"\n      }\n    },\n    {\n      \"column\": \"tingkat_penyelesaian\",\n      \"properties\": {\n        \"dtype\": \"number\",\n        \"std\": 31.574435993395685,\n        \"min\": 27.02821869,\n        \"max\": 100.0,\n        \"num_unique_values\": 4,\n        \"samples\": [\n          100.0,\n          27.02821869,\n          95.40229885\n        ],\n        \"semantic_type\": \"\",\n        \"description\": \"\"\n      }\n    }\n  ]\n}"
            }
          },
          "metadata": {},
          "execution_count": 59
        }
      ]
    },
    {
      "cell_type": "code",
      "source": [
        "correlation = df['jumlah_bagian_tes'].corr(df['tingkat_penyelesaian'])\n",
        "\n",
        "# Tampilkan korelasi\n",
        "print(f\"Correlation between 'jumlah_bagian_tes' dan 'tingkat_penyelesaian': {correlation}\")"
      ],
      "metadata": {
        "colab": {
          "base_uri": "https://localhost:8080/"
        },
        "id": "MrSV88lU2cwc",
        "outputId": "e3e7ae21-a8a9-45f9-afe2-d49f460a6b36"
      },
      "execution_count": 61,
      "outputs": [
        {
          "output_type": "stream",
          "name": "stdout",
          "text": [
            "Correlation between 'jumlah_bagian_tes' dan 'tingkat_penyelesaian': 0.4792576644729291\n"
          ]
        }
      ]
    }
  ]
}