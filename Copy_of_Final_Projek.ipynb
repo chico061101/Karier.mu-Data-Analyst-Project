{
  "nbformat": 4,
  "nbformat_minor": 0,
  "metadata": {
    "colab": {
      "provenance": []
    },
    "kernelspec": {
      "name": "python3",
      "display_name": "Python 3"
    },
    "language_info": {
      "name": "python"
    }
  },
  "cells": [
    {
      "cell_type": "code",
      "execution_count": null,
      "metadata": {
        "id": "QyVp7_ejScMd"
      },
      "outputs": [],
      "source": [
        "# import library yang dibutuhkan\n",
        "import pandas as pd\n",
        "import matplotlib.pyplot as plt\n",
        "import numpy as np\n",
        "import seaborn as sns\n",
        "from pprint import pprint\n",
        "from time import time\n",
        "from scipy.stats import kruskal\n",
        "from sklearn.pipeline import Pipeline\n",
        "from sklearn.preprocessing import StandardScaler,PolynomialFeatures\n",
        "from sklearn.linear_model import LinearRegression\n",
        "from sklearn.impute import SimpleImputer\n",
        "from datetime import datetime\n",
        "import statsmodels.api as sa\n",
        "import statsmodels.formula.api as sm\n",
        "from scipy.stats import f_oneway\n",
        "from sklearn.cluster import KMeans, MiniBatchKMeans\n",
        "from sklearn.metrics import silhouette_score\n",
        "from sklearn.preprocessing import StandardScaler, OneHotEncoder\n",
        "%matplotlib inline"
      ]
    },
    {
      "cell_type": "markdown",
      "source": [
        "# 1. Cleaning Data"
      ],
      "metadata": {
        "id": "oMiCrzkXr18B"
      }
    },
    {
      "cell_type": "code",
      "source": [
        "import warnings\n",
        "warnings.filterwarnings('ignore')"
      ],
      "metadata": {
        "id": "7eIJPxlVqFhJ"
      },
      "execution_count": null,
      "outputs": []
    },
    {
      "cell_type": "code",
      "source": [
        "# load tiap data menggunakan bantuan pandas\n",
        "data = pd.read_excel('Final_Projek.inate.xlsx')"
      ],
      "metadata": {
        "id": "3WTzSltjrYQQ"
      },
      "execution_count": null,
      "outputs": []
    },
    {
      "cell_type": "code",
      "source": [
        "# tampilkan jumlah baris dan data\n",
        "data.shape"
      ],
      "metadata": {
        "id": "JS0oABmTrZti",
        "colab": {
          "base_uri": "https://localhost:8080/"
        },
        "outputId": "f6d78f7e-ca74-4bc8-8f7f-c9128bd05bf2"
      },
      "execution_count": null,
      "outputs": [
        {
          "output_type": "execute_result",
          "data": {
            "text/plain": [
              "(11083, 7)"
            ]
          },
          "metadata": {},
          "execution_count": 4
        }
      ]
    },
    {
      "cell_type": "markdown",
      "source": [
        "###**Duplikasi Data**\n",
        "\n"
      ],
      "metadata": {
        "id": "jX8aCA1cr_Co"
      }
    },
    {
      "cell_type": "code",
      "source": [
        "# lihat informasi dari sumber data\n",
        "data.info()"
      ],
      "metadata": {
        "id": "uh-l2BT2rbLO",
        "colab": {
          "base_uri": "https://localhost:8080/"
        },
        "outputId": "72df2aab-6351-4763-ce96-f6e7fbc95176"
      },
      "execution_count": null,
      "outputs": [
        {
          "output_type": "stream",
          "name": "stdout",
          "text": [
            "<class 'pandas.core.frame.DataFrame'>\n",
            "RangeIndex: 11083 entries, 0 to 11082\n",
            "Data columns (total 7 columns):\n",
            " #   Column         Non-Null Count  Dtype         \n",
            "---  ------         --------------  -----         \n",
            " 0   id_ujian       11083 non-null  object        \n",
            " 1   id_peserta     11083 non-null  object        \n",
            " 2   ujian_dimulai  11083 non-null  datetime64[ns]\n",
            " 3   ujian_ditutup  11083 non-null  datetime64[ns]\n",
            " 4   jenis_tes      11083 non-null  object        \n",
            " 5   timestamp_log  9194 non-null   datetime64[ns]\n",
            " 6   pesan_log      9194 non-null   object        \n",
            "dtypes: datetime64[ns](3), object(4)\n",
            "memory usage: 606.2+ KB\n"
          ]
        }
      ]
    },
    {
      "cell_type": "code",
      "source": [
        "# apakah terdapat duplikat di sumber data\n",
        "print(f\"terdapat {data.duplicated().sum()} baris duplikat\")"
      ],
      "metadata": {
        "id": "HIaZ5Ux6rcao",
        "colab": {
          "base_uri": "https://localhost:8080/"
        },
        "outputId": "0cd2c3b6-76ee-4b21-b91b-0a17cef8be9c"
      },
      "execution_count": null,
      "outputs": [
        {
          "output_type": "stream",
          "name": "stdout",
          "text": [
            "terdapat 55 baris duplikat\n"
          ]
        }
      ]
    },
    {
      "cell_type": "code",
      "source": [
        "# hapus data duplikat\n",
        "data = data.drop_duplicates().reset_index(drop=True)"
      ],
      "metadata": {
        "id": "4khB2_iLrd57"
      },
      "execution_count": null,
      "outputs": []
    },
    {
      "cell_type": "code",
      "source": [
        "# cek apakah kita sudah berhasil menghapus data duplikat\n",
        "print(f\"terdapat {data.duplicated().sum()} baris duplikat\")"
      ],
      "metadata": {
        "id": "P9XddH-arfNb",
        "colab": {
          "base_uri": "https://localhost:8080/"
        },
        "outputId": "22215089-c4d8-4717-8b54-b90d73e83462"
      },
      "execution_count": null,
      "outputs": [
        {
          "output_type": "stream",
          "name": "stdout",
          "text": [
            "terdapat 0 baris duplikat\n"
          ]
        }
      ]
    },
    {
      "cell_type": "markdown",
      "source": [
        "### Missing Value"
      ],
      "metadata": {
        "id": "zN3PcUby27ba"
      }
    },
    {
      "cell_type": "code",
      "source": [
        "# mari kita cek jumlah missing value\n",
        "data.isna().sum()"
      ],
      "metadata": {
        "colab": {
          "base_uri": "https://localhost:8080/"
        },
        "id": "B8i84l4lfJBe",
        "outputId": "ed182fa3-7ce1-4455-8a2f-8d23ae2c528f"
      },
      "execution_count": null,
      "outputs": [
        {
          "output_type": "execute_result",
          "data": {
            "text/plain": [
              "id_ujian            0\n",
              "id_peserta          0\n",
              "ujian_dimulai       0\n",
              "ujian_ditutup       0\n",
              "jenis_tes           0\n",
              "timestamp_log    1889\n",
              "pesan_log        1889\n",
              "dtype: int64"
            ]
          },
          "metadata": {},
          "execution_count": 9
        }
      ]
    },
    {
      "cell_type": "code",
      "source": [
        "# Menghitung nilai median\n",
        "median_value = data['timestamp_log'].median()"
      ],
      "metadata": {
        "id": "yoxrWumNrggn"
      },
      "execution_count": null,
      "outputs": []
    },
    {
      "cell_type": "code",
      "source": [
        "# Mengisi nilai yang hilang dengan nilai median\n",
        "data['timestamp_log'].fillna(median_value, inplace=True)"
      ],
      "metadata": {
        "id": "bG6ertfurh9r"
      },
      "execution_count": null,
      "outputs": []
    },
    {
      "cell_type": "code",
      "source": [
        "# cek jumlah missing value\n",
        "data.isna().sum()"
      ],
      "metadata": {
        "id": "SmZuJIqxrjJk",
        "colab": {
          "base_uri": "https://localhost:8080/"
        },
        "outputId": "c79e613d-7062-4616-e32b-88e37a21da96"
      },
      "execution_count": null,
      "outputs": [
        {
          "output_type": "execute_result",
          "data": {
            "text/plain": [
              "id_ujian            0\n",
              "id_peserta          0\n",
              "ujian_dimulai       0\n",
              "ujian_ditutup       0\n",
              "jenis_tes           0\n",
              "timestamp_log       0\n",
              "pesan_log        1889\n",
              "dtype: int64"
            ]
          },
          "metadata": {},
          "execution_count": 12
        }
      ]
    },
    {
      "cell_type": "code",
      "source": [
        "# Menghitung nilai modus kategorikal\n",
        "modus_value = data['pesan_log'].mode()[0]"
      ],
      "metadata": {
        "id": "bsroE3lCrkZP"
      },
      "execution_count": null,
      "outputs": []
    },
    {
      "cell_type": "code",
      "source": [
        "# Mengisi nilai yang hilang dengan nilai modus\n",
        "data['pesan_log'].fillna(modus_value, inplace=True)"
      ],
      "metadata": {
        "id": "PcA4xMPmrlu8"
      },
      "execution_count": null,
      "outputs": []
    },
    {
      "cell_type": "code",
      "source": [
        "# cek kembali jumlah missing value\n",
        "data.isna().sum()"
      ],
      "metadata": {
        "id": "miwmfBCyrm4u",
        "colab": {
          "base_uri": "https://localhost:8080/"
        },
        "outputId": "faab9b16-c6ee-4cf8-9a0d-415b2eff883c"
      },
      "execution_count": null,
      "outputs": [
        {
          "output_type": "execute_result",
          "data": {
            "text/plain": [
              "id_ujian         0\n",
              "id_peserta       0\n",
              "ujian_dimulai    0\n",
              "ujian_ditutup    0\n",
              "jenis_tes        0\n",
              "timestamp_log    0\n",
              "pesan_log        0\n",
              "dtype: int64"
            ]
          },
          "metadata": {},
          "execution_count": 15
        }
      ]
    },
    {
      "cell_type": "code",
      "source": [
        "# tampilkan 10 baris pertama\n",
        "data.head(10)"
      ],
      "metadata": {
        "id": "wlt-f6vSroMw",
        "colab": {
          "base_uri": "https://localhost:8080/",
          "height": 363
        },
        "outputId": "2d079f2f-8ca7-4f2f-8ebd-9f63198802a6"
      },
      "execution_count": null,
      "outputs": [
        {
          "output_type": "execute_result",
          "data": {
            "text/plain": [
              "                           id_ujian                        id_peserta  \\\n",
              "0  29fbeda12fc84baaab209699439aba09  982b41ef78bcc73e9dcbb9110afce55b   \n",
              "1  29fbeda12fc84baaab209699439aba09  982b41ef78bcc73e9dcbb9110afce55b   \n",
              "2  e82a71007130c199a90961842d15b339  9f2de4269e67bd7e3d837026252a4bfb   \n",
              "3  e82a71007130c199a90961842d15b339  9f2de4269e67bd7e3d837026252a4bfb   \n",
              "4  8489127cbef60df4ff9aaeda12eeb327  b0afe01565fd69bc0c045ef84abc848e   \n",
              "5  0b97e22ca7c95fdf86d97f10abd7a6c3  b88d2688d72b74a5723da96f9fa8a772   \n",
              "6  0b97e22ca7c95fdf86d97f10abd7a6c3  b88d2688d72b74a5723da96f9fa8a772   \n",
              "7  0b97e22ca7c95fdf86d97f10abd7a6c3  b88d2688d72b74a5723da96f9fa8a772   \n",
              "8  0b97e22ca7c95fdf86d97f10abd7a6c3  b88d2688d72b74a5723da96f9fa8a772   \n",
              "9  0b97e22ca7c95fdf86d97f10abd7a6c3  b88d2688d72b74a5723da96f9fa8a772   \n",
              "\n",
              "        ujian_dimulai       ujian_ditutup                 jenis_tes  \\\n",
              "0 2022-06-07 15:52:00 2022-06-09 21:00:00              Bidang Studi   \n",
              "1 2022-06-07 15:52:00 2022-06-09 21:00:00              Bidang Studi   \n",
              "2 2022-09-08 10:30:00 2022-09-09 10:30:00  Kemampuan Visual Spasial   \n",
              "3 2022-09-08 10:30:00 2022-09-09 10:30:00  Kemampuan Visual Spasial   \n",
              "4 2022-06-15 21:30:00 2022-06-16 23:59:00              Bidang Studi   \n",
              "5 2022-06-03 23:24:00 2022-06-04 23:59:00  Kemampuan Bahasa Inggris   \n",
              "6 2022-06-03 23:24:00 2022-06-04 23:59:00  Kemampuan Bahasa Inggris   \n",
              "7 2022-06-03 23:24:00 2022-06-04 23:59:00  Kemampuan Bahasa Inggris   \n",
              "8 2022-06-03 23:24:00 2022-06-04 23:59:00  Kemampuan Bahasa Inggris   \n",
              "9 2022-06-03 23:24:00 2022-06-04 23:59:00  Kemampuan Bahasa Inggris   \n",
              "\n",
              "        timestamp_log                                      pesan_log  \n",
              "0 2022-06-08 19:29:34                       Selesai Tes Bidang Studi  \n",
              "1 2022-06-08 19:15:02                       Memulai Tes Bidang Studi  \n",
              "2 2022-09-08 22:01:11           Selesai Tes Kemampuan Visual Spasial  \n",
              "3 2022-09-08 21:49:11           Memulai Tes Kemampuan Visual Spasial  \n",
              "4 2022-07-05 20:22:25               Memulai Tes Penalaran Matematika  \n",
              "5 2022-06-04 19:02:00           Selesai Tes Kemampuan Bahasa Inggris  \n",
              "6 2022-06-04 19:02:00  Selesai Bagian 3 Tes Kemampuan Bahasa Inggris  \n",
              "7 2022-06-04 18:52:03  Memulai Bagian 3 Tes Kemampuan Bahasa Inggris  \n",
              "8 2022-06-04 18:52:03  Selesai Bagian 2 Tes Kemampuan Bahasa Inggris  \n",
              "9 2022-06-04 18:41:40  Memulai Bagian 2 Tes Kemampuan Bahasa Inggris  "
            ],
            "text/html": [
              "\n",
              "  <div id=\"df-f9c9ceec-200e-400c-bf93-631466619fa0\" class=\"colab-df-container\">\n",
              "    <div>\n",
              "<style scoped>\n",
              "    .dataframe tbody tr th:only-of-type {\n",
              "        vertical-align: middle;\n",
              "    }\n",
              "\n",
              "    .dataframe tbody tr th {\n",
              "        vertical-align: top;\n",
              "    }\n",
              "\n",
              "    .dataframe thead th {\n",
              "        text-align: right;\n",
              "    }\n",
              "</style>\n",
              "<table border=\"1\" class=\"dataframe\">\n",
              "  <thead>\n",
              "    <tr style=\"text-align: right;\">\n",
              "      <th></th>\n",
              "      <th>id_ujian</th>\n",
              "      <th>id_peserta</th>\n",
              "      <th>ujian_dimulai</th>\n",
              "      <th>ujian_ditutup</th>\n",
              "      <th>jenis_tes</th>\n",
              "      <th>timestamp_log</th>\n",
              "      <th>pesan_log</th>\n",
              "    </tr>\n",
              "  </thead>\n",
              "  <tbody>\n",
              "    <tr>\n",
              "      <th>0</th>\n",
              "      <td>29fbeda12fc84baaab209699439aba09</td>\n",
              "      <td>982b41ef78bcc73e9dcbb9110afce55b</td>\n",
              "      <td>2022-06-07 15:52:00</td>\n",
              "      <td>2022-06-09 21:00:00</td>\n",
              "      <td>Bidang Studi</td>\n",
              "      <td>2022-06-08 19:29:34</td>\n",
              "      <td>Selesai Tes Bidang Studi</td>\n",
              "    </tr>\n",
              "    <tr>\n",
              "      <th>1</th>\n",
              "      <td>29fbeda12fc84baaab209699439aba09</td>\n",
              "      <td>982b41ef78bcc73e9dcbb9110afce55b</td>\n",
              "      <td>2022-06-07 15:52:00</td>\n",
              "      <td>2022-06-09 21:00:00</td>\n",
              "      <td>Bidang Studi</td>\n",
              "      <td>2022-06-08 19:15:02</td>\n",
              "      <td>Memulai Tes Bidang Studi</td>\n",
              "    </tr>\n",
              "    <tr>\n",
              "      <th>2</th>\n",
              "      <td>e82a71007130c199a90961842d15b339</td>\n",
              "      <td>9f2de4269e67bd7e3d837026252a4bfb</td>\n",
              "      <td>2022-09-08 10:30:00</td>\n",
              "      <td>2022-09-09 10:30:00</td>\n",
              "      <td>Kemampuan Visual Spasial</td>\n",
              "      <td>2022-09-08 22:01:11</td>\n",
              "      <td>Selesai Tes Kemampuan Visual Spasial</td>\n",
              "    </tr>\n",
              "    <tr>\n",
              "      <th>3</th>\n",
              "      <td>e82a71007130c199a90961842d15b339</td>\n",
              "      <td>9f2de4269e67bd7e3d837026252a4bfb</td>\n",
              "      <td>2022-09-08 10:30:00</td>\n",
              "      <td>2022-09-09 10:30:00</td>\n",
              "      <td>Kemampuan Visual Spasial</td>\n",
              "      <td>2022-09-08 21:49:11</td>\n",
              "      <td>Memulai Tes Kemampuan Visual Spasial</td>\n",
              "    </tr>\n",
              "    <tr>\n",
              "      <th>4</th>\n",
              "      <td>8489127cbef60df4ff9aaeda12eeb327</td>\n",
              "      <td>b0afe01565fd69bc0c045ef84abc848e</td>\n",
              "      <td>2022-06-15 21:30:00</td>\n",
              "      <td>2022-06-16 23:59:00</td>\n",
              "      <td>Bidang Studi</td>\n",
              "      <td>2022-07-05 20:22:25</td>\n",
              "      <td>Memulai Tes Penalaran Matematika</td>\n",
              "    </tr>\n",
              "    <tr>\n",
              "      <th>5</th>\n",
              "      <td>0b97e22ca7c95fdf86d97f10abd7a6c3</td>\n",
              "      <td>b88d2688d72b74a5723da96f9fa8a772</td>\n",
              "      <td>2022-06-03 23:24:00</td>\n",
              "      <td>2022-06-04 23:59:00</td>\n",
              "      <td>Kemampuan Bahasa Inggris</td>\n",
              "      <td>2022-06-04 19:02:00</td>\n",
              "      <td>Selesai Tes Kemampuan Bahasa Inggris</td>\n",
              "    </tr>\n",
              "    <tr>\n",
              "      <th>6</th>\n",
              "      <td>0b97e22ca7c95fdf86d97f10abd7a6c3</td>\n",
              "      <td>b88d2688d72b74a5723da96f9fa8a772</td>\n",
              "      <td>2022-06-03 23:24:00</td>\n",
              "      <td>2022-06-04 23:59:00</td>\n",
              "      <td>Kemampuan Bahasa Inggris</td>\n",
              "      <td>2022-06-04 19:02:00</td>\n",
              "      <td>Selesai Bagian 3 Tes Kemampuan Bahasa Inggris</td>\n",
              "    </tr>\n",
              "    <tr>\n",
              "      <th>7</th>\n",
              "      <td>0b97e22ca7c95fdf86d97f10abd7a6c3</td>\n",
              "      <td>b88d2688d72b74a5723da96f9fa8a772</td>\n",
              "      <td>2022-06-03 23:24:00</td>\n",
              "      <td>2022-06-04 23:59:00</td>\n",
              "      <td>Kemampuan Bahasa Inggris</td>\n",
              "      <td>2022-06-04 18:52:03</td>\n",
              "      <td>Memulai Bagian 3 Tes Kemampuan Bahasa Inggris</td>\n",
              "    </tr>\n",
              "    <tr>\n",
              "      <th>8</th>\n",
              "      <td>0b97e22ca7c95fdf86d97f10abd7a6c3</td>\n",
              "      <td>b88d2688d72b74a5723da96f9fa8a772</td>\n",
              "      <td>2022-06-03 23:24:00</td>\n",
              "      <td>2022-06-04 23:59:00</td>\n",
              "      <td>Kemampuan Bahasa Inggris</td>\n",
              "      <td>2022-06-04 18:52:03</td>\n",
              "      <td>Selesai Bagian 2 Tes Kemampuan Bahasa Inggris</td>\n",
              "    </tr>\n",
              "    <tr>\n",
              "      <th>9</th>\n",
              "      <td>0b97e22ca7c95fdf86d97f10abd7a6c3</td>\n",
              "      <td>b88d2688d72b74a5723da96f9fa8a772</td>\n",
              "      <td>2022-06-03 23:24:00</td>\n",
              "      <td>2022-06-04 23:59:00</td>\n",
              "      <td>Kemampuan Bahasa Inggris</td>\n",
              "      <td>2022-06-04 18:41:40</td>\n",
              "      <td>Memulai Bagian 2 Tes Kemampuan Bahasa Inggris</td>\n",
              "    </tr>\n",
              "  </tbody>\n",
              "</table>\n",
              "</div>\n",
              "    <div class=\"colab-df-buttons\">\n",
              "\n",
              "  <div class=\"colab-df-container\">\n",
              "    <button class=\"colab-df-convert\" onclick=\"convertToInteractive('df-f9c9ceec-200e-400c-bf93-631466619fa0')\"\n",
              "            title=\"Convert this dataframe to an interactive table.\"\n",
              "            style=\"display:none;\">\n",
              "\n",
              "  <svg xmlns=\"http://www.w3.org/2000/svg\" height=\"24px\" viewBox=\"0 -960 960 960\">\n",
              "    <path d=\"M120-120v-720h720v720H120Zm60-500h600v-160H180v160Zm220 220h160v-160H400v160Zm0 220h160v-160H400v160ZM180-400h160v-160H180v160Zm440 0h160v-160H620v160ZM180-180h160v-160H180v160Zm440 0h160v-160H620v160Z\"/>\n",
              "  </svg>\n",
              "    </button>\n",
              "\n",
              "  <style>\n",
              "    .colab-df-container {\n",
              "      display:flex;\n",
              "      gap: 12px;\n",
              "    }\n",
              "\n",
              "    .colab-df-convert {\n",
              "      background-color: #E8F0FE;\n",
              "      border: none;\n",
              "      border-radius: 50%;\n",
              "      cursor: pointer;\n",
              "      display: none;\n",
              "      fill: #1967D2;\n",
              "      height: 32px;\n",
              "      padding: 0 0 0 0;\n",
              "      width: 32px;\n",
              "    }\n",
              "\n",
              "    .colab-df-convert:hover {\n",
              "      background-color: #E2EBFA;\n",
              "      box-shadow: 0px 1px 2px rgba(60, 64, 67, 0.3), 0px 1px 3px 1px rgba(60, 64, 67, 0.15);\n",
              "      fill: #174EA6;\n",
              "    }\n",
              "\n",
              "    .colab-df-buttons div {\n",
              "      margin-bottom: 4px;\n",
              "    }\n",
              "\n",
              "    [theme=dark] .colab-df-convert {\n",
              "      background-color: #3B4455;\n",
              "      fill: #D2E3FC;\n",
              "    }\n",
              "\n",
              "    [theme=dark] .colab-df-convert:hover {\n",
              "      background-color: #434B5C;\n",
              "      box-shadow: 0px 1px 3px 1px rgba(0, 0, 0, 0.15);\n",
              "      filter: drop-shadow(0px 1px 2px rgba(0, 0, 0, 0.3));\n",
              "      fill: #FFFFFF;\n",
              "    }\n",
              "  </style>\n",
              "\n",
              "    <script>\n",
              "      const buttonEl =\n",
              "        document.querySelector('#df-f9c9ceec-200e-400c-bf93-631466619fa0 button.colab-df-convert');\n",
              "      buttonEl.style.display =\n",
              "        google.colab.kernel.accessAllowed ? 'block' : 'none';\n",
              "\n",
              "      async function convertToInteractive(key) {\n",
              "        const element = document.querySelector('#df-f9c9ceec-200e-400c-bf93-631466619fa0');\n",
              "        const dataTable =\n",
              "          await google.colab.kernel.invokeFunction('convertToInteractive',\n",
              "                                                    [key], {});\n",
              "        if (!dataTable) return;\n",
              "\n",
              "        const docLinkHtml = 'Like what you see? Visit the ' +\n",
              "          '<a target=\"_blank\" href=https://colab.research.google.com/notebooks/data_table.ipynb>data table notebook</a>'\n",
              "          + ' to learn more about interactive tables.';\n",
              "        element.innerHTML = '';\n",
              "        dataTable['output_type'] = 'display_data';\n",
              "        await google.colab.output.renderOutput(dataTable, element);\n",
              "        const docLink = document.createElement('div');\n",
              "        docLink.innerHTML = docLinkHtml;\n",
              "        element.appendChild(docLink);\n",
              "      }\n",
              "    </script>\n",
              "  </div>\n",
              "\n",
              "\n",
              "<div id=\"df-28d8df0d-78dd-429e-9246-6d414fcc7ba0\">\n",
              "  <button class=\"colab-df-quickchart\" onclick=\"quickchart('df-28d8df0d-78dd-429e-9246-6d414fcc7ba0')\"\n",
              "            title=\"Suggest charts\"\n",
              "            style=\"display:none;\">\n",
              "\n",
              "<svg xmlns=\"http://www.w3.org/2000/svg\" height=\"24px\"viewBox=\"0 0 24 24\"\n",
              "     width=\"24px\">\n",
              "    <g>\n",
              "        <path d=\"M19 3H5c-1.1 0-2 .9-2 2v14c0 1.1.9 2 2 2h14c1.1 0 2-.9 2-2V5c0-1.1-.9-2-2-2zM9 17H7v-7h2v7zm4 0h-2V7h2v10zm4 0h-2v-4h2v4z\"/>\n",
              "    </g>\n",
              "</svg>\n",
              "  </button>\n",
              "\n",
              "<style>\n",
              "  .colab-df-quickchart {\n",
              "      --bg-color: #E8F0FE;\n",
              "      --fill-color: #1967D2;\n",
              "      --hover-bg-color: #E2EBFA;\n",
              "      --hover-fill-color: #174EA6;\n",
              "      --disabled-fill-color: #AAA;\n",
              "      --disabled-bg-color: #DDD;\n",
              "  }\n",
              "\n",
              "  [theme=dark] .colab-df-quickchart {\n",
              "      --bg-color: #3B4455;\n",
              "      --fill-color: #D2E3FC;\n",
              "      --hover-bg-color: #434B5C;\n",
              "      --hover-fill-color: #FFFFFF;\n",
              "      --disabled-bg-color: #3B4455;\n",
              "      --disabled-fill-color: #666;\n",
              "  }\n",
              "\n",
              "  .colab-df-quickchart {\n",
              "    background-color: var(--bg-color);\n",
              "    border: none;\n",
              "    border-radius: 50%;\n",
              "    cursor: pointer;\n",
              "    display: none;\n",
              "    fill: var(--fill-color);\n",
              "    height: 32px;\n",
              "    padding: 0;\n",
              "    width: 32px;\n",
              "  }\n",
              "\n",
              "  .colab-df-quickchart:hover {\n",
              "    background-color: var(--hover-bg-color);\n",
              "    box-shadow: 0 1px 2px rgba(60, 64, 67, 0.3), 0 1px 3px 1px rgba(60, 64, 67, 0.15);\n",
              "    fill: var(--button-hover-fill-color);\n",
              "  }\n",
              "\n",
              "  .colab-df-quickchart-complete:disabled,\n",
              "  .colab-df-quickchart-complete:disabled:hover {\n",
              "    background-color: var(--disabled-bg-color);\n",
              "    fill: var(--disabled-fill-color);\n",
              "    box-shadow: none;\n",
              "  }\n",
              "\n",
              "  .colab-df-spinner {\n",
              "    border: 2px solid var(--fill-color);\n",
              "    border-color: transparent;\n",
              "    border-bottom-color: var(--fill-color);\n",
              "    animation:\n",
              "      spin 1s steps(1) infinite;\n",
              "  }\n",
              "\n",
              "  @keyframes spin {\n",
              "    0% {\n",
              "      border-color: transparent;\n",
              "      border-bottom-color: var(--fill-color);\n",
              "      border-left-color: var(--fill-color);\n",
              "    }\n",
              "    20% {\n",
              "      border-color: transparent;\n",
              "      border-left-color: var(--fill-color);\n",
              "      border-top-color: var(--fill-color);\n",
              "    }\n",
              "    30% {\n",
              "      border-color: transparent;\n",
              "      border-left-color: var(--fill-color);\n",
              "      border-top-color: var(--fill-color);\n",
              "      border-right-color: var(--fill-color);\n",
              "    }\n",
              "    40% {\n",
              "      border-color: transparent;\n",
              "      border-right-color: var(--fill-color);\n",
              "      border-top-color: var(--fill-color);\n",
              "    }\n",
              "    60% {\n",
              "      border-color: transparent;\n",
              "      border-right-color: var(--fill-color);\n",
              "    }\n",
              "    80% {\n",
              "      border-color: transparent;\n",
              "      border-right-color: var(--fill-color);\n",
              "      border-bottom-color: var(--fill-color);\n",
              "    }\n",
              "    90% {\n",
              "      border-color: transparent;\n",
              "      border-bottom-color: var(--fill-color);\n",
              "    }\n",
              "  }\n",
              "</style>\n",
              "\n",
              "  <script>\n",
              "    async function quickchart(key) {\n",
              "      const quickchartButtonEl =\n",
              "        document.querySelector('#' + key + ' button');\n",
              "      quickchartButtonEl.disabled = true;  // To prevent multiple clicks.\n",
              "      quickchartButtonEl.classList.add('colab-df-spinner');\n",
              "      try {\n",
              "        const charts = await google.colab.kernel.invokeFunction(\n",
              "            'suggestCharts', [key], {});\n",
              "      } catch (error) {\n",
              "        console.error('Error during call to suggestCharts:', error);\n",
              "      }\n",
              "      quickchartButtonEl.classList.remove('colab-df-spinner');\n",
              "      quickchartButtonEl.classList.add('colab-df-quickchart-complete');\n",
              "    }\n",
              "    (() => {\n",
              "      let quickchartButtonEl =\n",
              "        document.querySelector('#df-28d8df0d-78dd-429e-9246-6d414fcc7ba0 button');\n",
              "      quickchartButtonEl.style.display =\n",
              "        google.colab.kernel.accessAllowed ? 'block' : 'none';\n",
              "    })();\n",
              "  </script>\n",
              "</div>\n",
              "    </div>\n",
              "  </div>\n"
            ]
          },
          "metadata": {},
          "execution_count": 16
        }
      ]
    },
    {
      "cell_type": "markdown",
      "source": [
        "###**Typo**"
      ],
      "metadata": {
        "id": "N4JpjL-esDF3"
      }
    },
    {
      "cell_type": "code",
      "source": [
        "data[\"ujian_dimulai\"].unique() #tidak ada bulan dan tanggal yang mustahil ada."
      ],
      "metadata": {
        "id": "ZJiifpaErpeE",
        "colab": {
          "base_uri": "https://localhost:8080/"
        },
        "outputId": "0719bb7d-554b-4dd0-9282-e81e6c5654e0"
      },
      "execution_count": null,
      "outputs": [
        {
          "output_type": "execute_result",
          "data": {
            "text/plain": [
              "array(['2022-06-07T15:52:00.000000000', '2022-09-08T10:30:00.000000000',\n",
              "       '2022-06-15T21:30:00.000000000', '2022-06-03T23:24:00.000000000',\n",
              "       '2022-08-05T13:00:00.000000000', '2022-07-01T14:15:00.000000000',\n",
              "       '2022-08-07T16:00:00.000000000', '2022-07-11T09:01:00.000000000',\n",
              "       '2022-06-09T09:00:00.000000000', '2022-04-07T08:00:00.000000000',\n",
              "       '2022-06-09T22:36:00.000000000', '2022-07-22T07:00:00.000000000',\n",
              "       '2022-07-04T09:02:00.000000000', '2022-06-03T23:27:00.000000000',\n",
              "       '2022-07-04T05:00:00.000000000', '2022-08-08T15:03:00.000000000',\n",
              "       '2022-07-29T14:24:00.000000000', '2022-07-23T09:00:00.000000000',\n",
              "       '2022-06-03T23:30:00.000000000', '2022-06-20T15:26:00.000000000',\n",
              "       '2022-05-29T09:00:00.000000000', '2022-09-03T12:00:00.000000000',\n",
              "       '2022-07-19T05:00:00.000000000', '2022-07-04T13:00:00.000000000',\n",
              "       '2022-06-06T11:00:00.000000000', '2022-06-09T15:18:00.000000000',\n",
              "       '2022-06-22T16:00:00.000000000', '2022-07-11T14:49:00.000000000',\n",
              "       '2022-06-16T16:54:00.000000000', '2022-09-09T08:00:00.000000000',\n",
              "       '2022-05-31T17:49:00.000000000', '2022-06-09T22:29:00.000000000',\n",
              "       '2022-06-18T07:00:00.000000000', '2022-07-08T15:30:00.000000000',\n",
              "       '2022-07-04T06:00:00.000000000', '2022-06-28T18:00:00.000000000',\n",
              "       '2022-07-22T11:23:00.000000000', '2022-08-09T08:00:00.000000000',\n",
              "       '2022-08-06T14:09:00.000000000', '2022-07-28T17:00:00.000000000',\n",
              "       '2022-06-21T08:00:00.000000000', '2022-08-06T00:00:00.000000000',\n",
              "       '2022-06-08T11:25:00.000000000', '2022-09-13T10:30:00.000000000',\n",
              "       '2022-06-01T15:16:00.000000000', '2022-08-22T08:00:00.000000000',\n",
              "       '2022-07-14T11:00:00.000000000', '2022-09-01T13:59:00.000000000',\n",
              "       '2022-10-25T11:20:00.000000000', '2022-05-30T22:51:00.000000000',\n",
              "       '2022-06-06T14:00:00.000000000', '2022-06-14T17:28:00.000000000',\n",
              "       '2022-08-25T15:25:00.000000000', '2022-06-24T10:00:00.000000000',\n",
              "       '2022-08-13T09:00:00.000000000', '2022-08-10T08:00:00.000000000',\n",
              "       '2022-09-30T23:18:00.000000000', '2022-08-13T12:00:00.000000000',\n",
              "       '2022-07-07T00:00:00.000000000', '2022-08-09T11:59:00.000000000',\n",
              "       '2022-06-03T22:17:00.000000000', '2022-09-07T11:38:00.000000000',\n",
              "       '2022-09-09T21:16:00.000000000', '2022-07-18T10:38:00.000000000',\n",
              "       '2022-07-08T17:00:00.000000000', '2022-07-15T17:05:00.000000000',\n",
              "       '2022-06-09T05:00:00.000000000', '2022-07-26T09:10:00.000000000',\n",
              "       '2022-09-09T15:26:00.000000000', '2022-08-03T17:00:00.000000000',\n",
              "       '2022-07-20T09:46:00.000000000', '2022-08-25T10:43:00.000000000',\n",
              "       '2022-06-01T09:00:00.000000000', '2022-08-01T13:00:00.000000000',\n",
              "       '2022-07-06T11:00:00.000000000', '2022-06-15T09:12:00.000000000',\n",
              "       '2022-06-15T17:02:00.000000000', '2022-05-30T22:34:00.000000000',\n",
              "       '2022-06-20T10:46:00.000000000', '2022-08-19T17:37:00.000000000',\n",
              "       '2022-07-25T05:00:00.000000000', '2022-07-04T09:00:00.000000000',\n",
              "       '2022-08-01T17:08:00.000000000', '2022-07-05T07:00:00.000000000',\n",
              "       '2022-07-19T11:14:00.000000000', '2022-06-15T15:00:00.000000000',\n",
              "       '2022-07-14T10:17:00.000000000', '2022-07-14T09:34:00.000000000',\n",
              "       '2022-06-09T16:10:00.000000000', '2022-08-17T14:00:00.000000000',\n",
              "       '2022-07-26T08:00:00.000000000', '2022-08-06T08:00:00.000000000',\n",
              "       '2022-11-04T15:41:00.000000000', '2023-01-03T08:30:00.000000000',\n",
              "       '2022-07-23T08:00:00.000000000', '2022-05-30T22:40:00.000000000',\n",
              "       '2022-05-30T22:45:00.000000000', '2022-07-05T16:23:00.000000000',\n",
              "       '2022-06-05T16:27:00.000000000', '2022-06-24T13:00:00.000000000',\n",
              "       '2022-06-18T12:00:00.000000000', '2022-05-30T10:00:00.000000000',\n",
              "       '2022-06-28T09:30:00.000000000', '2022-06-16T10:26:00.000000000',\n",
              "       '2022-08-11T15:52:00.000000000', '2022-08-01T11:04:00.000000000',\n",
              "       '2022-05-27T15:04:00.000000000', '2022-09-13T16:00:00.000000000',\n",
              "       '2022-07-21T08:00:00.000000000', '2022-08-03T10:06:00.000000000',\n",
              "       '2022-07-29T18:00:00.000000000', '2022-07-21T11:32:00.000000000',\n",
              "       '2022-07-14T16:00:00.000000000', '2022-06-15T11:13:00.000000000',\n",
              "       '2022-08-08T21:47:00.000000000', '2022-06-02T15:31:00.000000000',\n",
              "       '2022-06-18T08:00:00.000000000', '2022-09-09T14:41:00.000000000',\n",
              "       '2022-08-30T05:03:00.000000000', '2022-06-01T15:48:00.000000000',\n",
              "       '2022-06-03T07:00:00.000000000', '2022-09-26T22:40:00.000000000',\n",
              "       '2022-09-10T10:05:00.000000000', '2022-05-30T22:55:00.000000000',\n",
              "       '2022-11-04T21:30:00.000000000', '2022-07-01T17:30:00.000000000',\n",
              "       '2022-09-01T14:59:00.000000000', '2022-06-20T09:00:00.000000000',\n",
              "       '2022-08-16T07:00:00.000000000', '2022-06-22T14:00:00.000000000',\n",
              "       '2022-11-15T05:00:00.000000000', '2022-10-26T15:40:00.000000000',\n",
              "       '2022-07-08T21:30:00.000000000', '2022-06-09T15:00:00.000000000',\n",
              "       '2022-07-21T11:26:00.000000000', '2022-08-19T00:00:00.000000000',\n",
              "       '2022-06-28T08:00:00.000000000', '2022-06-09T22:35:00.000000000',\n",
              "       '2022-07-26T15:21:00.000000000', '2022-08-09T15:40:00.000000000',\n",
              "       '2022-08-09T10:28:00.000000000', '2022-08-10T10:34:00.000000000',\n",
              "       '2022-06-03T23:18:00.000000000', '2022-06-17T22:02:00.000000000',\n",
              "       '2022-08-31T08:00:00.000000000', '2022-07-29T17:45:00.000000000',\n",
              "       '2022-08-12T08:00:00.000000000', '2022-12-08T14:57:00.000000000',\n",
              "       '2022-06-13T15:58:00.000000000', '2022-05-28T05:46:00.000000000',\n",
              "       '2022-08-02T08:43:00.000000000', '2022-06-13T08:00:00.000000000',\n",
              "       '2022-07-29T17:20:00.000000000', '2022-07-08T21:05:00.000000000',\n",
              "       '2022-06-17T11:00:00.000000000', '2022-06-30T15:00:00.000000000',\n",
              "       '2022-08-30T15:37:00.000000000', '2022-09-09T09:00:00.000000000',\n",
              "       '2022-07-19T09:30:00.000000000', '2022-07-19T12:00:00.000000000',\n",
              "       '2022-07-16T07:00:00.000000000', '2022-08-07T19:00:00.000000000',\n",
              "       '2022-08-23T16:08:00.000000000', '2022-11-24T14:47:00.000000000',\n",
              "       '2022-09-26T22:51:00.000000000', '2022-06-29T11:00:00.000000000',\n",
              "       '2022-08-18T12:01:00.000000000', '2022-06-09T13:52:00.000000000',\n",
              "       '2022-09-07T05:00:00.000000000', '2022-06-06T11:30:00.000000000',\n",
              "       '2022-08-17T11:49:00.000000000', '2022-09-27T17:49:00.000000000',\n",
              "       '2022-08-04T10:42:00.000000000', '2022-07-21T10:00:00.000000000',\n",
              "       '2022-07-11T08:00:00.000000000', '2022-06-22T09:00:00.000000000',\n",
              "       '2022-06-26T13:02:00.000000000', '2022-05-30T09:00:00.000000000',\n",
              "       '2022-06-05T16:24:00.000000000', '2022-07-15T06:00:00.000000000',\n",
              "       '2022-06-11T09:00:00.000000000', '2022-07-05T08:00:00.000000000',\n",
              "       '2022-07-13T17:00:00.000000000', '2022-08-13T11:06:00.000000000',\n",
              "       '2022-06-24T14:49:00.000000000', '2022-08-01T13:30:00.000000000',\n",
              "       '2022-10-18T11:53:00.000000000', '2022-07-17T19:00:00.000000000',\n",
              "       '2022-11-04T21:05:00.000000000', '2022-07-27T18:00:00.000000000',\n",
              "       '2022-06-09T10:00:00.000000000', '2022-06-06T15:30:00.000000000',\n",
              "       '2022-06-28T09:00:00.000000000', '2022-06-09T11:32:00.000000000',\n",
              "       '2022-06-09T15:20:00.000000000', '2022-09-06T08:30:00.000000000',\n",
              "       '2022-08-01T11:13:00.000000000', '2022-07-07T08:00:00.000000000',\n",
              "       '2022-08-11T11:11:00.000000000', '2022-06-27T08:00:00.000000000',\n",
              "       '2022-09-02T09:06:00.000000000', '2022-07-20T11:00:00.000000000',\n",
              "       '2022-07-29T15:00:00.000000000', '2023-01-04T08:00:00.000000000',\n",
              "       '2022-08-13T10:00:00.000000000', '2022-06-29T18:00:00.000000000',\n",
              "       '2022-08-03T11:37:00.000000000', '2022-07-05T08:45:00.000000000',\n",
              "       '2022-06-09T23:23:00.000000000', '2022-09-30T23:27:00.000000000',\n",
              "       '2022-07-01T14:54:00.000000000', '2022-06-05T08:00:00.000000000',\n",
              "       '2022-07-21T00:00:00.000000000', '2022-07-15T14:30:00.000000000',\n",
              "       '2022-06-13T15:00:00.000000000', '2022-07-02T00:00:00.000000000',\n",
              "       '2022-11-07T07:00:00.000000000', '2022-07-25T14:17:00.000000000',\n",
              "       '2022-05-31T08:15:00.000000000', '2022-08-17T10:15:00.000000000',\n",
              "       '2022-10-31T05:00:00.000000000', '2022-07-20T07:00:00.000000000',\n",
              "       '2022-07-30T12:59:00.000000000', '2022-08-09T15:00:00.000000000',\n",
              "       '2022-06-03T23:33:00.000000000', '2022-06-11T12:00:00.000000000',\n",
              "       '2022-08-24T13:59:00.000000000', '2022-06-27T13:00:00.000000000',\n",
              "       '2022-07-31T09:00:00.000000000', '2022-06-18T12:52:00.000000000',\n",
              "       '2022-07-28T15:06:00.000000000', '2022-06-23T09:00:00.000000000',\n",
              "       '2022-08-18T21:53:00.000000000', '2022-07-30T00:01:00.000000000',\n",
              "       '2022-06-21T16:04:00.000000000', '2022-07-18T17:00:00.000000000',\n",
              "       '2022-08-22T16:00:00.000000000', '2022-06-29T16:00:00.000000000',\n",
              "       '2022-07-09T11:49:00.000000000', '2022-06-16T10:00:00.000000000',\n",
              "       '2022-09-12T14:41:00.000000000', '2022-07-06T07:00:00.000000000',\n",
              "       '2022-06-15T16:41:00.000000000', '2022-07-29T09:33:00.000000000',\n",
              "       '2022-06-29T14:20:00.000000000', '2022-09-10T10:21:00.000000000',\n",
              "       '2022-07-04T13:43:00.000000000', '2022-08-10T12:00:00.000000000',\n",
              "       '2022-07-20T14:48:00.000000000', '2022-06-09T07:00:00.000000000',\n",
              "       '2022-07-08T01:00:00.000000000', '2022-08-22T13:35:00.000000000',\n",
              "       '2022-07-01T08:40:00.000000000', '2022-06-03T21:52:00.000000000',\n",
              "       '2022-06-30T18:00:00.000000000', '2022-07-31T07:00:00.000000000',\n",
              "       '2022-07-22T16:02:00.000000000', '2022-08-13T11:15:00.000000000',\n",
              "       '2022-07-11T07:00:00.000000000', '2022-06-01T08:50:00.000000000',\n",
              "       '2022-06-13T16:00:00.000000000', '2022-09-28T15:48:00.000000000',\n",
              "       '2022-06-20T13:17:00.000000000', '2022-08-01T09:00:00.000000000',\n",
              "       '2022-08-03T00:01:00.000000000', '2022-09-12T16:00:00.000000000',\n",
              "       '2022-07-11T16:27:00.000000000', '2022-06-30T14:00:00.000000000',\n",
              "       '2022-08-05T11:00:00.000000000', '2022-07-20T11:48:00.000000000',\n",
              "       '2022-07-05T00:00:00.000000000', '2022-07-12T13:35:00.000000000',\n",
              "       '2022-06-03T00:00:00.000000000', '2022-06-09T09:10:00.000000000',\n",
              "       '2022-07-29T11:16:00.000000000', '2022-09-01T08:00:00.000000000',\n",
              "       '2022-08-05T20:27:00.000000000', '2022-06-14T15:30:00.000000000',\n",
              "       '2022-06-08T18:00:00.000000000', '2022-08-19T16:36:00.000000000',\n",
              "       '2022-08-08T11:56:00.000000000', '2022-08-07T08:00:00.000000000',\n",
              "       '2022-07-22T13:51:00.000000000', '2022-08-08T16:03:00.000000000',\n",
              "       '2022-08-06T17:36:00.000000000', '2022-08-17T16:19:00.000000000',\n",
              "       '2022-08-24T14:27:00.000000000', '2022-08-22T13:00:00.000000000',\n",
              "       '2022-10-06T15:20:00.000000000', '2022-07-16T11:00:00.000000000',\n",
              "       '2022-07-19T11:30:00.000000000', '2022-08-04T16:07:00.000000000',\n",
              "       '2022-06-19T13:18:00.000000000', '2022-09-01T00:00:00.000000000',\n",
              "       '2022-07-21T15:31:00.000000000', '2022-06-28T15:49:00.000000000',\n",
              "       '2022-08-22T14:01:00.000000000', '2022-09-01T08:44:00.000000000',\n",
              "       '2022-06-22T16:54:00.000000000', '2022-09-02T15:13:00.000000000',\n",
              "       '2022-07-01T07:58:00.000000000', '2022-07-26T14:00:00.000000000',\n",
              "       '2022-07-20T17:18:00.000000000', '2022-09-10T11:48:00.000000000',\n",
              "       '2022-06-15T15:40:00.000000000', '2022-07-01T12:00:00.000000000',\n",
              "       '2022-08-30T07:00:00.000000000', '2022-09-12T15:31:00.000000000',\n",
              "       '2022-06-10T17:57:00.000000000', '2022-07-08T14:14:00.000000000',\n",
              "       '2022-07-23T07:00:00.000000000', '2022-05-27T20:00:00.000000000',\n",
              "       '2022-08-23T10:35:00.000000000', '2022-09-06T22:22:00.000000000',\n",
              "       '2022-08-04T09:00:00.000000000', '2022-07-04T08:21:00.000000000',\n",
              "       '2022-06-29T08:00:00.000000000', '2022-10-17T10:46:00.000000000',\n",
              "       '2022-08-23T08:00:00.000000000', '2022-06-03T08:00:00.000000000',\n",
              "       '2022-06-08T08:00:00.000000000', '2022-09-10T00:01:00.000000000',\n",
              "       '2022-07-28T15:16:00.000000000', '2022-08-24T11:24:00.000000000',\n",
              "       '2022-07-14T14:00:00.000000000', '2022-07-26T08:40:00.000000000',\n",
              "       '2022-09-13T11:30:00.000000000', '2022-07-02T10:00:00.000000000',\n",
              "       '2022-06-08T12:00:00.000000000', '2022-09-03T11:20:00.000000000',\n",
              "       '2022-09-12T12:17:00.000000000', '2022-06-29T15:00:00.000000000',\n",
              "       '2022-08-19T14:00:00.000000000', '2022-11-05T17:27:00.000000000',\n",
              "       '2022-08-03T15:32:00.000000000', '2022-08-31T09:47:00.000000000',\n",
              "       '2022-06-07T17:58:00.000000000', '2022-06-20T08:39:00.000000000',\n",
              "       '2022-06-10T11:49:00.000000000', '2022-09-12T09:22:00.000000000',\n",
              "       '2022-10-27T15:00:00.000000000', '2022-08-31T15:00:00.000000000',\n",
              "       '2022-08-08T08:09:00.000000000', '2022-08-15T09:00:00.000000000',\n",
              "       '2022-07-08T09:45:00.000000000', '2022-08-17T18:11:00.000000000',\n",
              "       '2022-07-21T09:00:00.000000000', '2022-09-26T22:34:00.000000000',\n",
              "       '2022-08-17T09:35:00.000000000', '2022-10-28T12:00:00.000000000',\n",
              "       '2022-12-05T21:49:00.000000000', '2022-08-25T06:00:00.000000000',\n",
              "       '2022-08-30T11:07:00.000000000', '2022-05-31T10:00:00.000000000',\n",
              "       '2022-10-05T12:03:00.000000000', '2022-10-06T22:29:00.000000000',\n",
              "       '2022-07-24T11:00:00.000000000', '2022-07-05T14:56:00.000000000',\n",
              "       '2022-09-24T08:00:00.000000000', '2022-06-04T07:44:00.000000000',\n",
              "       '2022-07-21T14:50:00.000000000', '2022-05-30T16:00:00.000000000',\n",
              "       '2022-07-21T16:00:00.000000000', '2022-07-22T14:00:00.000000000',\n",
              "       '2022-09-19T09:00:00.000000000', '2022-08-11T14:40:00.000000000',\n",
              "       '2022-06-24T15:14:00.000000000', '2022-07-13T14:25:00.000000000',\n",
              "       '2022-06-24T14:00:00.000000000', '2022-08-02T15:00:00.000000000',\n",
              "       '2022-07-26T14:48:00.000000000', '2022-07-28T11:45:00.000000000',\n",
              "       '2022-05-30T13:30:00.000000000', '2022-08-02T10:02:00.000000000',\n",
              "       '2022-06-01T08:00:00.000000000', '2022-08-20T23:59:00.000000000',\n",
              "       '2022-06-07T09:10:00.000000000', '2022-06-20T11:04:00.000000000',\n",
              "       '2022-06-10T15:00:00.000000000', '2022-07-16T08:00:00.000000000',\n",
              "       '2022-06-28T08:23:00.000000000', '2022-06-16T15:00:00.000000000',\n",
              "       '2022-07-19T18:00:00.000000000', '2022-07-25T10:00:00.000000000',\n",
              "       '2022-08-13T10:12:00.000000000', '2022-06-27T14:26:00.000000000',\n",
              "       '2022-06-24T18:03:00.000000000', '2022-06-17T16:00:00.000000000',\n",
              "       '2022-07-12T16:02:00.000000000', '2022-08-03T08:00:00.000000000',\n",
              "       '2022-07-23T07:20:00.000000000', '2022-08-13T10:33:00.000000000',\n",
              "       '2022-06-06T11:02:00.000000000', '2022-08-20T07:00:00.000000000',\n",
              "       '2022-06-22T10:00:00.000000000', '2022-05-31T14:03:00.000000000',\n",
              "       '2022-06-20T10:00:00.000000000', '2022-09-30T22:17:00.000000000',\n",
              "       '2022-06-07T16:00:00.000000000', '2022-07-12T08:00:00.000000000',\n",
              "       '2022-09-06T14:27:00.000000000', '2022-08-22T15:26:00.000000000',\n",
              "       '2022-06-25T08:30:00.000000000', '2022-06-27T15:51:00.000000000',\n",
              "       '2022-08-02T07:10:00.000000000', '2022-12-04T16:00:00.000000000',\n",
              "       '2022-07-15T14:00:00.000000000', '2022-06-10T12:28:00.000000000',\n",
              "       '2022-07-26T09:46:00.000000000', '2022-06-13T14:10:00.000000000',\n",
              "       '2022-07-01T18:00:00.000000000', '2022-08-02T14:00:00.000000000',\n",
              "       '2022-07-01T12:30:00.000000000', '2022-07-12T17:00:00.000000000',\n",
              "       '2022-06-06T16:27:00.000000000', '2022-07-25T08:00:00.000000000',\n",
              "       '2022-08-23T07:30:00.000000000', '2022-08-03T10:00:00.000000000',\n",
              "       '2022-08-17T08:24:00.000000000', '2022-07-19T08:00:00.000000000',\n",
              "       '2022-06-28T10:07:00.000000000', '2022-07-20T07:19:00.000000000',\n",
              "       '2022-08-12T00:00:00.000000000', '2022-06-20T12:06:00.000000000',\n",
              "       '2022-08-08T08:00:00.000000000', '2022-09-08T16:18:00.000000000',\n",
              "       '2022-09-01T09:10:00.000000000', '2022-07-08T15:41:00.000000000',\n",
              "       '2022-08-09T12:00:00.000000000', '2022-09-12T10:03:00.000000000',\n",
              "       '2022-06-23T10:34:00.000000000', '2022-08-09T11:20:00.000000000',\n",
              "       '2022-07-17T12:15:00.000000000', '2022-06-29T14:13:00.000000000',\n",
              "       '2022-07-19T10:00:00.000000000', '2022-08-08T21:20:00.000000000',\n",
              "       '2022-09-09T15:36:00.000000000', '2022-06-15T18:06:00.000000000',\n",
              "       '2022-07-04T18:29:00.000000000', '2022-06-08T09:00:00.000000000',\n",
              "       '2022-09-12T17:48:00.000000000', '2022-06-02T14:00:00.000000000',\n",
              "       '2022-06-14T09:41:00.000000000', '2022-11-12T00:01:00.000000000',\n",
              "       '2022-09-09T17:07:00.000000000', '2022-07-01T15:10:00.000000000',\n",
              "       '2022-07-11T15:34:00.000000000', '2022-06-22T14:50:00.000000000',\n",
              "       '2022-06-21T17:00:00.000000000', '2022-06-20T13:00:00.000000000',\n",
              "       '2022-06-19T07:00:00.000000000', '2022-09-07T15:04:00.000000000',\n",
              "       '2022-07-19T15:50:00.000000000', '2022-07-07T12:35:00.000000000',\n",
              "       '2022-10-06T13:52:00.000000000', '2022-07-08T15:13:00.000000000',\n",
              "       '2022-06-17T07:30:00.000000000', '2022-07-25T15:00:00.000000000',\n",
              "       '2022-07-20T14:17:00.000000000', '2022-07-11T22:27:00.000000000',\n",
              "       '2022-08-02T08:00:00.000000000', '2022-08-24T13:00:00.000000000',\n",
              "       '2022-07-06T18:41:00.000000000', '2023-01-10T13:00:00.000000000',\n",
              "       '2022-09-08T12:00:00.000000000', '2022-08-05T09:12:00.000000000',\n",
              "       '2022-06-14T16:14:00.000000000', '2022-06-15T07:30:00.000000000',\n",
              "       '2022-10-04T11:41:00.000000000', '2022-08-04T14:00:00.000000000',\n",
              "       '2022-07-29T09:00:00.000000000', '2022-09-09T21:17:00.000000000',\n",
              "       '2022-09-08T14:38:00.000000000', '2022-07-12T09:33:00.000000000',\n",
              "       '2022-08-02T07:30:00.000000000', '2022-07-06T13:30:00.000000000',\n",
              "       '2022-10-18T17:00:00.000000000', '2022-08-04T10:00:00.000000000',\n",
              "       '2022-08-02T19:00:00.000000000', '2022-12-01T08:45:00.000000000',\n",
              "       '2022-06-13T14:00:00.000000000', '2022-08-17T11:37:00.000000000',\n",
              "       '2022-08-01T08:00:00.000000000', '2022-06-24T09:04:00.000000000',\n",
              "       '2022-11-12T12:00:00.000000000', '2022-06-14T09:44:00.000000000',\n",
              "       '2022-05-30T16:45:00.000000000', '2022-08-19T07:00:00.000000000',\n",
              "       '2022-07-20T06:00:00.000000000', '2022-08-06T10:25:00.000000000',\n",
              "       '2022-09-09T16:00:00.000000000', '2022-09-03T20:00:00.000000000',\n",
              "       '2022-08-07T09:00:00.000000000', '2022-05-16T08:29:00.000000000',\n",
              "       '2022-09-12T18:30:00.000000000', '2022-07-28T12:00:00.000000000',\n",
              "       '2022-08-08T22:55:00.000000000', '2022-09-02T16:50:00.000000000',\n",
              "       '2022-08-23T13:59:00.000000000', '2022-06-28T12:00:00.000000000',\n",
              "       '2022-06-11T08:00:00.000000000', '2022-06-03T11:32:00.000000000',\n",
              "       '2022-07-30T12:00:00.000000000', '2022-09-03T08:00:00.000000000',\n",
              "       '2022-07-02T09:00:00.000000000', '2022-07-06T09:32:00.000000000',\n",
              "       '2022-09-08T10:01:00.000000000', '2022-07-27T10:08:00.000000000',\n",
              "       '2022-06-30T08:00:00.000000000', '2022-10-06T15:18:00.000000000',\n",
              "       '2022-06-25T00:00:00.000000000', '2022-08-22T14:58:00.000000000',\n",
              "       '2022-11-17T14:00:00.000000000', '2022-07-04T17:27:00.000000000',\n",
              "       '2022-08-10T16:21:00.000000000', '2022-06-28T13:30:00.000000000',\n",
              "       '2022-08-03T15:00:00.000000000', '2022-08-09T20:00:00.000000000',\n",
              "       '2022-08-10T13:07:00.000000000', '2022-08-16T10:32:00.000000000',\n",
              "       '2022-07-22T15:31:00.000000000', '2022-07-26T14:45:00.000000000',\n",
              "       '2022-05-30T08:00:00.000000000', '2022-07-21T15:15:00.000000000',\n",
              "       '2022-06-29T07:00:00.000000000', '2022-06-29T16:41:00.000000000',\n",
              "       '2022-06-11T11:00:00.000000000', '2022-07-13T15:30:00.000000000',\n",
              "       '2022-07-13T13:19:00.000000000', '2022-07-20T16:41:00.000000000',\n",
              "       '2022-11-09T17:00:00.000000000', '2022-06-27T13:15:00.000000000',\n",
              "       '2022-08-08T09:41:00.000000000', '2022-07-22T15:00:00.000000000',\n",
              "       '2022-08-15T12:04:00.000000000', '2022-06-14T15:00:00.000000000',\n",
              "       '2022-10-14T09:00:00.000000000', '2022-06-01T15:00:00.000000000',\n",
              "       '2022-06-24T08:00:00.000000000', '2022-07-06T08:00:00.000000000',\n",
              "       '2022-08-11T08:00:00.000000000', '2022-06-06T16:38:00.000000000',\n",
              "       '2022-07-23T09:09:00.000000000', '2022-06-09T08:35:00.000000000',\n",
              "       '2022-12-08T11:39:00.000000000', '2022-09-07T10:00:00.000000000',\n",
              "       '2022-06-15T08:00:00.000000000', '2022-05-28T12:00:00.000000000',\n",
              "       '2022-08-05T08:00:00.000000000', '2022-07-22T11:33:00.000000000',\n",
              "       '2022-08-06T00:01:00.000000000', '2022-08-02T10:00:00.000000000',\n",
              "       '2022-07-28T07:00:00.000000000', '2022-12-17T08:34:00.000000000',\n",
              "       '2022-06-12T15:56:00.000000000', '2022-07-31T08:00:00.000000000',\n",
              "       '2022-08-04T09:35:00.000000000', '2022-07-13T15:34:00.000000000',\n",
              "       '2022-06-24T08:19:00.000000000', '2022-05-30T09:28:00.000000000',\n",
              "       '2022-06-14T07:00:00.000000000', '2022-08-15T14:42:00.000000000',\n",
              "       '2022-06-29T13:41:00.000000000', '2022-08-08T22:35:00.000000000',\n",
              "       '2022-07-04T16:45:00.000000000', '2022-08-20T10:45:00.000000000',\n",
              "       '2022-05-31T16:50:00.000000000', '2022-09-13T14:22:00.000000000',\n",
              "       '2022-10-25T12:00:00.000000000', '2022-08-22T11:00:00.000000000',\n",
              "       '2022-06-22T14:15:00.000000000', '2022-05-27T09:49:00.000000000',\n",
              "       '2022-06-02T08:00:00.000000000', '2022-12-05T17:00:00.000000000',\n",
              "       '2022-07-06T11:12:00.000000000', '2022-07-21T16:47:00.000000000',\n",
              "       '2022-06-27T14:43:00.000000000', '2022-08-15T14:40:00.000000000',\n",
              "       '2022-06-24T13:54:00.000000000', '2022-09-06T08:52:00.000000000',\n",
              "       '2022-07-06T14:44:00.000000000', '2022-07-28T13:00:00.000000000',\n",
              "       '2022-08-16T14:58:00.000000000', '2022-08-05T07:00:00.000000000',\n",
              "       '2022-11-09T07:50:00.000000000', '2022-10-05T11:00:00.000000000',\n",
              "       '2022-05-30T16:25:00.000000000', '2022-08-19T08:00:00.000000000',\n",
              "       '2022-06-27T17:35:00.000000000', '2022-08-08T21:39:00.000000000',\n",
              "       '2022-06-23T13:17:00.000000000', '2022-07-29T14:00:00.000000000',\n",
              "       '2022-08-19T11:59:00.000000000', '2022-09-11T12:30:00.000000000',\n",
              "       '2022-12-09T08:00:00.000000000', '2022-08-08T15:02:00.000000000',\n",
              "       '2022-12-05T22:55:00.000000000', '2022-08-20T10:03:00.000000000',\n",
              "       '2022-07-08T09:00:00.000000000', '2022-09-07T21:21:00.000000000',\n",
              "       '2022-08-10T13:32:00.000000000', '2022-08-20T08:00:00.000000000',\n",
              "       '2022-08-08T11:04:00.000000000', '2022-06-01T13:00:00.000000000',\n",
              "       '2022-08-05T09:39:00.000000000', '2022-06-14T13:00:00.000000000',\n",
              "       '2022-08-06T22:00:00.000000000', '2022-08-08T11:26:00.000000000',\n",
              "       '2022-06-22T12:13:00.000000000', '2022-07-14T08:00:00.000000000',\n",
              "       '2022-07-09T17:27:00.000000000', '2022-09-28T11:11:00.000000000',\n",
              "       '2022-09-09T15:05:00.000000000', '2022-08-24T08:00:00.000000000',\n",
              "       '2022-09-09T07:00:00.000000000', '2022-09-09T15:21:00.000000000',\n",
              "       '2022-06-10T14:31:00.000000000', '2022-07-15T15:48:00.000000000',\n",
              "       '2022-09-07T11:24:00.000000000', '2022-06-03T10:00:00.000000000',\n",
              "       '2022-06-23T18:24:00.000000000', '2022-08-23T15:01:00.000000000',\n",
              "       '2022-06-08T16:00:00.000000000', '2022-06-25T09:00:00.000000000',\n",
              "       '2023-01-10T11:00:00.000000000', '2022-07-04T14:19:00.000000000',\n",
              "       '2022-06-14T00:00:00.000000000', '2022-07-24T07:33:00.000000000',\n",
              "       '2022-08-04T16:38:00.000000000', '2022-07-30T12:05:00.000000000',\n",
              "       '2022-07-14T07:00:00.000000000', '2022-06-09T10:30:00.000000000',\n",
              "       '2022-08-20T08:34:00.000000000', '2022-05-28T15:00:00.000000000',\n",
              "       '2022-09-07T08:30:00.000000000', '2022-08-04T12:00:00.000000000',\n",
              "       '2022-08-01T14:40:00.000000000', '2022-07-22T08:00:00.000000000',\n",
              "       '2022-07-18T14:57:00.000000000', '2022-06-02T14:22:00.000000000',\n",
              "       '2022-06-28T14:00:00.000000000', '2022-08-17T15:49:00.000000000',\n",
              "       '2022-06-02T09:00:00.000000000', '2022-06-24T14:26:00.000000000',\n",
              "       '2022-06-18T10:00:00.000000000', '2022-07-26T12:58:00.000000000',\n",
              "       '2022-06-27T10:20:00.000000000', '2022-08-15T14:38:00.000000000',\n",
              "       '2022-10-03T13:55:00.000000000', '2022-08-03T12:00:00.000000000',\n",
              "       '2022-09-24T10:22:00.000000000', '2022-09-06T14:00:00.000000000',\n",
              "       '2022-07-18T15:57:00.000000000', '2022-09-13T10:58:00.000000000',\n",
              "       '2022-06-07T08:00:00.000000000', '2022-06-10T08:00:00.000000000',\n",
              "       '2022-07-11T13:42:00.000000000', '2022-08-23T14:32:00.000000000',\n",
              "       '2022-07-12T15:43:00.000000000', '2022-06-09T22:58:00.000000000',\n",
              "       '2022-12-05T11:56:00.000000000', '2022-07-25T08:44:00.000000000',\n",
              "       '2022-05-31T07:00:00.000000000', '2022-08-15T14:26:00.000000000',\n",
              "       '2022-06-08T11:00:00.000000000', '2022-08-16T08:36:00.000000000',\n",
              "       '2022-07-06T17:44:00.000000000', '2022-07-07T15:30:00.000000000',\n",
              "       '2022-08-08T22:19:00.000000000', '2022-08-05T12:17:00.000000000',\n",
              "       '2022-06-22T00:00:00.000000000', '2022-08-08T16:07:00.000000000',\n",
              "       '2022-06-07T19:00:00.000000000', '2022-07-21T15:10:00.000000000',\n",
              "       '2022-06-17T10:00:00.000000000', '2022-07-29T08:00:00.000000000',\n",
              "       '2022-06-10T10:19:00.000000000', '2022-07-06T09:43:00.000000000',\n",
              "       '2022-07-07T15:08:00.000000000', '2022-07-18T11:00:00.000000000',\n",
              "       '2022-08-09T12:18:00.000000000', '2022-06-16T16:21:00.000000000',\n",
              "       '2022-05-31T12:00:00.000000000', '2022-09-10T06:00:00.000000000',\n",
              "       '2022-06-13T21:24:00.000000000', '2022-06-28T13:27:00.000000000',\n",
              "       '2022-08-09T18:00:00.000000000', '2022-09-06T16:53:00.000000000',\n",
              "       '2022-05-31T11:39:00.000000000', '2022-06-10T13:56:00.000000000',\n",
              "       '2022-06-24T17:14:00.000000000', '2022-07-05T10:38:00.000000000',\n",
              "       '2022-11-07T08:00:00.000000000', '2022-07-25T14:00:00.000000000',\n",
              "       '2022-10-17T12:43:00.000000000', '2022-07-07T16:01:00.000000000',\n",
              "       '2022-06-21T11:39:00.000000000', '2022-06-21T08:49:00.000000000',\n",
              "       '2022-12-05T16:03:00.000000000', '2022-08-08T22:33:00.000000000',\n",
              "       '2022-06-14T09:50:00.000000000'], dtype='datetime64[ns]')"
            ]
          },
          "metadata": {},
          "execution_count": 17
        }
      ]
    },
    {
      "cell_type": "code",
      "source": [
        "data[\"ujian_ditutup\"].unique() #tidak ada bulan dan tanggal yang mustahil ada."
      ],
      "metadata": {
        "id": "P81cc-eNMo7D",
        "colab": {
          "base_uri": "https://localhost:8080/"
        },
        "outputId": "e3e35818-f774-47f0-f728-473504e2145a"
      },
      "execution_count": null,
      "outputs": [
        {
          "output_type": "execute_result",
          "data": {
            "text/plain": [
              "array(['2022-06-09T21:00:00.000000000', '2022-09-09T10:30:00.000000000',\n",
              "       '2022-06-16T23:59:00.000000000', '2022-06-04T23:59:00.000000000',\n",
              "       '2022-08-06T08:00:00.000000000', '2022-07-02T08:30:00.000000000',\n",
              "       '2022-08-08T23:00:00.000000000', '2022-08-09T09:01:00.000000000',\n",
              "       '2022-06-10T09:00:00.000000000', '2022-06-08T06:00:00.000000000',\n",
              "       '2022-06-10T17:00:00.000000000', '2022-07-24T23:59:00.000000000',\n",
              "       '2022-07-04T23:59:00.000000000', '2022-07-05T23:59:00.000000000',\n",
              "       '2022-09-04T15:03:00.000000000', '2022-07-31T12:00:00.000000000',\n",
              "       '2022-07-23T12:00:00.000000000', '2022-06-21T15:26:00.000000000',\n",
              "       '2022-05-29T12:00:00.000000000', '2022-09-03T22:00:00.000000000',\n",
              "       '2022-07-20T23:59:00.000000000', '2022-07-05T13:00:00.000000000',\n",
              "       '2022-06-06T23:00:00.000000000', '2022-06-09T20:00:00.000000000',\n",
              "       '2022-06-23T23:59:00.000000000', '2022-07-13T23:59:00.000000000',\n",
              "       '2022-06-15T18:33:48.000000000', '2022-09-11T12:00:00.000000000',\n",
              "       '2022-06-02T23:59:00.000000000', '2022-06-26T23:59:00.000000000',\n",
              "       '2022-07-09T15:30:00.000000000', '2022-06-30T18:00:00.000000000',\n",
              "       '2022-07-25T23:59:00.000000000', '2022-08-09T23:59:00.000000000',\n",
              "       '2022-08-07T23:59:00.000000000', '2022-07-28T23:59:00.000000000',\n",
              "       '2022-06-21T17:00:00.000000000', '2022-07-05T11:25:00.000000000',\n",
              "       '2022-09-13T23:59:00.000000000', '2022-08-22T17:00:00.000000000',\n",
              "       '2022-07-14T16:00:00.000000000', '2022-09-02T23:59:00.000000000',\n",
              "       '2022-11-01T11:20:00.000000000', '2022-06-01T23:21:32.000000000',\n",
              "       '2022-06-07T08:00:00.000000000', '2022-06-16T13:00:00.000000000',\n",
              "       '2022-08-26T15:25:00.000000000', '2022-06-24T10:30:00.000000000',\n",
              "       '2022-08-14T21:00:00.000000000', '2022-08-11T08:00:00.000000000',\n",
              "       '2022-10-01T23:59:00.000000000', '2022-08-13T23:59:00.000000000',\n",
              "       '2022-07-07T23:59:00.000000000', '2022-09-08T11:38:00.000000000',\n",
              "       '2022-09-09T22:34:11.000000000', '2022-07-19T12:00:00.000000000',\n",
              "       '2022-07-09T20:00:00.000000000', '2022-07-17T23:59:00.000000000',\n",
              "       '2022-06-10T23:59:00.000000000', '2022-07-28T09:10:00.000000000',\n",
              "       '2022-09-10T23:59:00.000000000', '2022-08-04T17:00:00.000000000',\n",
              "       '2022-07-23T09:46:00.000000000', '2022-08-30T19:00:00.000000000',\n",
              "       '2022-06-01T12:00:00.000000000', '2022-08-05T23:59:00.000000000',\n",
              "       '2022-07-08T23:59:00.000000000', '2022-06-20T17:12:00.000000000',\n",
              "       '2022-06-16T17:02:00.000000000', '2022-06-01T23:13:55.000000000',\n",
              "       '2022-06-22T23:59:00.000000000', '2022-09-04T17:37:00.000000000',\n",
              "       '2022-07-26T23:59:00.000000000', '2022-07-04T20:00:00.000000000',\n",
              "       '2022-08-03T23:59:00.000000000', '2022-07-06T07:00:00.000000000',\n",
              "       '2022-07-20T16:57:10.000000000', '2022-06-15T18:00:00.000000000',\n",
              "       '2022-07-15T08:38:04.000000000', '2022-06-11T16:10:00.000000000',\n",
              "       '2022-08-20T23:59:00.000000000', '2022-07-26T23:00:00.000000000',\n",
              "       '2022-08-06T23:59:00.000000000', '2022-11-05T15:41:00.000000000',\n",
              "       '2023-01-03T11:30:00.000000000', '2022-07-24T08:00:00.000000000',\n",
              "       '2022-06-01T23:15:25.000000000', '2022-06-01T23:22:19.000000000',\n",
              "       '2022-07-08T16:23:00.000000000', '2022-06-06T12:59:00.000000000',\n",
              "       '2022-06-27T23:59:00.000000000', '2022-06-21T23:59:00.000000000',\n",
              "       '2022-05-31T00:00:00.000000000', '2022-06-29T09:30:00.000000000',\n",
              "       '2022-06-17T23:00:00.000000000', '2022-08-12T23:59:00.000000000',\n",
              "       '2022-08-05T11:05:00.000000000', '2022-05-30T20:00:00.000000000',\n",
              "       '2022-09-14T22:00:00.000000000', '2022-07-23T23:00:00.000000000',\n",
              "       '2022-08-01T23:59:00.000000000', '2022-07-21T14:34:00.000000000',\n",
              "       '2022-06-16T12:00:00.000000000', '2022-09-04T21:47:00.000000000',\n",
              "       '2022-06-20T08:00:00.000000000', '2022-09-10T12:00:00.000000000',\n",
              "       '2022-09-01T23:03:00.000000000', '2022-06-03T15:00:00.000000000',\n",
              "       '2022-09-28T23:15:25.000000000', '2022-06-01T23:59:00.000000000',\n",
              "       '2022-11-07T23:59:00.000000000', '2022-07-02T17:30:00.000000000',\n",
              "       '2022-09-01T23:59:00.000000000', '2022-06-20T20:00:00.000000000',\n",
              "       '2022-08-16T13:06:49.000000000', '2022-06-23T23:00:00.000000000',\n",
              "       '2022-11-16T23:59:00.000000000', '2022-10-27T12:00:00.000000000',\n",
              "       '2022-07-11T23:59:00.000000000', '2022-06-12T23:59:00.000000000',\n",
              "       '2022-07-22T11:26:00.000000000', '2022-08-19T23:59:00.000000000',\n",
              "       '2022-06-29T23:59:00.000000000', '2022-07-29T23:21:00.000000000',\n",
              "       '2022-08-10T15:40:00.000000000', '2022-08-16T23:59:00.000000000',\n",
              "       '2022-08-11T23:34:00.000000000', '2022-06-19T23:00:00.000000000',\n",
              "       '2022-09-01T13:00:00.000000000', '2022-08-02T17:46:00.000000000',\n",
              "       '2022-08-14T23:59:00.000000000', '2022-12-09T14:57:00.000000000',\n",
              "       '2022-06-14T23:59:00.000000000', '2022-05-29T23:46:00.000000000',\n",
              "       '2022-08-04T08:43:00.000000000', '2022-06-13T12:00:00.000000000',\n",
              "       '2022-07-31T14:00:00.000000000', '2022-06-19T22:00:00.000000000',\n",
              "       '2022-07-01T15:00:00.000000000', '2022-08-31T23:59:00.000000000',\n",
              "       '2022-09-09T20:00:00.000000000', '2022-07-19T23:59:00.000000000',\n",
              "       '2022-08-08T19:00:00.000000000', '2022-08-29T03:34:48.000000000',\n",
              "       '2022-11-25T14:47:00.000000000', '2022-09-28T23:21:32.000000000',\n",
              "       '2022-06-30T12:00:00.000000000', '2022-06-09T23:59:00.000000000',\n",
              "       '2022-09-09T23:59:00.000000000', '2022-06-07T18:00:00.000000000',\n",
              "       '2022-08-18T12:00:00.000000000', '2022-09-29T23:59:00.000000000',\n",
              "       '2022-08-05T10:42:00.000000000', '2022-07-22T23:59:00.000000000',\n",
              "       '2022-07-25T12:00:00.000000000', '2022-06-22T23:30:00.000000000',\n",
              "       '2022-07-02T13:02:00.000000000', '2022-05-30T12:00:00.000000000',\n",
              "       '2022-07-18T23:45:00.000000000', '2022-06-11T20:00:00.000000000',\n",
              "       '2022-07-06T23:00:00.000000000', '2022-07-14T15:00:00.000000000',\n",
              "       '2022-08-15T18:00:00.000000000', '2022-06-25T12:00:00.000000000',\n",
              "       '2022-08-02T09:00:00.000000000', '2022-10-20T12:00:00.000000000',\n",
              "       '2022-07-18T23:00:00.000000000', '2022-07-28T18:00:00.000000000',\n",
              "       '2022-06-06T23:59:00.000000000', '2022-06-28T23:59:00.000000000',\n",
              "       '2022-07-06T11:32:00.000000000', '2022-09-06T11:30:00.000000000',\n",
              "       '2022-08-04T23:59:00.000000000', '2022-07-09T08:00:00.000000000',\n",
              "       '2022-07-02T23:59:00.000000000', '2022-09-03T09:06:00.000000000',\n",
              "       '2022-07-23T23:59:00.000000000', '2022-07-30T15:00:00.000000000',\n",
              "       '2023-01-04T23:59:00.000000000', '2022-08-14T12:00:00.000000000',\n",
              "       '2022-06-30T23:59:00.000000000', '2022-08-04T11:37:00.000000000',\n",
              "       '2022-07-05T23:24:00.000000000', '2022-07-03T15:54:00.000000000',\n",
              "       '2022-06-06T08:00:00.000000000', '2022-07-21T23:59:00.000000000',\n",
              "       '2022-07-18T22:00:00.000000000', '2022-06-15T12:00:00.000000000',\n",
              "       '2022-07-03T23:59:00.000000000', '2022-11-11T21:00:00.000000000',\n",
              "       '2022-06-01T08:15:00.000000000', '2022-08-17T23:59:00.000000000',\n",
              "       '2022-11-01T23:59:00.000000000', '2022-07-20T10:57:34.000000000',\n",
              "       '2022-08-01T15:00:00.000000000', '2022-08-10T14:00:00.000000000',\n",
              "       '2022-08-24T23:59:00.000000000', '2022-06-27T17:00:00.000000000',\n",
              "       '2022-08-01T11:00:00.000000000', '2022-06-19T23:59:00.000000000',\n",
              "       '2022-07-30T15:06:00.000000000', '2022-06-24T09:00:00.000000000',\n",
              "       '2022-07-31T23:59:00.000000000', '2022-07-05T16:04:00.000000000',\n",
              "       '2022-08-23T23:59:00.000000000', '2022-07-10T23:59:00.000000000',\n",
              "       '2022-06-16T17:00:00.000000000', '2022-07-06T15:00:00.000000000',\n",
              "       '2022-06-17T16:41:00.000000000', '2022-06-30T08:00:00.000000000',\n",
              "       '2022-08-11T12:00:00.000000000', '2022-06-29T09:00:00.000000000',\n",
              "       '2022-07-22T14:48:00.000000000', '2022-06-09T22:00:00.000000000',\n",
              "       '2022-07-18T23:59:00.000000000', '2022-08-23T13:35:00.000000000',\n",
              "       '2022-07-27T08:40:00.000000000', '2022-06-03T23:35:37.000000000',\n",
              "       '2022-07-01T23:00:00.000000000', '2022-07-31T15:00:00.000000000',\n",
              "       '2022-07-24T16:02:00.000000000', '2022-07-15T21:00:00.000000000',\n",
              "       '2022-06-10T08:50:00.000000000', '2022-06-14T20:00:00.000000000',\n",
              "       '2022-08-02T13:00:00.000000000', '2022-09-13T16:00:00.000000000',\n",
              "       '2022-07-13T16:27:00.000000000', '2022-07-01T12:00:00.000000000',\n",
              "       '2022-07-21T11:48:00.000000000', '2022-07-05T11:18:41.000000000',\n",
              "       '2022-07-14T23:35:00.000000000', '2022-06-03T23:59:00.000000000',\n",
              "       '2022-07-31T11:16:00.000000000', '2022-09-02T08:00:00.000000000',\n",
              "       '2022-06-15T09:00:00.000000000', '2022-06-09T09:00:00.000000000',\n",
              "       '2022-08-09T12:00:00.000000000', '2022-08-09T20:00:00.000000000',\n",
              "       '2022-08-09T16:03:00.000000000', '2022-08-08T23:59:00.000000000',\n",
              "       '2022-08-21T23:59:00.000000000', '2022-08-22T13:57:34.000000000',\n",
              "       '2022-10-06T20:00:00.000000000', '2022-07-18T11:00:00.000000000',\n",
              "       '2022-07-20T12:00:00.000000000', '2022-06-20T23:59:00.000000000',\n",
              "       '2022-09-01T19:29:34.000000000', '2022-07-25T23:00:00.000000000',\n",
              "       '2022-07-23T08:30:00.000000000', '2022-07-02T15:49:00.000000000',\n",
              "       '2022-08-22T23:59:00.000000000', '2022-09-02T08:44:00.000000000',\n",
              "       '2022-06-23T16:54:00.000000000', '2022-09-03T15:13:00.000000000',\n",
              "       '2022-07-01T21:00:00.000000000', '2022-07-27T00:00:00.000000000',\n",
              "       '2022-07-21T06:05:00.000000000', '2022-09-12T17:00:00.000000000',\n",
              "       '2022-06-16T15:40:00.000000000', '2022-09-13T12:00:00.000000000',\n",
              "       '2022-06-12T18:00:00.000000000', '2022-07-10T21:00:00.000000000',\n",
              "       '2022-07-23T15:00:00.000000000', '2022-05-29T20:00:00.000000000',\n",
              "       '2022-09-06T11:23:06.000000000', '2022-08-04T15:00:00.000000000',\n",
              "       '2022-07-01T08:00:00.000000000', '2022-10-19T23:59:00.000000000',\n",
              "       '2022-08-23T17:00:00.000000000', '2022-06-04T10:00:00.000000000',\n",
              "       '2022-06-08T14:42:06.000000000', '2022-09-11T23:59:00.000000000',\n",
              "       '2022-07-15T13:00:00.000000000', '2022-07-29T23:40:00.000000000',\n",
              "       '2022-09-14T12:00:00.000000000', '2022-07-02T16:00:00.000000000',\n",
              "       '2022-06-09T23:00:00.000000000', '2022-09-04T23:59:00.000000000',\n",
              "       '2022-09-14T23:59:00.000000000', '2022-06-30T15:00:00.000000000',\n",
              "       '2022-08-21T23:00:00.000000000', '2022-11-12T17:27:00.000000000',\n",
              "       '2022-06-09T17:04:31.000000000', '2022-06-21T15:00:00.000000000',\n",
              "       '2022-06-11T12:00:00.000000000', '2022-10-12T09:22:00.000000000',\n",
              "       '2022-10-28T15:00:00.000000000', '2022-09-01T15:00:00.000000000',\n",
              "       '2022-08-10T18:00:00.000000000', '2022-08-15T14:00:00.000000000',\n",
              "       '2022-08-18T14:00:00.000000000', '2022-09-28T23:13:55.000000000',\n",
              "       '2022-08-18T23:59:00.000000000', '2022-10-30T12:01:00.000000000',\n",
              "       '2023-01-01T21:49:00.000000000', '2022-08-26T23:59:00.000000000',\n",
              "       '2022-08-30T23:59:00.000000000', '2022-10-06T23:59:00.000000000',\n",
              "       '2022-10-07T17:00:00.000000000', '2022-07-25T08:01:59.000000000',\n",
              "       '2022-07-07T23:56:00.000000000', '2022-09-26T08:00:00.000000000',\n",
              "       '2022-06-06T07:44:00.000000000', '2022-07-22T12:00:00.000000000',\n",
              "       '2022-07-24T17:00:00.000000000', '2022-09-19T15:00:00.000000000',\n",
              "       '2022-08-12T12:00:00.000000000', '2022-07-05T15:14:00.000000000',\n",
              "       '2022-07-16T14:25:00.000000000', '2022-06-26T20:00:00.000000000',\n",
              "       '2022-08-02T23:59:00.000000000', '2022-07-28T08:10:00.000000000',\n",
              "       '2022-07-30T11:45:00.000000000', '2022-06-02T11:59:00.000000000',\n",
              "       '2022-06-08T23:59:00.000000000', '2022-06-20T13:03:00.000000000',\n",
              "       '2022-06-12T21:00:00.000000000', '2022-07-16T12:00:00.000000000',\n",
              "       '2022-06-28T23:23:00.000000000', '2022-06-17T08:00:00.000000000',\n",
              "       '2022-07-20T15:00:00.000000000', '2022-08-18T10:09:00.000000000',\n",
              "       '2022-06-28T12:00:00.000000000', '2022-06-19T08:00:00.000000000',\n",
              "       '2022-08-10T16:02:00.000000000', '2022-08-04T10:00:00.000000000',\n",
              "       '2022-06-22T08:55:51.000000000', '2022-07-12T18:00:00.000000000',\n",
              "       '2022-09-07T02:00:00.000000000', '2022-08-23T15:26:00.000000000',\n",
              "       '2022-06-26T08:30:00.000000000', '2022-08-10T12:00:00.000000000',\n",
              "       '2022-08-02T07:10:00.000000000', '2022-12-05T23:00:00.000000000',\n",
              "       '2022-07-16T14:00:00.000000000', '2022-06-13T23:59:00.000000000',\n",
              "       '2022-07-29T23:59:00.000000000', '2022-07-03T22:00:00.000000000',\n",
              "       '2022-08-03T14:00:00.000000000', '2022-07-04T10:00:00.000000000',\n",
              "       '2022-06-28T13:00:00.000000000', '2022-07-13T17:00:00.000000000',\n",
              "       '2022-06-10T16:27:00.000000000', '2022-07-25T17:00:00.000000000',\n",
              "       '2022-08-18T08:24:00.000000000', '2022-07-20T08:00:00.000000000',\n",
              "       '2022-06-30T09:16:16.000000000', '2022-07-23T07:19:00.000000000',\n",
              "       '2022-06-21T12:10:00.000000000', '2022-08-10T17:03:00.000000000',\n",
              "       '2022-09-09T18:00:00.000000000', '2022-09-06T09:10:00.000000000',\n",
              "       '2022-07-09T15:41:00.000000000', '2022-10-05T23:00:00.000000000',\n",
              "       '2022-06-24T12:00:00.000000000', '2022-08-16T10:00:00.000000000',\n",
              "       '2022-07-08T14:13:00.000000000', '2022-08-08T22:22:57.000000000',\n",
              "       '2022-06-08T20:00:00.000000000', '2022-08-24T13:00:00.000000000',\n",
              "       '2022-06-15T23:59:00.000000000', '2022-11-13T23:59:00.000000000',\n",
              "       '2022-09-10T17:07:00.000000000', '2022-09-09T12:00:00.000000000',\n",
              "       '2022-07-13T15:34:00.000000000', '2022-06-26T14:50:00.000000000',\n",
              "       '2022-06-22T23:00:00.000000000', '2022-06-21T13:00:00.000000000',\n",
              "       '2022-06-20T12:00:00.000000000', '2022-09-08T15:04:00.000000000',\n",
              "       '2022-06-23T09:00:00.000000000', '2022-08-18T15:50:00.000000000',\n",
              "       '2022-07-09T12:00:00.000000000', '2022-06-17T15:00:00.000000000',\n",
              "       '2022-08-07T08:00:00.000000000', '2022-07-26T15:00:00.000000000',\n",
              "       '2022-07-11T22:38:10.000000000', '2022-08-03T08:00:00.000000000',\n",
              "       '2022-08-25T15:00:00.000000000', '2022-08-05T18:42:00.000000000',\n",
              "       '2023-01-11T13:00:00.000000000', '2022-08-06T09:12:00.000000000',\n",
              "       '2022-07-09T16:14:00.000000000', '2022-06-15T10:02:33.000000000',\n",
              "       '2022-10-05T11:41:00.000000000', '2022-08-05T12:00:00.000000000',\n",
              "       '2022-07-29T12:00:00.000000000', '2022-09-10T21:17:00.000000000',\n",
              "       '2022-09-12T14:38:00.000000000', '2022-07-15T23:59:00.000000000',\n",
              "       '2022-08-03T16:00:00.000000000', '2022-07-10T13:30:00.000000000',\n",
              "       '2022-10-19T23:00:00.000000000', '2022-08-03T19:00:00.000000000',\n",
              "       '2022-12-03T17:30:00.000000000', '2022-06-14T08:00:00.000000000',\n",
              "       '2022-08-18T11:37:00.000000000', '2022-06-25T09:04:00.000000000',\n",
              "       '2022-11-14T23:59:00.000000000', '2022-05-30T23:59:00.000000000',\n",
              "       '2022-07-22T23:00:00.000000000', '2022-08-07T10:25:00.000000000',\n",
              "       '2022-09-12T08:00:00.000000000', '2022-09-04T23:00:00.000000000',\n",
              "       '2022-08-07T16:00:00.000000000', '2022-06-13T08:29:00.000000000',\n",
              "       '2022-09-14T08:00:00.000000000', '2022-08-08T23:12:19.000000000',\n",
              "       '2022-09-24T16:50:00.000000000', '2022-08-25T10:00:00.000000000',\n",
              "       '2022-06-28T17:30:00.000000000', '2022-06-13T17:30:00.000000000',\n",
              "       '2022-06-04T12:00:00.000000000', '2022-09-05T17:00:00.000000000',\n",
              "       '2022-07-03T09:00:00.000000000', '2022-07-08T09:32:00.000000000',\n",
              "       '2022-09-12T10:01:00.000000000', '2022-07-30T23:59:00.000000000',\n",
              "       '2022-07-02T08:00:00.000000000', '2022-11-19T23:59:00.000000000',\n",
              "       '2022-07-06T17:27:00.000000000', '2022-08-12T16:21:00.000000000',\n",
              "       '2022-06-28T22:59:00.000000000', '2022-08-10T20:00:00.000000000',\n",
              "       '2022-08-20T15:31:00.000000000', '2022-07-29T22:45:00.000000000',\n",
              "       '2022-06-29T15:00:00.000000000', '2022-06-30T11:00:00.000000000',\n",
              "       '2022-06-12T08:00:00.000000000', '2022-07-14T12:00:00.000000000',\n",
              "       '2022-11-10T15:00:00.000000000', '2022-06-27T22:59:00.000000000',\n",
              "       '2022-08-11T23:59:00.000000000', '2022-06-15T15:00:00.000000000',\n",
              "       '2022-10-14T23:59:00.000000000', '2022-06-02T13:00:00.000000000',\n",
              "       '2022-06-24T23:59:00.000000000', '2022-07-08T08:00:00.000000000',\n",
              "       '2022-08-11T12:58:39.000000000', '2022-06-07T23:59:00.000000000',\n",
              "       '2022-06-10T08:35:00.000000000', '2022-12-11T23:39:00.000000000',\n",
              "       '2022-09-07T15:35:28.000000000', '2022-07-14T08:00:00.000000000',\n",
              "       '2022-06-15T14:00:00.000000000', '2022-05-28T23:59:00.000000000',\n",
              "       '2022-08-05T16:00:00.000000000', '2022-08-02T14:00:00.000000000',\n",
              "       '2022-12-18T12:00:00.000000000', '2022-06-14T16:03:00.000000000',\n",
              "       '2022-08-01T08:00:00.000000000', '2022-06-09T08:00:00.000000000',\n",
              "       '2022-06-26T12:12:00.000000000', '2022-05-30T23:00:00.000000000',\n",
              "       '2022-06-19T15:00:00.000000000', '2022-08-15T23:59:00.000000000',\n",
              "       '2022-07-07T08:00:00.000000000', '2022-08-10T22:35:00.000000000',\n",
              "       '2022-07-05T16:45:00.000000000', '2022-08-21T10:45:00.000000000',\n",
              "       '2022-10-25T17:30:00.000000000', '2022-07-21T08:00:00.000000000',\n",
              "       '2022-08-22T21:00:00.000000000', '2022-06-23T14:15:00.000000000',\n",
              "       '2022-06-25T09:49:00.000000000', '2022-05-31T08:00:00.000000000',\n",
              "       '2022-06-03T08:00:00.000000000', '2022-12-06T17:00:00.000000000',\n",
              "       '2022-08-05T11:12:00.000000000', '2022-06-28T14:43:00.000000000',\n",
              "       '2022-06-25T23:59:00.000000000', '2022-09-07T08:52:00.000000000',\n",
              "       '2022-07-07T09:00:00.000000000', '2022-08-17T14:58:00.000000000',\n",
              "       '2022-08-05T10:42:53.000000000', '2022-11-09T17:00:00.000000000',\n",
              "       '2022-10-09T23:59:00.000000000', '2022-05-31T12:00:00.000000000',\n",
              "       '2022-08-16T17:21:08.000000000', '2022-06-28T17:00:00.000000000',\n",
              "       '2022-08-08T22:14:48.000000000', '2022-06-25T13:17:00.000000000',\n",
              "       '2022-08-22T11:59:00.000000000', '2022-09-12T15:00:00.000000000',\n",
              "       '2022-12-11T23:59:00.000000000', '2022-08-10T15:02:00.000000000',\n",
              "       '2022-12-05T23:12:19.000000000', '2022-07-08T20:00:00.000000000',\n",
              "       '2022-08-11T08:03:58.000000000', '2022-08-21T12:00:00.000000000',\n",
              "       '2022-08-11T14:36:23.000000000', '2022-08-05T11:39:00.000000000',\n",
              "       '2022-06-15T13:00:00.000000000', '2022-08-07T22:00:00.000000000',\n",
              "       '2022-07-05T12:13:00.000000000', '2022-07-16T23:00:00.000000000',\n",
              "       '2022-07-16T17:27:00.000000000', '2022-09-29T12:00:00.000000000',\n",
              "       '2022-09-16T15:05:00.000000000', '2022-08-25T13:00:00.000000000',\n",
              "       '2022-06-11T14:31:00.000000000', '2022-07-26T15:48:00.000000000',\n",
              "       '2022-09-08T23:59:00.000000000', '2022-06-04T09:00:00.000000000',\n",
              "       '2022-06-24T18:24:00.000000000', '2022-07-23T18:00:00.000000000',\n",
              "       '2022-06-09T16:00:00.000000000', '2023-01-11T07:00:00.000000000',\n",
              "       '2022-07-17T14:20:00.000000000', '2022-07-26T07:33:00.000000000',\n",
              "       '2022-08-05T16:38:00.000000000', '2022-08-01T01:40:00.000000000',\n",
              "       '2022-07-14T17:00:00.000000000', '2022-06-10T16:30:00.000000000',\n",
              "       '2022-05-28T18:00:00.000000000', '2022-10-05T08:30:00.000000000',\n",
              "       '2022-08-05T09:00:00.000000000', '2022-08-03T12:00:00.000000000',\n",
              "       '2022-07-19T07:57:00.000000000', '2022-06-03T09:00:00.000000000',\n",
              "       '2022-06-25T17:00:00.000000000', '2022-06-19T10:00:00.000000000',\n",
              "       '2022-08-02T12:58:00.000000000', '2022-07-05T10:20:00.000000000',\n",
              "       '2022-10-04T13:55:00.000000000', '2022-09-24T23:59:00.000000000',\n",
              "       '2022-09-07T09:00:00.000000000', '2022-08-05T23:57:00.000000000',\n",
              "       '2022-10-05T10:58:00.000000000', '2022-06-08T08:00:00.000000000',\n",
              "       '2022-06-08T17:00:00.000000000', '2022-07-12T22:00:00.000000000',\n",
              "       '2022-08-23T23:00:00.000000000', '2022-07-14T23:59:00.000000000',\n",
              "       '2022-06-15T08:00:00.000000000', '2022-07-05T22:59:00.000000000',\n",
              "       '2022-12-06T12:00:00.000000000', '2022-07-26T12:00:00.000000000',\n",
              "       '2022-05-31T23:59:00.000000000', '2022-08-16T08:00:00.000000000',\n",
              "       '2022-07-11T11:00:00.000000000', '2022-08-16T18:00:00.000000000',\n",
              "       '2022-07-08T20:26:00.000000000', '2022-09-01T22:19:00.000000000',\n",
              "       '2022-08-09T16:07:00.000000000', '2022-06-08T23:00:00.000000000',\n",
              "       '2022-06-19T20:00:00.000000000', '2022-07-29T15:00:00.000000000',\n",
              "       '2022-07-07T10:19:00.000000000', '2022-07-07T15:28:24.000000000',\n",
              "       '2022-06-18T12:00:00.000000000', '2022-09-10T15:00:00.000000000',\n",
              "       '2022-06-13T21:40:47.000000000', '2022-06-28T18:27:00.000000000',\n",
              "       '2022-08-10T23:00:00.000000000', '2022-09-07T23:59:00.000000000',\n",
              "       '2022-05-31T19:00:00.000000000', '2022-07-06T23:59:00.000000000',\n",
              "       '2022-11-21T12:00:00.000000000', '2022-11-01T12:43:00.000000000',\n",
              "       '2022-08-06T16:01:00.000000000', '2022-07-05T11:39:00.000000000',\n",
              "       '2022-12-06T16:03:00.000000000', '2022-08-11T22:33:00.000000000'],\n",
              "      dtype='datetime64[ns]')"
            ]
          },
          "metadata": {},
          "execution_count": 18
        }
      ]
    },
    {
      "cell_type": "code",
      "source": [
        "data[\"jenis_tes\"].unique() #tidak ada typo"
      ],
      "metadata": {
        "id": "U6NWlz-3MpaV",
        "colab": {
          "base_uri": "https://localhost:8080/"
        },
        "outputId": "b0cad654-15e0-4d12-aaaf-753221d83acf"
      },
      "execution_count": null,
      "outputs": [
        {
          "output_type": "execute_result",
          "data": {
            "text/plain": [
              "array(['Bidang Studi', 'Kemampuan Visual Spasial',\n",
              "       'Kemampuan Bahasa Inggris', 'Penalaran Matematika',\n",
              "       'Literasi Bahasa Indonesia'], dtype=object)"
            ]
          },
          "metadata": {},
          "execution_count": 19
        }
      ]
    },
    {
      "cell_type": "code",
      "source": [
        "data[\"timestamp_log\"].unique() #tidak ada typo (dilihat dari excel)"
      ],
      "metadata": {
        "id": "i-_BZnlyMp0f",
        "colab": {
          "base_uri": "https://localhost:8080/"
        },
        "outputId": "63b5e41c-e61d-4bbb-e11e-098ab6da5f89"
      },
      "execution_count": null,
      "outputs": [
        {
          "output_type": "execute_result",
          "data": {
            "text/plain": [
              "array(['2022-06-08T19:29:34.000000000', '2022-06-08T19:15:02.000000000',\n",
              "       '2022-09-08T22:01:11.000000000', ...,\n",
              "       '2022-09-08T14:28:55.000000000', '2022-06-29T14:13:46.000000000',\n",
              "       '2022-06-29T13:59:40.000000000'], dtype='datetime64[ns]')"
            ]
          },
          "metadata": {},
          "execution_count": 20
        }
      ]
    },
    {
      "cell_type": "code",
      "source": [
        "data[\"pesan_log\"].value_counts() #tidak ada typo"
      ],
      "metadata": {
        "id": "L5RMuQVMOJNf",
        "colab": {
          "base_uri": "https://localhost:8080/"
        },
        "outputId": "50fca459-f114-423a-a1a6-1b769ddcff56"
      },
      "execution_count": null,
      "outputs": [
        {
          "output_type": "execute_result",
          "data": {
            "text/plain": [
              "Memulai Tes Penalaran Matematika                  2609\n",
              "Selesai Tes Penalaran Matematika                   704\n",
              "Memulai Tes Bidang Studi                           702\n",
              "Selesai Tes Bidang Studi                           670\n",
              "Memulai Tes Kemampuan Bahasa Inggris               580\n",
              "Memulai Bagian 1 Tes Kemampuan Bahasa Inggris      574\n",
              "Selesai Tes Kemampuan Bahasa Inggris               573\n",
              "Selesai Bagian 1 Tes Kemampuan Bahasa Inggris      572\n",
              "Memulai Bagian 2 Tes Kemampuan Bahasa Inggris      572\n",
              "Selesai Bagian 3 Tes Kemampuan Bahasa Inggris      571\n",
              "Selesai Bagian 2 Tes Kemampuan Bahasa Inggris      570\n",
              "Memulai Bagian 3 Tes Kemampuan Bahasa Inggris      569\n",
              "Memulai Tes Kemampuan Visual Spasial               276\n",
              "Selesai Tes Kemampuan Visual Spasial               263\n",
              "Memulai Tes Literasi Bahasa Indonesia              150\n",
              "Memulai Bagian 1 Tes Literasi Bahasa Indonesia     148\n",
              "Selesai Bagian 1 Tes Literasi Bahasa Indonesia     148\n",
              "Memulai Bagian 2 Tes Literasi Bahasa Indonesia     147\n",
              "Selesai Tes Literasi Bahasa Indonesia              146\n",
              "Selesai Bagian 2 Tes Literasi Bahasa Indonesia     145\n",
              "Selesai Bagian 3 Tes Literasi Bahasa Indonesia     145\n",
              "Memulai Bagian 3 Tes Literasi Bahasa Indonesia     145\n",
              "Memulai Bagian 4 Tes Kemampuan Bahasa Inggris       13\n",
              "Selesai Bagian 4 Tes Kemampuan Bahasa Inggris       12\n",
              "Selesai Bagian 4 Tes Literasi Bahasa Indonesia       5\n",
              "Memulai Bagian 4 Tes Literasi Bahasa Indonesia       5\n",
              "Selesai Bagian 6 Tes Kemampuan Bahasa Inggris        2\n",
              "Memulai Bagian 6 Tes Kemampuan Bahasa Inggris        2\n",
              "Selesai Bagian 5 Tes Kemampuan Bahasa Inggris        2\n",
              "Memulai Bagian 5 Tes Kemampuan Bahasa Inggris        2\n",
              "Memulai Bagian 5 Tes Literasi Bahasa Indonesia       1\n",
              "Selesai Bagian 0 Tes Literasi Bahasa Indonesia       1\n",
              "Memulai Bagian 7 Tes Kemampuan Bahasa Inggris        1\n",
              "Selesai Bagian 5 Tes Literasi Bahasa Indonesia       1\n",
              "Selesai Bagian 7 Tes Kemampuan Bahasa Inggris        1\n",
              "Memulai Bagian 0 Tes Literasi Bahasa Indonesia       1\n",
              "Name: pesan_log, dtype: int64"
            ]
          },
          "metadata": {},
          "execution_count": 21
        }
      ]
    },
    {
      "cell_type": "code",
      "source": [
        "# melihat apakah ada durasi ujian yang valuenya negatif\n",
        "waktu_pengerjaan = data[\"ujian_ditutup\"]-data[\"ujian_dimulai\"]\n",
        "negatif = waktu_pengerjaan[waktu_pengerjaan < pd.Timedelta(0)]\n",
        "print(negatif)"
      ],
      "metadata": {
        "id": "6qWLznptRVnv",
        "colab": {
          "base_uri": "https://localhost:8080/"
        },
        "outputId": "d70b0efa-7f7e-4fb0-8fef-879a4842fcb9"
      },
      "execution_count": null,
      "outputs": [
        {
          "output_type": "stream",
          "name": "stdout",
          "text": [
            "102     -1 days +01:39:48\n",
            "1927    -1 days +13:01:06\n",
            "2020    -1 days +13:01:06\n",
            "2229    -1 days +01:39:48\n",
            "2924    -1 days +22:55:51\n",
            "3903    -1 days +22:55:51\n",
            "4335    -3 days +09:21:08\n",
            "5111    -3 days +09:21:08\n",
            "5431    -1 days +22:55:51\n",
            "6168    -3 days +09:21:08\n",
            "6883    -3 days +09:21:08\n",
            "7632    -1 days +22:55:51\n",
            "9291    -1 days +13:01:06\n",
            "10350   -1 days +01:39:48\n",
            "dtype: timedelta64[ns]\n"
          ]
        }
      ]
    },
    {
      "cell_type": "code",
      "source": [
        "# melihat kolom id_peserta yang value durasi tesnya negatif\n",
        "negatif_value = waktu_pengerjaan[waktu_pengerjaan < pd.Timedelta(0)]\n",
        "negatif_row = data.loc[negatif_value.index]\n",
        "negatif_id = negatif_row[\"id_peserta\"]\n",
        "print(negatif_id)\n"
      ],
      "metadata": {
        "id": "EtgzZazNXSQb",
        "colab": {
          "base_uri": "https://localhost:8080/"
        },
        "outputId": "f19568ac-f5a0-436b-fcbb-73a3dee172cd"
      },
      "execution_count": null,
      "outputs": [
        {
          "output_type": "stream",
          "name": "stdout",
          "text": [
            "102      7d914450e410e25a3e7cfeceae68c63d\n",
            "1927     af851061344a0becc3d029622700c4c6\n",
            "2020     af851061344a0becc3d029622700c4c6\n",
            "2229     7d914450e410e25a3e7cfeceae68c63d\n",
            "2924     6dda176ad12231f0ac24d8126c2f1239\n",
            "3903     6dda176ad12231f0ac24d8126c2f1239\n",
            "4335     eded70d526105028824457b08d3be0f2\n",
            "5111     eded70d526105028824457b08d3be0f2\n",
            "5431     6dda176ad12231f0ac24d8126c2f1239\n",
            "6168     eded70d526105028824457b08d3be0f2\n",
            "6883     eded70d526105028824457b08d3be0f2\n",
            "7632     6dda176ad12231f0ac24d8126c2f1239\n",
            "9291     af851061344a0becc3d029622700c4c6\n",
            "10350    7d914450e410e25a3e7cfeceae68c63d\n",
            "Name: id_peserta, dtype: object\n"
          ]
        }
      ]
    },
    {
      "cell_type": "code",
      "source": [
        "# hapus baris yang value durasi tesnya negatif\n",
        "negatif_value = waktu_pengerjaan[waktu_pengerjaan < pd.Timedelta(0)]\n",
        "negatif_indices = negatif_value.index\n",
        "\n",
        "data.drop(negatif_indices, inplace=True)\n",
        "\n",
        "removed_ids = negatif_row[\"id_peserta\"]\n",
        "print(\"Removed IDs:\", removed_ids)\n"
      ],
      "metadata": {
        "id": "86FlsdocXCMS",
        "colab": {
          "base_uri": "https://localhost:8080/"
        },
        "outputId": "118f1537-5e47-4533-a8bf-4e67a05e35e8"
      },
      "execution_count": null,
      "outputs": [
        {
          "output_type": "stream",
          "name": "stdout",
          "text": [
            "Removed IDs: 102      7d914450e410e25a3e7cfeceae68c63d\n",
            "1927     af851061344a0becc3d029622700c4c6\n",
            "2020     af851061344a0becc3d029622700c4c6\n",
            "2229     7d914450e410e25a3e7cfeceae68c63d\n",
            "2924     6dda176ad12231f0ac24d8126c2f1239\n",
            "3903     6dda176ad12231f0ac24d8126c2f1239\n",
            "4335     eded70d526105028824457b08d3be0f2\n",
            "5111     eded70d526105028824457b08d3be0f2\n",
            "5431     6dda176ad12231f0ac24d8126c2f1239\n",
            "6168     eded70d526105028824457b08d3be0f2\n",
            "6883     eded70d526105028824457b08d3be0f2\n",
            "7632     6dda176ad12231f0ac24d8126c2f1239\n",
            "9291     af851061344a0becc3d029622700c4c6\n",
            "10350    7d914450e410e25a3e7cfeceae68c63d\n",
            "Name: id_peserta, dtype: object\n"
          ]
        }
      ]
    },
    {
      "cell_type": "markdown",
      "source": [
        "###**Outlier**"
      ],
      "metadata": {
        "id": "5Ih26LxKsFbN"
      }
    },
    {
      "cell_type": "code",
      "source": [
        "# Analisis dan Identifikasi Outlier\n",
        "# Menkonversi kolom timestamp_log menjadi tipe data datetime terlebih dahulu\n",
        "data['timestamp_log'] = pd.to_datetime(data['timestamp_log'])"
      ],
      "metadata": {
        "id": "1xxO_u4K66Zg"
      },
      "execution_count": null,
      "outputs": []
    },
    {
      "cell_type": "code",
      "source": [
        "# Menganalisis kolom-kolom yang relevan, seperti durasi pengerjaan tes.\n",
        "# Hitung durasi pengerjaan tes\n",
        "data['durasi_tes'] = (data['ujian_ditutup'] - data['ujian_dimulai']).dt.total_seconds()"
      ],
      "metadata": {
        "id": "XP8VQy9H7cOj"
      },
      "execution_count": null,
      "outputs": []
    },
    {
      "cell_type": "code",
      "source": [
        "data[\"durasi_tes\"].value_counts()"
      ],
      "metadata": {
        "id": "0JfMmGeiWAvz",
        "colab": {
          "base_uri": "https://localhost:8080/"
        },
        "outputId": "10c9ebaf-919b-4729-8319-a0eb5155fb8b"
      },
      "execution_count": null,
      "outputs": [
        {
          "output_type": "execute_result",
          "data": {
            "text/plain": [
              "86400.0      1280\n",
              "154740.0     1048\n",
              "10800.0       279\n",
              "172800.0      261\n",
              "174925.0      234\n",
              "             ... \n",
              "111960.0        1\n",
              "36180.0         1\n",
              "381540.0        1\n",
              "1296000.0       1\n",
              "172860.0        1\n",
              "Name: durasi_tes, Length: 387, dtype: int64"
            ]
          },
          "metadata": {},
          "execution_count": 27
        }
      ]
    },
    {
      "cell_type": "code",
      "source": [
        "# Analisis durasi pengerjaan tes\n",
        "plt.hist(data['durasi_tes'], bins=20, edgecolor='black')\n",
        "plt.title('Histogram Durasi Tes')\n",
        "plt.xlabel('Durasi tes (detik)')\n",
        "plt.ylabel('Frekuensi')\n",
        "plt.show()\n"
      ],
      "metadata": {
        "id": "HZ8lHJd1sHun",
        "colab": {
          "base_uri": "https://localhost:8080/",
          "height": 472
        },
        "outputId": "0cb894eb-48ca-4647-dad3-dbf42c318057"
      },
      "execution_count": null,
      "outputs": [
        {
          "output_type": "display_data",
          "data": {
            "text/plain": [
              "<Figure size 640x480 with 1 Axes>"
            ],
            "image/png": "[encoded data removed]"
          },
          "metadata": {}
        }
      ]
    },
    {
      "cell_type": "code",
      "source": [
        "# membuat fungsi cek outlier.\n",
        "def cek_outlier(nama_kolom, batas):\n",
        "  Q1 = np.percentile(data[nama_kolom], 25,\n",
        "                     interpolation = 'midpoint')\n",
        "\n",
        "  Q3 = np.percentile(data[nama_kolom], 75,\n",
        "                     interpolation = 'midpoint')\n",
        "\n",
        "  IQR = Q3 - Q1\n",
        "\n",
        "  if batas == 'upper_bound':\n",
        "      bound = np.where(data[nama_kolom] >= (Q3 + 1.5*IQR))\n",
        "  elif batas == 'lower_bound':\n",
        "      bound = np.where(data[nama_kolom] <= (Q1 - 1.5*IQR))\n",
        "  return list(bound[0])"
      ],
      "metadata": {
        "id": "9HPFrVCX-WTL"
      },
      "execution_count": null,
      "outputs": []
    },
    {
      "cell_type": "code",
      "source": [
        "#durasi_tes\n",
        "upper_durasi_tes = cek_outlier('durasi_tes', 'upper_bound')\n",
        "lower_durasi_tes = cek_outlier('durasi_tes', 'lower_bound')\n",
        "print(f\"Jumlah total outlier di kolom durasi_tes : {len(upper_durasi_tes) + len(lower_durasi_tes)}\")\n",
        "\n",
        "#ujian_dimulai\n",
        "upper_ujian_dimulai = cek_outlier('ujian_dimulai', 'upper_bound')\n",
        "lower_ujian_dimulai = cek_outlier('ujian_dimulai', 'lower_bound')\n",
        "print(f\"Jumlah total outlier di kolom ujian_dimulai : {len(upper_ujian_dimulai) + len(lower_ujian_dimulai)}\")\n",
        "\n",
        "#ujian_ditutup\n",
        "upper_ujian_ditutup = cek_outlier('ujian_ditutup', 'upper_bound')\n",
        "lower_ujian_ditutup = cek_outlier('ujian_ditutup', 'lower_bound')\n",
        "print(f\"Jumlah total outlier di kolom ujian_ditutup : {len(upper_ujian_ditutup) + len(lower_ujian_ditutup)}\")"
      ],
      "metadata": {
        "id": "T8QPxX1lkJEQ",
        "colab": {
          "base_uri": "https://localhost:8080/"
        },
        "outputId": "52512673-dc4c-45d6-ab4d-8f4c12f09da9"
      },
      "execution_count": null,
      "outputs": [
        {
          "output_type": "stream",
          "name": "stdout",
          "text": [
            "Jumlah total outlier di kolom durasi_tes : 1081\n",
            "Jumlah total outlier di kolom ujian_dimulai : 293\n",
            "Jumlah total outlier di kolom ujian_ditutup : 254\n"
          ]
        }
      ]
    },
    {
      "cell_type": "code",
      "source": [
        "def filter_outliers(df, nama_kolom):\n",
        "    if nama_kolom == 'durasi_tes':\n",
        "        data_temp = df.loc[~df.index.isin(upper_durasi_tes)]\n",
        "        data_temp = data_temp.loc[~data_temp.index.isin(lower_durasi_tes)]\n",
        "        return data_temp\n",
        "    if nama_kolom == 'ujian_dimulai':\n",
        "        data_temp = df.loc[~df.index.isin(upper_ujian_dimulai)]\n",
        "        data_temp = data_temp.loc[~data_temp.index.isin(lower_ujian_dimulai)]\n",
        "        return data_temp\n",
        "    if nama_kolom == 'ujian_ditutup':\n",
        "        data_temp = df.loc[~df.index.isin(upper_ujian_ditutup)]\n",
        "        data_temp = data_temp.loc[~data_temp.index.isin(lower_ujian_ditutup)]\n",
        "        return data_temp"
      ],
      "metadata": {
        "id": "6RsoX0XtkhYh"
      },
      "execution_count": null,
      "outputs": []
    },
    {
      "cell_type": "code",
      "source": [
        "columns_to_filter = ['durasi_tes', 'ujian_dimulai', 'ujian_ditutup']\n",
        "data_final = data.copy()\n",
        "for column in columns_to_filter:\n",
        "    data_final = filter_outliers(data_final, column)\n",
        "\n",
        "print(data_final.shape)"
      ],
      "metadata": {
        "id": "rDjcq-ahktfw",
        "colab": {
          "base_uri": "https://localhost:8080/"
        },
        "outputId": "ae8f155d-be76-4247-a049-59056277e082"
      },
      "execution_count": null,
      "outputs": [
        {
          "output_type": "stream",
          "name": "stdout",
          "text": [
            "(9664, 8)\n"
          ]
        }
      ]
    },
    {
      "cell_type": "markdown",
      "source": [
        "# TINGKAT PENYELESAIAN"
      ],
      "metadata": {
        "id": "cHem6Q4xlF9d"
      }
    },
    {
      "cell_type": "code",
      "source": [
        "data_final[\"pesan_log\"].value_counts()"
      ],
      "metadata": {
        "colab": {
          "base_uri": "https://localhost:8080/"
        },
        "id": "oax4sruS4YFm",
        "outputId": "649746c8-45bf-4589-dc50-e698273d434d"
      },
      "execution_count": null,
      "outputs": [
        {
          "output_type": "execute_result",
          "data": {
            "text/plain": [
              "Memulai Tes Penalaran Matematika                  2268\n",
              "Selesai Tes Penalaran Matematika                   613\n",
              "Memulai Tes Bidang Studi                           609\n",
              "Selesai Tes Bidang Studi                           581\n",
              "Selesai Bagian 2 Tes Kemampuan Bahasa Inggris      509\n",
              "Selesai Bagian 1 Tes Kemampuan Bahasa Inggris      509\n",
              "Selesai Bagian 3 Tes Kemampuan Bahasa Inggris      507\n",
              "Memulai Bagian 3 Tes Kemampuan Bahasa Inggris      507\n",
              "Memulai Bagian 1 Tes Kemampuan Bahasa Inggris      507\n",
              "Selesai Tes Kemampuan Bahasa Inggris               506\n",
              "Memulai Tes Kemampuan Bahasa Inggris               506\n",
              "Memulai Bagian 2 Tes Kemampuan Bahasa Inggris      505\n",
              "Memulai Tes Kemampuan Visual Spasial               238\n",
              "Selesai Tes Kemampuan Visual Spasial               224\n",
              "Selesai Tes Literasi Bahasa Indonesia              130\n",
              "Memulai Tes Literasi Bahasa Indonesia              130\n",
              "Memulai Bagian 3 Tes Literasi Bahasa Indonesia     130\n",
              "Selesai Bagian 1 Tes Literasi Bahasa Indonesia     129\n",
              "Selesai Bagian 2 Tes Literasi Bahasa Indonesia     129\n",
              "Selesai Bagian 3 Tes Literasi Bahasa Indonesia     129\n",
              "Memulai Bagian 2 Tes Literasi Bahasa Indonesia     127\n",
              "Memulai Bagian 1 Tes Literasi Bahasa Indonesia     124\n",
              "Memulai Bagian 4 Tes Kemampuan Bahasa Inggris       13\n",
              "Selesai Bagian 4 Tes Kemampuan Bahasa Inggris       12\n",
              "Selesai Bagian 4 Tes Literasi Bahasa Indonesia       5\n",
              "Memulai Bagian 4 Tes Literasi Bahasa Indonesia       5\n",
              "Selesai Bagian 6 Tes Kemampuan Bahasa Inggris        2\n",
              "Memulai Bagian 6 Tes Kemampuan Bahasa Inggris        2\n",
              "Selesai Bagian 5 Tes Kemampuan Bahasa Inggris        2\n",
              "Memulai Bagian 5 Tes Kemampuan Bahasa Inggris        2\n",
              "Selesai Bagian 7 Tes Kemampuan Bahasa Inggris        1\n",
              "Memulai Bagian 7 Tes Kemampuan Bahasa Inggris        1\n",
              "Selesai Bagian 5 Tes Literasi Bahasa Indonesia       1\n",
              "Memulai Bagian 5 Tes Literasi Bahasa Indonesia       1\n",
              "Name: pesan_log, dtype: int64"
            ]
          },
          "metadata": {},
          "execution_count": 33
        }
      ]
    },
    {
      "cell_type": "code",
      "source": [
        "# Membuat kolom baru status ujian (tanpa melihat bagian tes)\n",
        "data_final['status_ujian'] = data_final['pesan_log'].apply(lambda x: 'Mengikuti Tes Bidang Studi' if 'memulai tes bidang studi' in x.lower() else 'Selesai Tes Bidang Studi' if 'selesai tes bidang studi' in x.lower()\n",
        "                                                            else 'Mengikuti Tes Kemampuan Bahasa Inggris' if 'memulai tes kemampuan bahasa inggris' in x.lower() else 'Selesai Tes Kemampuan Bahasa Inggris' if 'selesai tes kemampuan bahasa inggris' in x.lower()\n",
        "                                                            else 'Mengikuti Tes Kemampuan Visual Spasial' if 'memulai tes kemampuan visual spasial' in x.lower() else 'Selesai Tes Kemampuan Visual Spasial' if 'selesai tes kemampuan visual spasial' in x.lower()\n",
        "                                                            else 'Mengikuti Tes Literasi Bahasa Indonesia' if 'memulai tes literasi bahasa indonesia' in x.lower() else 'Selesai Tes Literasi Bahasa Indonesia' if 'selesai tes literasi bahasa indonesia' in x.lower()\n",
        "                                                            else 'Mengikuti Tes Penalaran Matematika' if 'memulai tes penalaran matematika' in x.lower() else 'Selesai Tes Penalaran Matematika' if 'selesai tes penalaran matematika' in x.lower() else 'Lainnya' )\n",
        "\n",
        "# Menampilkan tingkat penyelesaian ujian\n",
        "tingkat_penyelesaian = data_final.groupby('status_ujian').size().reset_index(name='Jumlah')\n",
        "\n",
        "kategori_urutan = [\n",
        "    'Mengikuti Tes Bidang Studi', 'Selesai Tes Bidang Studi',\n",
        "    'Mengikuti Tes Kemampuan Bahasa Inggris', 'Selesai Tes Kemampuan Bahasa Inggris',\n",
        "    'Mengikuti Tes Kemampuan Visual Spasial', 'Selesai Tes Kemampuan Visual Spasial',\n",
        "    'Mengikuti Tes Literasi Bahasa Indonesia', 'Selesai Tes Literasi Bahasa Indonesia',\n",
        "    'Mengikuti Tes Penalaran Matematika', 'Selesai Tes Penalaran Matematika', 'Lainnya'\n",
        "]\n",
        "\n",
        "# Menggunakan pd.Categorical untuk menetapkan urutan kategori\n",
        "tingkat_penyelesaian['status_ujian'] = pd.Categorical(tingkat_penyelesaian['status_ujian'], categories=kategori_urutan, ordered=True)\n",
        "\n",
        "# Mengurutkan DataFrame berdasarkan kategori\n",
        "tingkat_penyelesaian = tingkat_penyelesaian.sort_values('status_ujian')\n",
        "\n",
        "print(tingkat_penyelesaian)"
      ],
      "metadata": {
        "id": "-jgS0JUhlJbH",
        "colab": {
          "base_uri": "https://localhost:8080/"
        },
        "outputId": "da0e1123-83ff-4323-e9ef-02fa3f98951d"
      },
      "execution_count": null,
      "outputs": [
        {
          "output_type": "stream",
          "name": "stdout",
          "text": [
            "                               status_ujian  Jumlah\n",
            "1                Mengikuti Tes Bidang Studi     609\n",
            "6                  Selesai Tes Bidang Studi     581\n",
            "2    Mengikuti Tes Kemampuan Bahasa Inggris     506\n",
            "7      Selesai Tes Kemampuan Bahasa Inggris     506\n",
            "3    Mengikuti Tes Kemampuan Visual Spasial     238\n",
            "8      Selesai Tes Kemampuan Visual Spasial     224\n",
            "4   Mengikuti Tes Literasi Bahasa Indonesia     130\n",
            "9     Selesai Tes Literasi Bahasa Indonesia     130\n",
            "5        Mengikuti Tes Penalaran Matematika    2268\n",
            "10         Selesai Tes Penalaran Matematika     613\n",
            "0                                   Lainnya    3859\n"
          ]
        }
      ]
    },
    {
      "cell_type": "code",
      "source": [
        "# Mengambil data untuk semua tes\n",
        "semua_tes = tingkat_penyelesaian[tingkat_penyelesaian['status_ujian'].str.contains('Tes Bidang Studi|Tes Kemampuan Bahasa Inggris|Tes Kemampuan Visual Spasial|Tes Literasi Bahasa Indonesia|Tes Penalaran Matematika')]"
      ],
      "metadata": {
        "id": "vInC17KkmF3I"
      },
      "execution_count": null,
      "outputs": []
    },
    {
      "cell_type": "markdown",
      "source": [
        "###**Tes Bidang Studi**"
      ],
      "metadata": {
        "id": "qZmCPwvHl9t5"
      }
    },
    {
      "cell_type": "code",
      "source": [
        "# Tingkat Penyelesaian Tes Bidang Studi\n",
        "jumlah_selesai_bidang_studi = semua_tes[semua_tes['status_ujian'] == 'Selesai Tes Bidang Studi']['Jumlah'].sum()\n",
        "jumlah_memulai_bidang_studi = semua_tes[semua_tes['status_ujian'] == 'Mengikuti Tes Bidang Studi']['Jumlah'].sum()\n",
        "persentase_penyelesaian_bidang_studi = (jumlah_selesai_bidang_studi / jumlah_memulai_bidang_studi) * 100 if jumlah_memulai_bidang_studi > 0 else 0\n",
        "\n",
        "# Menampilkan hasil\n",
        "print(\"Jumlah 'Selesai Tes Bidang Studi':\", jumlah_selesai_bidang_studi)\n",
        "print(\"Jumlah 'Mengikuti Tes Bidang Studi':\", jumlah_memulai_bidang_studi)\n",
        "print(\"Persentase Penyelesaian Tes Bidang Studi:\", persentase_penyelesaian_bidang_studi, \"%\")"
      ],
      "metadata": {
        "id": "pilVLzgal8mX",
        "colab": {
          "base_uri": "https://localhost:8080/"
        },
        "outputId": "856f4e83-d0e2-4169-8320-97997d407230"
      },
      "execution_count": null,
      "outputs": [
        {
          "output_type": "stream",
          "name": "stdout",
          "text": [
            "Jumlah 'Selesai Tes Bidang Studi': 581\n",
            "Jumlah 'Mengikuti Tes Bidang Studi': 609\n",
            "Persentase Penyelesaian Tes Bidang Studi: 95.40229885057471 %\n"
          ]
        }
      ]
    },
    {
      "cell_type": "markdown",
      "source": [
        "###**Tes Kemampuan Bahasa Inggris**"
      ],
      "metadata": {
        "id": "bwks9CGmmQMl"
      }
    },
    {
      "cell_type": "code",
      "source": [
        "# Tingkat Penyelesaian Tes Kemampuan Bahasa Inggris\n",
        "jumlah_selesai_inggris = semua_tes[semua_tes['status_ujian'] == 'Selesai Tes Kemampuan Bahasa Inggris']['Jumlah'].sum()\n",
        "jumlah_memulai_inggris = semua_tes[semua_tes['status_ujian'] == 'Mengikuti Tes Kemampuan Bahasa Inggris']['Jumlah'].sum()\n",
        "persentase_penyelesaian_inggris = (jumlah_selesai_inggris / jumlah_memulai_inggris) * 100 if jumlah_memulai_inggris > 0 else 0\n",
        "\n",
        "# Menampilkan hasil\n",
        "print(\"\\nJumlah 'Selesai Tes Kemampuan Bahasa Inggris':\", jumlah_selesai_inggris)\n",
        "print(\"Jumlah 'Mengikuti Tes Kemampuan Bahasa Inggris':\", jumlah_memulai_inggris)\n",
        "print(\"Persentase Penyelesaian Tes Kemampuan Bahasa Inggris:\", persentase_penyelesaian_inggris, \"%\")"
      ],
      "metadata": {
        "id": "j9dizicgmWO4",
        "colab": {
          "base_uri": "https://localhost:8080/"
        },
        "outputId": "ea65ec41-9df2-4cc2-a249-b7deb9e16c36"
      },
      "execution_count": null,
      "outputs": [
        {
          "output_type": "stream",
          "name": "stdout",
          "text": [
            "\n",
            "Jumlah 'Selesai Tes Kemampuan Bahasa Inggris': 506\n",
            "Jumlah 'Mengikuti Tes Kemampuan Bahasa Inggris': 506\n",
            "Persentase Penyelesaian Tes Kemampuan Bahasa Inggris: 100.0 %\n"
          ]
        }
      ]
    },
    {
      "cell_type": "markdown",
      "source": [
        "###**Tes Kemampuan Visual Spasial**"
      ],
      "metadata": {
        "id": "UrAs6Zs5mWtE"
      }
    },
    {
      "cell_type": "code",
      "source": [
        "# Tingkat Penyelesaian Tes Kemampuan Visual Spasial\n",
        "jumlah_selesai_visual = semua_tes[semua_tes['status_ujian'] == 'Selesai Tes Kemampuan Visual Spasial']['Jumlah'].sum()\n",
        "jumlah_memulai_visual = semua_tes[semua_tes['status_ujian'] == 'Mengikuti Tes Kemampuan Visual Spasial']['Jumlah'].sum()\n",
        "persentase_penyelesaian_visual = (jumlah_selesai_visual / jumlah_memulai_visual) * 100 if jumlah_memulai_visual > 0 else 0\n",
        "\n",
        "# Menampilkan hasil\n",
        "print(\"\\nJumlah 'Selesai Tes Kemampuan Visual Spasial':\", jumlah_selesai_visual)\n",
        "print(\"Jumlah 'Mengikuti Tes Kemampuan Visual Spasial':\", jumlah_memulai_visual)\n",
        "print(\"Persentase Penyelesaian Tes Kemampuan Visual Spasial:\", persentase_penyelesaian_visual, \"%\")"
      ],
      "metadata": {
        "id": "6u_iAvOamZrg",
        "colab": {
          "base_uri": "https://localhost:8080/"
        },
        "outputId": "0d17197f-e6ec-4943-b6c0-7e739e86f9cb"
      },
      "execution_count": null,
      "outputs": [
        {
          "output_type": "stream",
          "name": "stdout",
          "text": [
            "\n",
            "Jumlah 'Selesai Tes Kemampuan Visual Spasial': 224\n",
            "Jumlah 'Mengikuti Tes Kemampuan Visual Spasial': 238\n",
            "Persentase Penyelesaian Tes Kemampuan Visual Spasial: 94.11764705882352 %\n"
          ]
        }
      ]
    },
    {
      "cell_type": "markdown",
      "source": [
        "###**Tes Literasi Bahasa Indonesia**"
      ],
      "metadata": {
        "id": "SH7-aioimaFY"
      }
    },
    {
      "cell_type": "code",
      "source": [
        "# Tingkat Penyelesaian Tes Literasi Bahasa Indonesia\n",
        "jumlah_selesai_indonesia = semua_tes[semua_tes['status_ujian'] == 'Selesai Tes Literasi Bahasa Indonesia']['Jumlah'].sum()\n",
        "jumlah_memulai_indonesia = semua_tes[semua_tes['status_ujian'] == 'Mengikuti Tes Literasi Bahasa Indonesia']['Jumlah'].sum()\n",
        "persentase_penyelesaian_indonesia = (jumlah_selesai_indonesia / jumlah_memulai_indonesia) * 100 if jumlah_memulai_indonesia > 0 else 0\n",
        "\n",
        "# Menampilkan hasil\n",
        "print(\"\\nJumlah 'Selesai Tes Literasi Bahasa Indonesia':\", jumlah_selesai_indonesia)\n",
        "print(\"Jumlah 'Mengikuti Tes Literasi Bahasa Indonesia':\", jumlah_memulai_indonesia)\n",
        "print(\"Persentase Penyelesaian Tes Literasi Bahasa Indonesia:\", persentase_penyelesaian_indonesia, \"%\")"
      ],
      "metadata": {
        "id": "-SYjltmmmdfU",
        "colab": {
          "base_uri": "https://localhost:8080/"
        },
        "outputId": "c7c2a107-fce2-4749-f389-16dc8216df02"
      },
      "execution_count": null,
      "outputs": [
        {
          "output_type": "stream",
          "name": "stdout",
          "text": [
            "\n",
            "Jumlah 'Selesai Tes Literasi Bahasa Indonesia': 130\n",
            "Jumlah 'Mengikuti Tes Literasi Bahasa Indonesia': 130\n",
            "Persentase Penyelesaian Tes Literasi Bahasa Indonesia: 100.0 %\n"
          ]
        }
      ]
    },
    {
      "cell_type": "markdown",
      "source": [
        "###**Tes Penalaran Matematika**"
      ],
      "metadata": {
        "id": "QSUV4rZfmd7t"
      }
    },
    {
      "cell_type": "code",
      "source": [
        "# Tingkat Penyelesaian Tes Penalaran Matematika\n",
        "jumlah_selesai_penalaran = semua_tes[semua_tes['status_ujian'] == 'Selesai Tes Penalaran Matematika']['Jumlah'].sum()\n",
        "jumlah_memulai_penalaran = semua_tes[semua_tes['status_ujian'] == 'Mengikuti Tes Penalaran Matematika']['Jumlah'].sum()\n",
        "persentase_penyelesaian_penalaran = (jumlah_selesai_penalaran / jumlah_memulai_penalaran) * 100 if jumlah_memulai_penalaran > 0 else 0\n",
        "\n",
        "# Menampilkan hasil\n",
        "print(\"\\nJumlah 'Selesai Tes Penalaran Matematika':\", jumlah_selesai_penalaran)\n",
        "print(\"Jumlah 'Mengikuti Tes Penalaran Matematika':\", jumlah_memulai_penalaran)\n",
        "print(\"Persentase Penyelesaian Tes Penalaran Matematika:\", persentase_penyelesaian_penalaran, \"%\")"
      ],
      "metadata": {
        "id": "hjy12Do3mg2L",
        "colab": {
          "base_uri": "https://localhost:8080/"
        },
        "outputId": "3fcee0fd-d169-45d0-9035-1ed0247e6554"
      },
      "execution_count": null,
      "outputs": [
        {
          "output_type": "stream",
          "name": "stdout",
          "text": [
            "\n",
            "Jumlah 'Selesai Tes Penalaran Matematika': 613\n",
            "Jumlah 'Mengikuti Tes Penalaran Matematika': 2268\n",
            "Persentase Penyelesaian Tes Penalaran Matematika: 27.028218694885364 %\n"
          ]
        }
      ]
    },
    {
      "cell_type": "markdown",
      "source": [
        "# 2. Bagaimana gambaran umum tentang tingkat penyelesaian ujian? Apakah terdapat perbedaan tingkat penyelesaian berdasarkan komponen tes?"
      ],
      "metadata": {
        "id": "cTwqi5E9NNvR"
      }
    },
    {
      "cell_type": "code",
      "source": [
        "# Filter data hanya untuk Tes kemampuan bahasa inggris\n",
        "semua_tes = semua_tes[semua_tes['status_ujian'].str.contains('Tes Bidang Studi|Tes Kemampuan Bahasa Inggris|Tes Kemampuan Visual Spasial|Tes Literasi Bahasa Indonesia|Tes Penalaran Matematika')]\n",
        "\n",
        "# Membuat daftar warna berdasarkan status ujian\n",
        "colour = ['red' if 'Mengikuti' in status else 'green' for status in semua_tes['status_ujian']]\n",
        "\n",
        "# Membuat diagram batang\n",
        "plt.figure(figsize=(10, 6))\n",
        "plt.bar(semua_tes['status_ujian'], semua_tes['Jumlah'], color=colour)\n",
        "plt.title('Tingkat Penyelesaian Ujian - Semua Tes')\n",
        "plt.xlabel('Status Ujian')\n",
        "plt.ylabel('Jumlah')\n",
        "plt.xticks(rotation=45, ha='right')  # Optional: Rotasi label sumbu x agar lebih mudah dibaca\n",
        "plt.tight_layout()\n",
        "plt.show()\n"
      ],
      "metadata": {
        "colab": {
          "base_uri": "https://localhost:8080/",
          "height": 607
        },
        "id": "GVFoc1N_ItK9",
        "outputId": "39befe0f-6f84-446c-b5d9-7d6b2757a69f"
      },
      "execution_count": null,
      "outputs": [
        {
          "output_type": "display_data",
          "data": {
            "text/plain": [
              "<Figure size 1000x600 with 1 Axes>"
            ],
            "image/png": "[encoded data removed]"
          },
          "metadata": {}
        }
      ]
    },
    {
      "cell_type": "markdown",
      "source": [
        "# 3. Bagaimana dengan hari dan waktu pengerjaan rangkaian tes? Apakah calon mahasiswa memiliki preferensi tertentu?"
      ],
      "metadata": {
        "id": "zvTcKvXlQiEk"
      }
    },
    {
      "cell_type": "code",
      "source": [
        "# Melihat waktu mahasiswa mulai mengerjakan tes\n",
        "timestamp_memulai = data_final[data_final['pesan_log'].astype(str).str.contains('Memulai Tes Bidang Studi|Memulai Tes Kemampuan Bahasa Inggris|Memulai Tes Kemampuan Visual Spasial|Memulai Tes Literasi Bahasa Indonesia|Memulai Tes Penalaran Matematika', na=False)]['timestamp_log']\n",
        "\n",
        "# Ambil bagian waktu (time) dari timestamp\n",
        "time_only = timestamp_memulai.dt.time\n",
        "time_only_sorted = time_only.sort_values()\n",
        "\n",
        "# Menampilkan hasil\n",
        "print(time_only_sorted)"
      ],
      "metadata": {
        "colab": {
          "base_uri": "https://localhost:8080/"
        },
        "id": "FLuj-ybq9B-L",
        "outputId": "17c03a73-2c1d-47f3-8431-1c1336121e8c"
      },
      "execution_count": null,
      "outputs": [
        {
          "output_type": "stream",
          "name": "stdout",
          "text": [
            "6671    00:01:19\n",
            "1083    00:04:08\n",
            "4465    00:07:31\n",
            "8981    00:08:18\n",
            "5055    00:15:35\n",
            "          ...   \n",
            "9420    23:50:07\n",
            "5949    23:51:01\n",
            "5981    23:54:15\n",
            "7484    23:56:03\n",
            "9609    23:59:06\n",
            "Name: timestamp_log, Length: 3751, dtype: object\n"
          ]
        }
      ]
    },
    {
      "cell_type": "code",
      "source": [
        "# Membuat interval waktu per 3 jam\n",
        "df_temp = pd.DataFrame({'time_only_sorted': time_only_sorted})\n",
        "\n",
        "# Ekstraksi jam dari waktu\n",
        "df_temp['hour'] = df_temp['time_only_sorted'].apply(lambda x: x.hour)\n",
        "\n",
        "# Membuat interval tiap 3 jam\n",
        "bins = range(0, 25, 3)\n",
        "\n",
        "# Menghitung jumlah data dalam setiap interval\n",
        "interval_counts = pd.cut(df_temp['hour'], bins).value_counts()\n",
        "\n",
        "most_common_interval = interval_counts.idxmax()\n",
        "print(f\"Interval dengan jumlah waktu terbanyak: {most_common_interval}\")\n",
        "print(f\"Jumlah data dalam interval terbanyak: {interval_counts[most_common_interval]}\")\n",
        "\n",
        "# Menampilkan hasil\n",
        "print(interval_counts)\n",
        "\n",
        "##jawaban yang benar ada di dashboard"
      ],
      "metadata": {
        "colab": {
          "base_uri": "https://localhost:8080/"
        },
        "id": "lLVhYiRfpdgU",
        "outputId": "1a8551ef-3f37-4b51-eac0-1c283f447f32"
      },
      "execution_count": null,
      "outputs": [
        {
          "output_type": "stream",
          "name": "stdout",
          "text": [
            "Interval dengan jumlah waktu terbanyak: (18, 21]\n",
            "Jumlah data dalam interval terbanyak: 2084\n",
            "(18, 21]    2084\n",
            "(12, 15]     425\n",
            "(9, 12]      375\n",
            "(6, 9]       333\n",
            "(15, 18]     317\n",
            "(21, 24]     143\n",
            "(3, 6]        34\n",
            "(0, 3]        19\n",
            "Name: hour, dtype: int64\n"
          ]
        }
      ]
    },
    {
      "cell_type": "markdown",
      "source": [
        "# 4. Apakah jumlah tes dalam rangkaian ujian mempengaruhi tingkat penyelesaian ujian oleh calon mahasiswa?"
      ],
      "metadata": {
        "id": "o82m_UP5RBqV"
      }
    },
    {
      "cell_type": "code",
      "source": [
        "# Mengonversi kolom timestamp menjadi tipe data waktu (datetime).\n",
        "data_final['ujian_dimulai'] = pd.to_datetime(data_final['ujian_dimulai'])\n",
        "data_final['ujian_ditutup'] = pd.to_datetime(data_final['ujian_ditutup'])\n",
        "data_final['timestamp_log'] = pd.to_datetime(data_final['timestamp_log'])"
      ],
      "metadata": {
        "id": "29V5JG4nmkyG"
      },
      "execution_count": null,
      "outputs": []
    },
    {
      "cell_type": "code",
      "source": [
        "# Menghitung rata-rata durasi pengerjaan tes untuk setiap jenis tes.\n",
        "average_duration_per_test = data_final.groupby('jenis_tes')['durasi_tes'].mean()\n",
        "print(average_duration_per_test)"
      ],
      "metadata": {
        "colab": {
          "base_uri": "https://localhost:8080/"
        },
        "id": "vs_zHgMGmk9A",
        "outputId": "1e6760f0-ab90-468d-eb89-cdd79bfdbe2d"
      },
      "execution_count": null,
      "outputs": [
        {
          "output_type": "stream",
          "name": "stdout",
          "text": [
            "jenis_tes\n",
            "Bidang Studi                 187183.802599\n",
            "Kemampuan Bahasa Inggris     179784.771287\n",
            "Kemampuan Visual Spasial     315224.586626\n",
            "Literasi Bahasa Indonesia    206878.797828\n",
            "Penalaran Matematika         192769.037313\n",
            "Name: durasi_tes, dtype: float64\n"
          ]
        }
      ]
    },
    {
      "cell_type": "code",
      "source": [
        "# Penggantian nilai NaN dengan rata-rata\n",
        "data_final['durasi_tes'].fillna(data_final['durasi_tes'].mean(), inplace=True)\n",
        "\n",
        "# Cek Tipe Data\n",
        "data_final['durasi_tes'] = pd.to_numeric(data['durasi_tes'], errors='coerce')\n",
        "\n",
        "# Penghapusan Baris dengan Nilai NaN\n",
        "data_final = data_final.dropna(subset=['durasi_tes'])"
      ],
      "metadata": {
        "id": "n6ADE-7nrPpU"
      },
      "execution_count": null,
      "outputs": []
    },
    {
      "cell_type": "code",
      "source": [
        "descriptive_stats = data_final.groupby('jenis_tes')['durasi_tes'].describe()\n",
        "print(descriptive_stats)"
      ],
      "metadata": {
        "colab": {
          "base_uri": "https://localhost:8080/"
        },
        "id": "uBBxNwuvvD3y",
        "outputId": "1d8228d4-0db2-4da1-fcfc-1673061231f9"
      },
      "execution_count": null,
      "outputs": [
        {
          "output_type": "stream",
          "name": "stdout",
          "text": [
            "                            count           mean            std     min  \\\n",
            "jenis_tes                                                                 \n",
            "Bidang Studi               1616.0  187183.802599  377321.876908     0.0   \n",
            "Kemampuan Bahasa Inggris   4451.0  179784.771287  308119.532594     0.0   \n",
            "Kemampuan Visual Spasial    658.0  315224.586626  528725.672322     0.0   \n",
            "Literasi Bahasa Indonesia  1197.0  206878.797828  436042.119554  1039.0   \n",
            "Penalaran Matematika       1742.0  192769.037313  348646.676342     0.0   \n",
            "\n",
            "                               25%       50%       75%        max  \n",
            "jenis_tes                                                          \n",
            "Bidang Studi               82800.0  115140.0  174925.0  5349600.0  \n",
            "Kemampuan Bahasa Inggris   86400.0  144000.0  175195.0  5349600.0  \n",
            "Kemampuan Visual Spasial   86400.0  121800.0  233940.0  2592060.0  \n",
            "Literasi Bahasa Indonesia  54000.0   90000.0  172800.0  2592000.0  \n",
            "Penalaran Matematika       86400.0  125430.0  186465.0  5349600.0  \n"
          ]
        }
      ]
    },
    {
      "cell_type": "code",
      "source": [
        "# Membandingkan rata-rata durasi pengerjaan tes antar jenis tes.\n",
        "h_statistic, p_value_kruskal = kruskal(data_final['durasi_tes'][data_final['jenis_tes'] == 'tes1'],\n",
        "                                        data_final['durasi_tes'][data_final['jenis_tes'] == 'tes2'],\n",
        "                                        data_final['durasi_tes'][data_final['jenis_tes'] == 'tes3'],\n",
        "                                        data_final['durasi_tes'][data_final['jenis_tes'] == 'tes4'],\n",
        "                                        data_final['durasi_tes'][data_final['jenis_tes'] == 'tes5'])"
      ],
      "metadata": {
        "id": "VB2KxTLOmlGv"
      },
      "execution_count": null,
      "outputs": []
    },
    {
      "cell_type": "code",
      "source": [
        "# Visualisasi rata-rata durasi pengerjaan tes\n",
        "plt.figure(figsize=(10, 6))\n",
        "average_duration_per_test.plot(kind='bar', color='skyblue')\n",
        "plt.title('Rata-rata Durasi Pengerjaan Tes')\n",
        "plt.xlabel('Jenis Tes')\n",
        "plt.ylabel('Durasi Rata-rata (detik)')\n",
        "plt.show()"
      ],
      "metadata": {
        "colab": {
          "base_uri": "https://localhost:8080/",
          "height": 745
        },
        "id": "onjt6PCrQcNi",
        "outputId": "272924b0-ce05-4a81-eab0-1eae825abe09"
      },
      "execution_count": null,
      "outputs": [
        {
          "output_type": "display_data",
          "data": {
            "text/plain": [
              "<Figure size 1000x600 with 1 Axes>"
            ],
            "image/png": "[encoded data removed]"
          },
          "metadata": {}
        }
      ]
    },
    {
      "cell_type": "code",
      "source": [
        "# membuat data source baru di excel\n",
        "df = pd.read_excel('Kesimpulan.xlsx')"
      ],
      "metadata": {
        "id": "BB-NVuKT2Y6t"
      },
      "execution_count": null,
      "outputs": []
    },
    {
      "cell_type": "code",
      "source": [
        "df.head()"
      ],
      "metadata": {
        "colab": {
          "base_uri": "https://localhost:8080/",
          "height": 206
        },
        "id": "vlkmUTET2aDb",
        "outputId": "868be756-d672-40d1-f638-64c7afbaf067"
      },
      "execution_count": null,
      "outputs": [
        {
          "output_type": "execute_result",
          "data": {
            "text/plain": [
              "                   jenis_tes  jumlah_bagian_tes  mengikuti  selesai  \\\n",
              "0               Bidang Studi                  1        609      581   \n",
              "1   Kemampuan Bahasa Inggris                  7        506      506   \n",
              "2   Kemampuan Visual Spasial                  1        238      224   \n",
              "3  Literasi Bahasa Indonesia                  6        130      130   \n",
              "4       Penalaran Matematika                  1       2268      613   \n",
              "\n",
              "   tingkat_penyelesaian  \n",
              "0             95.402299  \n",
              "1            100.000000  \n",
              "2             94.117647  \n",
              "3            100.000000  \n",
              "4             27.028219  "
            ],
            "text/html": [
              "\n",
              "  <div id=\"df-34952e89-a0b3-4528-8c75-b479d286333f\" class=\"colab-df-container\">\n",
              "    <div>\n",
              "<style scoped>\n",
              "    .dataframe tbody tr th:only-of-type {\n",
              "        vertical-align: middle;\n",
              "    }\n",
              "\n",
              "    .dataframe tbody tr th {\n",
              "        vertical-align: top;\n",
              "    }\n",
              "\n",
              "    .dataframe thead th {\n",
              "        text-align: right;\n",
              "    }\n",
              "</style>\n",
              "<table border=\"1\" class=\"dataframe\">\n",
              "  <thead>\n",
              "    <tr style=\"text-align: right;\">\n",
              "      <th></th>\n",
              "      <th>jenis_tes</th>\n",
              "      <th>jumlah_bagian_tes</th>\n",
              "      <th>mengikuti</th>\n",
              "      <th>selesai</th>\n",
              "      <th>tingkat_penyelesaian</th>\n",
              "    </tr>\n",
              "  </thead>\n",
              "  <tbody>\n",
              "    <tr>\n",
              "      <th>0</th>\n",
              "      <td>Bidang Studi</td>\n",
              "      <td>1</td>\n",
              "      <td>609</td>\n",
              "      <td>581</td>\n",
              "      <td>95.402299</td>\n",
              "    </tr>\n",
              "    <tr>\n",
              "      <th>1</th>\n",
              "      <td>Kemampuan Bahasa Inggris</td>\n",
              "      <td>7</td>\n",
              "      <td>506</td>\n",
              "      <td>506</td>\n",
              "      <td>100.000000</td>\n",
              "    </tr>\n",
              "    <tr>\n",
              "      <th>2</th>\n",
              "      <td>Kemampuan Visual Spasial</td>\n",
              "      <td>1</td>\n",
              "      <td>238</td>\n",
              "      <td>224</td>\n",
              "      <td>94.117647</td>\n",
              "    </tr>\n",
              "    <tr>\n",
              "      <th>3</th>\n",
              "      <td>Literasi Bahasa Indonesia</td>\n",
              "      <td>6</td>\n",
              "      <td>130</td>\n",
              "      <td>130</td>\n",
              "      <td>100.000000</td>\n",
              "    </tr>\n",
              "    <tr>\n",
              "      <th>4</th>\n",
              "      <td>Penalaran Matematika</td>\n",
              "      <td>1</td>\n",
              "      <td>2268</td>\n",
              "      <td>613</td>\n",
              "      <td>27.028219</td>\n",
              "    </tr>\n",
              "  </tbody>\n",
              "</table>\n",
              "</div>\n",
              "    <div class=\"colab-df-buttons\">\n",
              "\n",
              "  <div class=\"colab-df-container\">\n",
              "    <button class=\"colab-df-convert\" onclick=\"convertToInteractive('df-34952e89-a0b3-4528-8c75-b479d286333f')\"\n",
              "            title=\"Convert this dataframe to an interactive table.\"\n",
              "            style=\"display:none;\">\n",
              "\n",
              "  <svg xmlns=\"http://www.w3.org/2000/svg\" height=\"24px\" viewBox=\"0 -960 960 960\">\n",
              "    <path d=\"M120-120v-720h720v720H120Zm60-500h600v-160H180v160Zm220 220h160v-160H400v160Zm0 220h160v-160H400v160ZM180-400h160v-160H180v160Zm440 0h160v-160H620v160ZM180-180h160v-160H180v160Zm440 0h160v-160H620v160Z\"/>\n",
              "  </svg>\n",
              "    </button>\n",
              "\n",
              "  <style>\n",
              "    .colab-df-container {\n",
              "      display:flex;\n",
              "      gap: 12px;\n",
              "    }\n",
              "\n",
              "    .colab-df-convert {\n",
              "      background-color: #E8F0FE;\n",
              "      border: none;\n",
              "      border-radius: 50%;\n",
              "      cursor: pointer;\n",
              "      display: none;\n",
              "      fill: #1967D2;\n",
              "      height: 32px;\n",
              "      padding: 0 0 0 0;\n",
              "      width: 32px;\n",
              "    }\n",
              "\n",
              "    .colab-df-convert:hover {\n",
              "      background-color: #E2EBFA;\n",
              "      box-shadow: 0px 1px 2px rgba(60, 64, 67, 0.3), 0px 1px 3px 1px rgba(60, 64, 67, 0.15);\n",
              "      fill: #174EA6;\n",
              "    }\n",
              "\n",
              "    .colab-df-buttons div {\n",
              "      margin-bottom: 4px;\n",
              "    }\n",
              "\n",
              "    [theme=dark] .colab-df-convert {\n",
              "      background-color: #3B4455;\n",
              "      fill: #D2E3FC;\n",
              "    }\n",
              "\n",
              "    [theme=dark] .colab-df-convert:hover {\n",
              "      background-color: #434B5C;\n",
              "      box-shadow: 0px 1px 3px 1px rgba(0, 0, 0, 0.15);\n",
              "      filter: drop-shadow(0px 1px 2px rgba(0, 0, 0, 0.3));\n",
              "      fill: #FFFFFF;\n",
              "    }\n",
              "  </style>\n",
              "\n",
              "    <script>\n",
              "      const buttonEl =\n",
              "        document.querySelector('#df-34952e89-a0b3-4528-8c75-b479d286333f button.colab-df-convert');\n",
              "      buttonEl.style.display =\n",
              "        google.colab.kernel.accessAllowed ? 'block' : 'none';\n",
              "\n",
              "      async function convertToInteractive(key) {\n",
              "        const element = document.querySelector('#df-34952e89-a0b3-4528-8c75-b479d286333f');\n",
              "        const dataTable =\n",
              "          await google.colab.kernel.invokeFunction('convertToInteractive',\n",
              "                                                    [key], {});\n",
              "        if (!dataTable) return;\n",
              "\n",
              "        const docLinkHtml = 'Like what you see? Visit the ' +\n",
              "          '<a target=\"_blank\" href=https://colab.research.google.com/notebooks/data_table.ipynb>data table notebook</a>'\n",
              "          + ' to learn more about interactive tables.';\n",
              "        element.innerHTML = '';\n",
              "        dataTable['output_type'] = 'display_data';\n",
              "        await google.colab.output.renderOutput(dataTable, element);\n",
              "        const docLink = document.createElement('div');\n",
              "        docLink.innerHTML = docLinkHtml;\n",
              "        element.appendChild(docLink);\n",
              "      }\n",
              "    </script>\n",
              "  </div>\n",
              "\n",
              "\n",
              "<div id=\"df-14daa30f-c7b3-4065-92ff-470c77f47761\">\n",
              "  <button class=\"colab-df-quickchart\" onclick=\"quickchart('df-14daa30f-c7b3-4065-92ff-470c77f47761')\"\n",
              "            title=\"Suggest charts\"\n",
              "            style=\"display:none;\">\n",
              "\n",
              "<svg xmlns=\"http://www.w3.org/2000/svg\" height=\"24px\"viewBox=\"0 0 24 24\"\n",
              "     width=\"24px\">\n",
              "    <g>\n",
              "        <path d=\"M19 3H5c-1.1 0-2 .9-2 2v14c0 1.1.9 2 2 2h14c1.1 0 2-.9 2-2V5c0-1.1-.9-2-2-2zM9 17H7v-7h2v7zm4 0h-2V7h2v10zm4 0h-2v-4h2v4z\"/>\n",
              "    </g>\n",
              "</svg>\n",
              "  </button>\n",
              "\n",
              "<style>\n",
              "  .colab-df-quickchart {\n",
              "      --bg-color: #E8F0FE;\n",
              "      --fill-color: #1967D2;\n",
              "      --hover-bg-color: #E2EBFA;\n",
              "      --hover-fill-color: #174EA6;\n",
              "      --disabled-fill-color: #AAA;\n",
              "      --disabled-bg-color: #DDD;\n",
              "  }\n",
              "\n",
              "  [theme=dark] .colab-df-quickchart {\n",
              "      --bg-color: #3B4455;\n",
              "      --fill-color: #D2E3FC;\n",
              "      --hover-bg-color: #434B5C;\n",
              "      --hover-fill-color: #FFFFFF;\n",
              "      --disabled-bg-color: #3B4455;\n",
              "      --disabled-fill-color: #666;\n",
              "  }\n",
              "\n",
              "  .colab-df-quickchart {\n",
              "    background-color: var(--bg-color);\n",
              "    border: none;\n",
              "    border-radius: 50%;\n",
              "    cursor: pointer;\n",
              "    display: none;\n",
              "    fill: var(--fill-color);\n",
              "    height: 32px;\n",
              "    padding: 0;\n",
              "    width: 32px;\n",
              "  }\n",
              "\n",
              "  .colab-df-quickchart:hover {\n",
              "    background-color: var(--hover-bg-color);\n",
              "    box-shadow: 0 1px 2px rgba(60, 64, 67, 0.3), 0 1px 3px 1px rgba(60, 64, 67, 0.15);\n",
              "    fill: var(--button-hover-fill-color);\n",
              "  }\n",
              "\n",
              "  .colab-df-quickchart-complete:disabled,\n",
              "  .colab-df-quickchart-complete:disabled:hover {\n",
              "    background-color: var(--disabled-bg-color);\n",
              "    fill: var(--disabled-fill-color);\n",
              "    box-shadow: none;\n",
              "  }\n",
              "\n",
              "  .colab-df-spinner {\n",
              "    border: 2px solid var(--fill-color);\n",
              "    border-color: transparent;\n",
              "    border-bottom-color: var(--fill-color);\n",
              "    animation:\n",
              "      spin 1s steps(1) infinite;\n",
              "  }\n",
              "\n",
              "  @keyframes spin {\n",
              "    0% {\n",
              "      border-color: transparent;\n",
              "      border-bottom-color: var(--fill-color);\n",
              "      border-left-color: var(--fill-color);\n",
              "    }\n",
              "    20% {\n",
              "      border-color: transparent;\n",
              "      border-left-color: var(--fill-color);\n",
              "      border-top-color: var(--fill-color);\n",
              "    }\n",
              "    30% {\n",
              "      border-color: transparent;\n",
              "      border-left-color: var(--fill-color);\n",
              "      border-top-color: var(--fill-color);\n",
              "      border-right-color: var(--fill-color);\n",
              "    }\n",
              "    40% {\n",
              "      border-color: transparent;\n",
              "      border-right-color: var(--fill-color);\n",
              "      border-top-color: var(--fill-color);\n",
              "    }\n",
              "    60% {\n",
              "      border-color: transparent;\n",
              "      border-right-color: var(--fill-color);\n",
              "    }\n",
              "    80% {\n",
              "      border-color: transparent;\n",
              "      border-right-color: var(--fill-color);\n",
              "      border-bottom-color: var(--fill-color);\n",
              "    }\n",
              "    90% {\n",
              "      border-color: transparent;\n",
              "      border-bottom-color: var(--fill-color);\n",
              "    }\n",
              "  }\n",
              "</style>\n",
              "\n",
              "  <script>\n",
              "    async function quickchart(key) {\n",
              "      const quickchartButtonEl =\n",
              "        document.querySelector('#' + key + ' button');\n",
              "      quickchartButtonEl.disabled = true;  // To prevent multiple clicks.\n",
              "      quickchartButtonEl.classList.add('colab-df-spinner');\n",
              "      try {\n",
              "        const charts = await google.colab.kernel.invokeFunction(\n",
              "            'suggestCharts', [key], {});\n",
              "      } catch (error) {\n",
              "        console.error('Error during call to suggestCharts:', error);\n",
              "      }\n",
              "      quickchartButtonEl.classList.remove('colab-df-spinner');\n",
              "      quickchartButtonEl.classList.add('colab-df-quickchart-complete');\n",
              "    }\n",
              "    (() => {\n",
              "      let quickchartButtonEl =\n",
              "        document.querySelector('#df-14daa30f-c7b3-4065-92ff-470c77f47761 button');\n",
              "      quickchartButtonEl.style.display =\n",
              "        google.colab.kernel.accessAllowed ? 'block' : 'none';\n",
              "    })();\n",
              "  </script>\n",
              "</div>\n",
              "    </div>\n",
              "  </div>\n"
            ]
          },
          "metadata": {},
          "execution_count": 51
        }
      ]
    },
    {
      "cell_type": "code",
      "source": [
        "# membuat korelasi\n",
        "correlation = df['jumlah_bagian_tes'].corr(df['tingkat_penyelesaian'])\n",
        "\n",
        "# menampilkan hasil\n",
        "print(f\"Korelasi antara jumlah_bagian_tes dan tingkat_penyelesaian: {correlation}\")"
      ],
      "metadata": {
        "colab": {
          "base_uri": "https://localhost:8080/"
        },
        "id": "MrSV88lU2cwc",
        "outputId": "6b8778c0-3154-4053-896e-8b218c5733ec"
      },
      "execution_count": null,
      "outputs": [
        {
          "output_type": "stream",
          "name": "stdout",
          "text": [
            "Korelasi antara jumlah_bagian_tes dan tingkat_penyelesaian: 0.4792576644729291\n"
          ]
        }
      ]
    },
    {
      "cell_type": "markdown",
      "source": [
        "# 5. Apa saja rekomendasi terkait jumlah rangkaian tes, jenis tes yang digunakan dan periode waktu ujian yang dapat diberikan kepada universitas untuk menaikkan tingkat penyelesaian ujian? *Jawaban ada di DECK*"
      ],
      "metadata": {
        "id": "WXiJOIwBRJZ8"
      }
    },
    {
      "cell_type": "code",
      "source": [
        "# JAWABAN DI DECK"
      ],
      "metadata": {
        "id": "oRnIPuicfer7"
      },
      "execution_count": null,
      "outputs": []
    }
  ]
}